{
  "nbformat": 4,
  "nbformat_minor": 0,
  "metadata": {
    "colab": {
      "provenance": []
    },
    "kernelspec": {
      "name": "python3",
      "display_name": "Python 3"
    },
    "language_info": {
      "name": "python"
    }
  },
  "cells": [
    {
      "cell_type": "code",
      "execution_count": null,
      "metadata": {
        "colab": {
          "base_uri": "https://localhost:8080/"
        },
        "id": "Qv8azhcUUdQL",
        "outputId": "74f24863-05ee-4e28-e037-c6cf93a851c4"
      },
      "outputs": [
        {
          "output_type": "stream",
          "name": "stdout",
          "text": [
            "Successfully installed japanize-matplotlib-1.1.3\n",
            "Successfully installed torchviz-0.0.2\n",
            "Successfully installed torchinfo-1.7.1\n"
          ]
        }
      ],
      "source": [
        "!pip install japanize_matplotlib | tail -n 1\n",
        "!pip install torchviz | tail -n 1\n",
        "!pip install torchinfo | tail -n 1\n"
      ]
    },
    {
      "cell_type": "code",
      "source": [
        "import numpy as np\n",
        "import pandas as pd\n",
        "import matplotlib.pyplot as plt\n",
        "import seaborn as sns\n",
        "import japanize_matplotlib\n",
        "import torch\n",
        "import torch.nn as nn\n",
        "import torch.optim as optim\n",
        "from torchinfo import summary\n",
        "from torchviz import make_dot\n",
        "from sklearn.model_selection import train_test_split\n"
      ],
      "metadata": {
        "id": "ApaVbcALUjS0"
      },
      "execution_count": null,
      "outputs": []
    },
    {
      "cell_type": "code",
      "source": [
        "df = pd.read_csv(\"/content/drive/MyDrive/221001/winequality-red.csv\")"
      ],
      "metadata": {
        "id": "oTdrSHL-UsN0"
      },
      "execution_count": null,
      "outputs": []
    },
    {
      "cell_type": "code",
      "source": [
        "df.head()"
      ],
      "metadata": {
        "colab": {
          "base_uri": "https://localhost:8080/",
          "height": 305
        },
        "id": "DVVp1PcoUt-p",
        "outputId": "19062efa-51e5-4ec3-ece3-77533d0e2165"
      },
      "execution_count": null,
      "outputs": [
        {
          "output_type": "execute_result",
          "data": {
            "text/plain": [
              "   fixed acidity  volatile acidity  citric acid  residual sugar  chlorides  \\\n",
              "0            7.4              0.70         0.00             1.9      0.076   \n",
              "1            7.8              0.88         0.00             2.6      0.098   \n",
              "2            7.8              0.76         0.04             2.3      0.092   \n",
              "3           11.2              0.28         0.56             1.9      0.075   \n",
              "4            7.4              0.70         0.00             1.9      0.076   \n",
              "\n",
              "   free sulfur dioxide  total sulfur dioxide  density    pH  sulphates  \\\n",
              "0                 11.0                  34.0   0.9978  3.51       0.56   \n",
              "1                 25.0                  67.0   0.9968  3.20       0.68   \n",
              "2                 15.0                  54.0   0.9970  3.26       0.65   \n",
              "3                 17.0                  60.0   0.9980  3.16       0.58   \n",
              "4                 11.0                  34.0   0.9978  3.51       0.56   \n",
              "\n",
              "   alcohol  quality  \n",
              "0      9.4        5  \n",
              "1      9.8        5  \n",
              "2      9.8        5  \n",
              "3      9.8        6  \n",
              "4      9.4        5  "
            ],
            "text/html": [
              "\n",
              "  <div id=\"df-6e2e4fbc-c438-4ff9-b8cf-3b65cd297b8a\">\n",
              "    <div class=\"colab-df-container\">\n",
              "      <div>\n",
              "<style scoped>\n",
              "    .dataframe tbody tr th:only-of-type {\n",
              "        vertical-align: middle;\n",
              "    }\n",
              "\n",
              "    .dataframe tbody tr th {\n",
              "        vertical-align: top;\n",
              "    }\n",
              "\n",
              "    .dataframe thead th {\n",
              "        text-align: right;\n",
              "    }\n",
              "</style>\n",
              "<table border=\"1\" class=\"dataframe\">\n",
              "  <thead>\n",
              "    <tr style=\"text-align: right;\">\n",
              "      <th></th>\n",
              "      <th>fixed acidity</th>\n",
              "      <th>volatile acidity</th>\n",
              "      <th>citric acid</th>\n",
              "      <th>residual sugar</th>\n",
              "      <th>chlorides</th>\n",
              "      <th>free sulfur dioxide</th>\n",
              "      <th>total sulfur dioxide</th>\n",
              "      <th>density</th>\n",
              "      <th>pH</th>\n",
              "      <th>sulphates</th>\n",
              "      <th>alcohol</th>\n",
              "      <th>quality</th>\n",
              "    </tr>\n",
              "  </thead>\n",
              "  <tbody>\n",
              "    <tr>\n",
              "      <th>0</th>\n",
              "      <td>7.4</td>\n",
              "      <td>0.70</td>\n",
              "      <td>0.00</td>\n",
              "      <td>1.9</td>\n",
              "      <td>0.076</td>\n",
              "      <td>11.0</td>\n",
              "      <td>34.0</td>\n",
              "      <td>0.9978</td>\n",
              "      <td>3.51</td>\n",
              "      <td>0.56</td>\n",
              "      <td>9.4</td>\n",
              "      <td>5</td>\n",
              "    </tr>\n",
              "    <tr>\n",
              "      <th>1</th>\n",
              "      <td>7.8</td>\n",
              "      <td>0.88</td>\n",
              "      <td>0.00</td>\n",
              "      <td>2.6</td>\n",
              "      <td>0.098</td>\n",
              "      <td>25.0</td>\n",
              "      <td>67.0</td>\n",
              "      <td>0.9968</td>\n",
              "      <td>3.20</td>\n",
              "      <td>0.68</td>\n",
              "      <td>9.8</td>\n",
              "      <td>5</td>\n",
              "    </tr>\n",
              "    <tr>\n",
              "      <th>2</th>\n",
              "      <td>7.8</td>\n",
              "      <td>0.76</td>\n",
              "      <td>0.04</td>\n",
              "      <td>2.3</td>\n",
              "      <td>0.092</td>\n",
              "      <td>15.0</td>\n",
              "      <td>54.0</td>\n",
              "      <td>0.9970</td>\n",
              "      <td>3.26</td>\n",
              "      <td>0.65</td>\n",
              "      <td>9.8</td>\n",
              "      <td>5</td>\n",
              "    </tr>\n",
              "    <tr>\n",
              "      <th>3</th>\n",
              "      <td>11.2</td>\n",
              "      <td>0.28</td>\n",
              "      <td>0.56</td>\n",
              "      <td>1.9</td>\n",
              "      <td>0.075</td>\n",
              "      <td>17.0</td>\n",
              "      <td>60.0</td>\n",
              "      <td>0.9980</td>\n",
              "      <td>3.16</td>\n",
              "      <td>0.58</td>\n",
              "      <td>9.8</td>\n",
              "      <td>6</td>\n",
              "    </tr>\n",
              "    <tr>\n",
              "      <th>4</th>\n",
              "      <td>7.4</td>\n",
              "      <td>0.70</td>\n",
              "      <td>0.00</td>\n",
              "      <td>1.9</td>\n",
              "      <td>0.076</td>\n",
              "      <td>11.0</td>\n",
              "      <td>34.0</td>\n",
              "      <td>0.9978</td>\n",
              "      <td>3.51</td>\n",
              "      <td>0.56</td>\n",
              "      <td>9.4</td>\n",
              "      <td>5</td>\n",
              "    </tr>\n",
              "  </tbody>\n",
              "</table>\n",
              "</div>\n",
              "      <button class=\"colab-df-convert\" onclick=\"convertToInteractive('df-6e2e4fbc-c438-4ff9-b8cf-3b65cd297b8a')\"\n",
              "              title=\"Convert this dataframe to an interactive table.\"\n",
              "              style=\"display:none;\">\n",
              "        \n",
              "  <svg xmlns=\"http://www.w3.org/2000/svg\" height=\"24px\"viewBox=\"0 0 24 24\"\n",
              "       width=\"24px\">\n",
              "    <path d=\"M0 0h24v24H0V0z\" fill=\"none\"/>\n",
              "    <path d=\"M18.56 5.44l.94 2.06.94-2.06 2.06-.94-2.06-.94-.94-2.06-.94 2.06-2.06.94zm-11 1L8.5 8.5l.94-2.06 2.06-.94-2.06-.94L8.5 2.5l-.94 2.06-2.06.94zm10 10l.94 2.06.94-2.06 2.06-.94-2.06-.94-.94-2.06-.94 2.06-2.06.94z\"/><path d=\"M17.41 7.96l-1.37-1.37c-.4-.4-.92-.59-1.43-.59-.52 0-1.04.2-1.43.59L10.3 9.45l-7.72 7.72c-.78.78-.78 2.05 0 2.83L4 21.41c.39.39.9.59 1.41.59.51 0 1.02-.2 1.41-.59l7.78-7.78 2.81-2.81c.8-.78.8-2.07 0-2.86zM5.41 20L4 18.59l7.72-7.72 1.47 1.35L5.41 20z\"/>\n",
              "  </svg>\n",
              "      </button>\n",
              "      \n",
              "  <style>\n",
              "    .colab-df-container {\n",
              "      display:flex;\n",
              "      flex-wrap:wrap;\n",
              "      gap: 12px;\n",
              "    }\n",
              "\n",
              "    .colab-df-convert {\n",
              "      background-color: #E8F0FE;\n",
              "      border: none;\n",
              "      border-radius: 50%;\n",
              "      cursor: pointer;\n",
              "      display: none;\n",
              "      fill: #1967D2;\n",
              "      height: 32px;\n",
              "      padding: 0 0 0 0;\n",
              "      width: 32px;\n",
              "    }\n",
              "\n",
              "    .colab-df-convert:hover {\n",
              "      background-color: #E2EBFA;\n",
              "      box-shadow: 0px 1px 2px rgba(60, 64, 67, 0.3), 0px 1px 3px 1px rgba(60, 64, 67, 0.15);\n",
              "      fill: #174EA6;\n",
              "    }\n",
              "\n",
              "    [theme=dark] .colab-df-convert {\n",
              "      background-color: #3B4455;\n",
              "      fill: #D2E3FC;\n",
              "    }\n",
              "\n",
              "    [theme=dark] .colab-df-convert:hover {\n",
              "      background-color: #434B5C;\n",
              "      box-shadow: 0px 1px 3px 1px rgba(0, 0, 0, 0.15);\n",
              "      filter: drop-shadow(0px 1px 2px rgba(0, 0, 0, 0.3));\n",
              "      fill: #FFFFFF;\n",
              "    }\n",
              "  </style>\n",
              "\n",
              "      <script>\n",
              "        const buttonEl =\n",
              "          document.querySelector('#df-6e2e4fbc-c438-4ff9-b8cf-3b65cd297b8a button.colab-df-convert');\n",
              "        buttonEl.style.display =\n",
              "          google.colab.kernel.accessAllowed ? 'block' : 'none';\n",
              "\n",
              "        async function convertToInteractive(key) {\n",
              "          const element = document.querySelector('#df-6e2e4fbc-c438-4ff9-b8cf-3b65cd297b8a');\n",
              "          const dataTable =\n",
              "            await google.colab.kernel.invokeFunction('convertToInteractive',\n",
              "                                                     [key], {});\n",
              "          if (!dataTable) return;\n",
              "\n",
              "          const docLinkHtml = 'Like what you see? Visit the ' +\n",
              "            '<a target=\"_blank\" href=https://colab.research.google.com/notebooks/data_table.ipynb>data table notebook</a>'\n",
              "            + ' to learn more about interactive tables.';\n",
              "          element.innerHTML = '';\n",
              "          dataTable['output_type'] = 'display_data';\n",
              "          await google.colab.output.renderOutput(dataTable, element);\n",
              "          const docLink = document.createElement('div');\n",
              "          docLink.innerHTML = docLinkHtml;\n",
              "          element.appendChild(docLink);\n",
              "        }\n",
              "      </script>\n",
              "    </div>\n",
              "  </div>\n",
              "  "
            ]
          },
          "metadata": {},
          "execution_count": 5
        }
      ]
    },
    {
      "cell_type": "code",
      "source": [
        "x = df.iloc[:, :-1]\n",
        "y = df.iloc[:, -1]"
      ],
      "metadata": {
        "id": "9m1CvkFlU1Xm"
      },
      "execution_count": null,
      "outputs": []
    },
    {
      "cell_type": "code",
      "source": [
        "x = x.values\n",
        "y = y.values"
      ],
      "metadata": {
        "id": "gM6mXn5uU9Rt"
      },
      "execution_count": null,
      "outputs": []
    },
    {
      "cell_type": "code",
      "source": [
        "list(set(y))"
      ],
      "metadata": {
        "colab": {
          "base_uri": "https://localhost:8080/"
        },
        "id": "lox5OROLU_8p",
        "outputId": "ee4bb832-fe85-411a-cbed-9bbe1a8fc135"
      },
      "execution_count": null,
      "outputs": [
        {
          "output_type": "execute_result",
          "data": {
            "text/plain": [
              "[3, 4, 5, 6, 7, 8]"
            ]
          },
          "metadata": {},
          "execution_count": 8
        }
      ]
    },
    {
      "cell_type": "code",
      "source": [
        "y_list = list(y)"
      ],
      "metadata": {
        "id": "-dY3SkjaVB4i"
      },
      "execution_count": null,
      "outputs": []
    },
    {
      "cell_type": "code",
      "source": [
        "y_bar = []\n",
        "for num in range(3, 9):\n",
        "  counts = y_list.count(num)\n",
        "  y_bar.append(counts)\n",
        "  print(f\"quality {num} : {counts}\")"
      ],
      "metadata": {
        "colab": {
          "base_uri": "https://localhost:8080/"
        },
        "id": "hy_kghs1VFHm",
        "outputId": "7db178b4-8860-40df-d719-bbc279ed0765"
      },
      "execution_count": null,
      "outputs": [
        {
          "output_type": "stream",
          "name": "stdout",
          "text": [
            "quality 3 : 10\n",
            "quality 4 : 53\n",
            "quality 5 : 681\n",
            "quality 6 : 638\n",
            "quality 7 : 199\n",
            "quality 8 : 18\n"
          ]
        }
      ]
    },
    {
      "cell_type": "code",
      "source": [
        "left = np.array([3, 4, 5, 6, 7, 8])\n",
        "height = y_bar\n",
        "plt.bar(left, height)"
      ],
      "metadata": {
        "colab": {
          "base_uri": "https://localhost:8080/",
          "height": 282
        },
        "id": "Cv2f6ruOVHDw",
        "outputId": "f4c9e63a-ae0b-4199-b567-0c85513ae55a"
      },
      "execution_count": null,
      "outputs": [
        {
          "output_type": "execute_result",
          "data": {
            "text/plain": [
              "<BarContainer object of 6 artists>"
            ]
          },
          "metadata": {},
          "execution_count": 15
        },
        {
          "output_type": "display_data",
          "data": {
            "text/plain": [
              "<Figure size 432x288 with 1 Axes>"
            ],
            "image/png": "[encoded data removed]"
          },
          "metadata": {
            "needs_background": "light"
          }
        }
      ]
    },
    {
      "cell_type": "code",
      "source": [
        "# 3,4→0  5,6→1  7,8→2\n",
        "y_dict_values = [0, 0, 1, 1, 2, 2]\n",
        "y_dict_keys = list(set(y))\n",
        "y_dict = dict(zip(y_dict_keys,y_dict_values))"
      ],
      "metadata": {
        "id": "GtV7Xbv3VdSO"
      },
      "execution_count": null,
      "outputs": []
    },
    {
      "cell_type": "code",
      "source": [
        "y_dict"
      ],
      "metadata": {
        "colab": {
          "base_uri": "https://localhost:8080/"
        },
        "id": "u0N4DnzEXMLb",
        "outputId": "1ec8a750-5bb8-4289-9642-38dac39a0b51"
      },
      "execution_count": null,
      "outputs": [
        {
          "output_type": "execute_result",
          "data": {
            "text/plain": [
              "{3: 0, 4: 0, 5: 1, 6: 1, 7: 2, 8: 2}"
            ]
          },
          "metadata": {},
          "execution_count": 68
        }
      ]
    },
    {
      "cell_type": "code",
      "source": [
        "y_labels = np.array([])\n",
        "for num in range(len(y)):\n",
        "  work = y[num]\n",
        "  y_label = y_dict[work]\n",
        "  y_labels = np.append(y_labels, y_label)"
      ],
      "metadata": {
        "id": "jg2L9YiUXWVp"
      },
      "execution_count": null,
      "outputs": []
    },
    {
      "cell_type": "code",
      "source": [
        "set(y_labels)"
      ],
      "metadata": {
        "colab": {
          "base_uri": "https://localhost:8080/"
        },
        "id": "jJXRKt47ZuZH",
        "outputId": "b4c27385-1eaa-4931-fcd6-8efc74be8313"
      },
      "execution_count": null,
      "outputs": [
        {
          "output_type": "execute_result",
          "data": {
            "text/plain": [
              "{0.0, 1.0, 2.0}"
            ]
          },
          "metadata": {},
          "execution_count": 86
        }
      ]
    },
    {
      "cell_type": "code",
      "source": [
        "x_train, x_test, y_train, y_test = train_test_split(x, y_labels, test_size=0.2)"
      ],
      "metadata": {
        "id": "jj2dt3uOXeCq"
      },
      "execution_count": null,
      "outputs": []
    },
    {
      "cell_type": "code",
      "source": [
        "# パラメータ\n",
        "\n",
        "# 入力次元数\n",
        "n_input = x_train.shape[1]\n",
        "\n",
        "# 出力次元数\n",
        "n_output = len(list(set(y_train)))\n",
        "\n",
        "print(f\"n_input : {n_input} n_output : {n_output}\")"
      ],
      "metadata": {
        "colab": {
          "base_uri": "https://localhost:8080/"
        },
        "id": "hk1aR5QSXhiO",
        "outputId": "94efdbf4-ae14-4180-87c1-e6052e51c1af"
      },
      "execution_count": null,
      "outputs": [
        {
          "output_type": "stream",
          "name": "stdout",
          "text": [
            "n_input : 11 n_output : 3\n"
          ]
        }
      ]
    },
    {
      "cell_type": "code",
      "source": [
        "# モデル定義\n",
        "\n",
        "class Net(nn.Module):\n",
        "  def __init__(self, n_input, n_output):\n",
        "    super().__init__()\n",
        "    self.l1 = nn.Linear(n_input, 5)\n",
        "    self.l2 = nn.Linear(5, n_output)\n",
        "    self.relu = nn.ReLU(inplace=True)\n",
        "\n",
        "    # 値の初期化\n",
        "    self.l1.weight.data.fill_(1.0)\n",
        "    self.l1.bias.data.fill_(1.0)\n",
        "  \n",
        "  def forward(self, x):\n",
        "    x1 = self.relu(self.l1(x))\n",
        "    x2 = self.l2(x1)\n",
        "    return x2"
      ],
      "metadata": {
        "id": "weoI_3ReXjvP"
      },
      "execution_count": null,
      "outputs": []
    },
    {
      "cell_type": "code",
      "source": [
        "# 値のtensor化\n",
        "# ラベルは整数なので、long型\n",
        "inputs_train = torch.tensor(x_train).float()\n",
        "labels_train = torch.tensor(y_train).long()\n",
        "inputs_test = torch.tensor(x_test).float()\n",
        "labels_test = torch.tensor(y_test).long()"
      ],
      "metadata": {
        "id": "qXDmYrghXmFO"
      },
      "execution_count": null,
      "outputs": []
    },
    {
      "cell_type": "code",
      "source": [
        "# 繰り返し計算\n",
        "\n",
        "# 学習率\n",
        "lr = 0.0003\n",
        "\n",
        "# インスタンス生成\n",
        "# 初期化\n",
        "net = Net(n_input, n_output)\n",
        "\n",
        "# 損失関数 : 交差エントロピー関数\n",
        "# 線形では、MSELossを使っていた\n",
        "criterion = nn.CrossEntropyLoss()\n",
        "\n",
        "# 最適化関数 : 勾配降下法\n",
        "optimizer = optim.SGD(net.parameters(), lr = lr)\n",
        "\n",
        "# 繰り返し回数\n",
        "num_epochs = 20000\n",
        "\n",
        "# 評価結果記録用\n",
        "history = np.zeros((0, 5))"
      ],
      "metadata": {
        "id": "7mxLWcMKXoJW"
      },
      "execution_count": null,
      "outputs": []
    },
    {
      "cell_type": "code",
      "source": [
        "# 処理\n",
        "\n",
        "for epoch in range(num_epochs):\n",
        "  \n",
        "  #-------------学習----------------\n",
        "  \n",
        "  # 勾配の初期化\n",
        "  optimizer.zero_grad()\n",
        "\n",
        "  # 予測計算\n",
        "  outputs_train = net(inputs_train)\n",
        "\n",
        "  # 損失計算\n",
        "  loss = criterion(outputs_train, labels_train)\n",
        "\n",
        "  # 勾配計算\n",
        "  loss.backward()\n",
        "\n",
        "  # パラメータ修正\n",
        "  optimizer.step()\n",
        "\n",
        "  # 予測ラベル算出\n",
        "  # スコアが一番高いもの\n",
        "  predicated = torch.max(outputs_train, 1)[1]\n",
        "\n",
        "  # 損失と精度の計算\n",
        "  # 予測と実際の値が合っているものの合計をラベルの大きさで割れば、予測精度がわかる\n",
        "  train_loss = loss.item()\n",
        "  train_acc = (predicated == labels_train).sum()/len(labels_train)\n",
        "\n",
        "  #-------------予測----------------\n",
        "\n",
        "  # 予測計算\n",
        "  outputs_test = net(inputs_test)\n",
        "\n",
        "  # 損失計算\n",
        "  loss_test = criterion(outputs_test, labels_test)\n",
        "\n",
        "  # 予測ラベル算出\n",
        "  predicated_test = torch.max(outputs_test, 1)[1]\n",
        "\n",
        "  # 損失と精度の計算\n",
        "  val_loss = loss_test.item()\n",
        "  val_acc = (predicated_test == labels_test).sum()/len(labels_test)\n",
        "\n",
        "\n",
        "\n",
        "  # 記録\n",
        "  if((epoch) % 100 == 0):\n",
        "    print(f\"Epoch [{epoch}/{num_epochs}], loss:{train_loss:.5f} acc:{train_acc:.5f} val_loss: {val_loss:.5f} val_acc: {val_acc:.5f}\")\n",
        "    item = np.array([epoch, train_loss, train_acc, val_loss, val_acc])\n",
        "    history = np.vstack((history, item))\n",
        "\n"
      ],
      "metadata": {
        "colab": {
          "base_uri": "https://localhost:8080/"
        },
        "id": "fydS6A6HXqVK",
        "outputId": "cb9acb08-771d-4f89-c2a5-aa55af8f0d64"
      },
      "execution_count": null,
      "outputs": [
        {
          "output_type": "stream",
          "name": "stdout",
          "text": [
            "Epoch [0/20000], loss:38.72180 acc:0.03909 val_loss: 16.97965 val_acc: 0.04062\n",
            "Epoch [100/20000], loss:0.57561 acc:0.82643 val_loss: 0.59115 val_acc: 0.81875\n",
            "Epoch [200/20000], loss:0.57443 acc:0.82643 val_loss: 0.59812 val_acc: 0.81875\n",
            "Epoch [300/20000], loss:0.57360 acc:0.82643 val_loss: 0.60424 val_acc: 0.81875\n",
            "Epoch [400/20000], loss:0.57322 acc:0.82643 val_loss: 0.60977 val_acc: 0.81875\n",
            "Epoch [500/20000], loss:0.57311 acc:0.82643 val_loss: 0.61457 val_acc: 0.81875\n",
            "Epoch [600/20000], loss:0.57315 acc:0.82643 val_loss: 0.61860 val_acc: 0.81875\n",
            "Epoch [700/20000], loss:0.57325 acc:0.82643 val_loss: 0.62188 val_acc: 0.81875\n",
            "Epoch [800/20000], loss:0.57335 acc:0.82643 val_loss: 0.62449 val_acc: 0.81875\n",
            "Epoch [900/20000], loss:0.57344 acc:0.82643 val_loss: 0.62652 val_acc: 0.81875\n",
            "Epoch [1000/20000], loss:0.57350 acc:0.82643 val_loss: 0.62808 val_acc: 0.81875\n",
            "Epoch [1100/20000], loss:0.57352 acc:0.82643 val_loss: 0.62926 val_acc: 0.81875\n",
            "Epoch [1200/20000], loss:0.57352 acc:0.82643 val_loss: 0.63016 val_acc: 0.81875\n",
            "Epoch [1300/20000], loss:0.57350 acc:0.82643 val_loss: 0.63082 val_acc: 0.81875\n",
            "Epoch [1400/20000], loss:0.57346 acc:0.82643 val_loss: 0.63130 val_acc: 0.81875\n",
            "Epoch [1500/20000], loss:0.57341 acc:0.82643 val_loss: 0.63165 val_acc: 0.81875\n",
            "Epoch [1600/20000], loss:0.57335 acc:0.82643 val_loss: 0.63189 val_acc: 0.81875\n",
            "Epoch [1700/20000], loss:0.57328 acc:0.82643 val_loss: 0.63205 val_acc: 0.81875\n",
            "Epoch [1800/20000], loss:0.57320 acc:0.82643 val_loss: 0.63215 val_acc: 0.81875\n",
            "Epoch [1900/20000], loss:0.57312 acc:0.82643 val_loss: 0.63221 val_acc: 0.81875\n",
            "Epoch [2000/20000], loss:0.57304 acc:0.82643 val_loss: 0.63223 val_acc: 0.81875\n",
            "Epoch [2100/20000], loss:0.57296 acc:0.82643 val_loss: 0.63222 val_acc: 0.81875\n",
            "Epoch [2200/20000], loss:0.57288 acc:0.82643 val_loss: 0.63219 val_acc: 0.81875\n",
            "Epoch [2300/20000], loss:0.57280 acc:0.82643 val_loss: 0.63214 val_acc: 0.81875\n",
            "Epoch [2400/20000], loss:0.57271 acc:0.82643 val_loss: 0.63208 val_acc: 0.81875\n",
            "Epoch [2500/20000], loss:0.57263 acc:0.82643 val_loss: 0.63201 val_acc: 0.81875\n",
            "Epoch [2600/20000], loss:0.57255 acc:0.82643 val_loss: 0.63194 val_acc: 0.81875\n",
            "Epoch [2700/20000], loss:0.57247 acc:0.82643 val_loss: 0.63185 val_acc: 0.81875\n",
            "Epoch [2800/20000], loss:0.57238 acc:0.82643 val_loss: 0.63176 val_acc: 0.81875\n",
            "Epoch [2900/20000], loss:0.57230 acc:0.82643 val_loss: 0.63167 val_acc: 0.81875\n",
            "Epoch [3000/20000], loss:0.57222 acc:0.82643 val_loss: 0.63157 val_acc: 0.81875\n",
            "Epoch [3100/20000], loss:0.57215 acc:0.82643 val_loss: 0.63147 val_acc: 0.81875\n",
            "Epoch [3200/20000], loss:0.57207 acc:0.82643 val_loss: 0.63137 val_acc: 0.81875\n",
            "Epoch [3300/20000], loss:0.57199 acc:0.82643 val_loss: 0.63126 val_acc: 0.81875\n",
            "Epoch [3400/20000], loss:0.57191 acc:0.82643 val_loss: 0.63116 val_acc: 0.81875\n",
            "Epoch [3500/20000], loss:0.57184 acc:0.82643 val_loss: 0.63105 val_acc: 0.81875\n",
            "Epoch [3600/20000], loss:0.57176 acc:0.82643 val_loss: 0.63094 val_acc: 0.81875\n",
            "Epoch [3700/20000], loss:0.57168 acc:0.82643 val_loss: 0.63083 val_acc: 0.81875\n",
            "Epoch [3800/20000], loss:0.57161 acc:0.82643 val_loss: 0.63071 val_acc: 0.81875\n",
            "Epoch [3900/20000], loss:0.57153 acc:0.82643 val_loss: 0.63060 val_acc: 0.81875\n",
            "Epoch [4000/20000], loss:0.57146 acc:0.82643 val_loss: 0.63049 val_acc: 0.81875\n",
            "Epoch [4100/20000], loss:0.57139 acc:0.82643 val_loss: 0.63038 val_acc: 0.81875\n",
            "Epoch [4200/20000], loss:0.57131 acc:0.82643 val_loss: 0.63026 val_acc: 0.81875\n",
            "Epoch [4300/20000], loss:0.57124 acc:0.82643 val_loss: 0.63015 val_acc: 0.81875\n",
            "Epoch [4400/20000], loss:0.57117 acc:0.82643 val_loss: 0.63003 val_acc: 0.81875\n",
            "Epoch [4500/20000], loss:0.57110 acc:0.82643 val_loss: 0.62992 val_acc: 0.81875\n",
            "Epoch [4600/20000], loss:0.57102 acc:0.82643 val_loss: 0.62980 val_acc: 0.81875\n",
            "Epoch [4700/20000], loss:0.57095 acc:0.82643 val_loss: 0.62969 val_acc: 0.81875\n",
            "Epoch [4800/20000], loss:0.57088 acc:0.82643 val_loss: 0.62957 val_acc: 0.81875\n",
            "Epoch [4900/20000], loss:0.57081 acc:0.82643 val_loss: 0.62946 val_acc: 0.81875\n",
            "Epoch [5000/20000], loss:0.57074 acc:0.82643 val_loss: 0.62934 val_acc: 0.81875\n",
            "Epoch [5100/20000], loss:0.57067 acc:0.82643 val_loss: 0.62922 val_acc: 0.81875\n",
            "Epoch [5200/20000], loss:0.57060 acc:0.82643 val_loss: 0.62911 val_acc: 0.81875\n",
            "Epoch [5300/20000], loss:0.57054 acc:0.82643 val_loss: 0.62899 val_acc: 0.81875\n",
            "Epoch [5400/20000], loss:0.57047 acc:0.82643 val_loss: 0.62887 val_acc: 0.81875\n",
            "Epoch [5500/20000], loss:0.57040 acc:0.82643 val_loss: 0.62876 val_acc: 0.81875\n",
            "Epoch [5600/20000], loss:0.57033 acc:0.82643 val_loss: 0.62864 val_acc: 0.81875\n",
            "Epoch [5700/20000], loss:0.57026 acc:0.82643 val_loss: 0.62852 val_acc: 0.81875\n",
            "Epoch [5800/20000], loss:0.57020 acc:0.82643 val_loss: 0.62841 val_acc: 0.81875\n",
            "Epoch [5900/20000], loss:0.57013 acc:0.82643 val_loss: 0.62829 val_acc: 0.81875\n",
            "Epoch [6000/20000], loss:0.57006 acc:0.82643 val_loss: 0.62817 val_acc: 0.81875\n",
            "Epoch [6100/20000], loss:0.57000 acc:0.82643 val_loss: 0.62806 val_acc: 0.81875\n",
            "Epoch [6200/20000], loss:0.56993 acc:0.82643 val_loss: 0.62794 val_acc: 0.81875\n",
            "Epoch [6300/20000], loss:0.56986 acc:0.82643 val_loss: 0.62783 val_acc: 0.81875\n",
            "Epoch [6400/20000], loss:0.56980 acc:0.82643 val_loss: 0.62771 val_acc: 0.81875\n",
            "Epoch [6500/20000], loss:0.56973 acc:0.82643 val_loss: 0.62759 val_acc: 0.81875\n",
            "Epoch [6600/20000], loss:0.56967 acc:0.82643 val_loss: 0.62748 val_acc: 0.81875\n",
            "Epoch [6700/20000], loss:0.56960 acc:0.82643 val_loss: 0.62736 val_acc: 0.81875\n",
            "Epoch [6800/20000], loss:0.56954 acc:0.82643 val_loss: 0.62725 val_acc: 0.81875\n",
            "Epoch [6900/20000], loss:0.56948 acc:0.82643 val_loss: 0.62713 val_acc: 0.81875\n",
            "Epoch [7000/20000], loss:0.56941 acc:0.82643 val_loss: 0.62702 val_acc: 0.81875\n",
            "Epoch [7100/20000], loss:0.56935 acc:0.82643 val_loss: 0.62691 val_acc: 0.81875\n",
            "Epoch [7200/20000], loss:0.56929 acc:0.82643 val_loss: 0.62679 val_acc: 0.81875\n",
            "Epoch [7300/20000], loss:0.56923 acc:0.82643 val_loss: 0.62668 val_acc: 0.81875\n",
            "Epoch [7400/20000], loss:0.56916 acc:0.82643 val_loss: 0.62657 val_acc: 0.81875\n",
            "Epoch [7500/20000], loss:0.56910 acc:0.82643 val_loss: 0.62646 val_acc: 0.81875\n",
            "Epoch [7600/20000], loss:0.56904 acc:0.82643 val_loss: 0.62634 val_acc: 0.81875\n",
            "Epoch [7700/20000], loss:0.56898 acc:0.82643 val_loss: 0.62623 val_acc: 0.81875\n",
            "Epoch [7800/20000], loss:0.56892 acc:0.82643 val_loss: 0.62612 val_acc: 0.81875\n",
            "Epoch [7900/20000], loss:0.56886 acc:0.82643 val_loss: 0.62600 val_acc: 0.81875\n",
            "Epoch [8000/20000], loss:0.56880 acc:0.82643 val_loss: 0.62589 val_acc: 0.81875\n",
            "Epoch [8100/20000], loss:0.56874 acc:0.82643 val_loss: 0.62578 val_acc: 0.81875\n",
            "Epoch [8200/20000], loss:0.56868 acc:0.82643 val_loss: 0.62567 val_acc: 0.81875\n",
            "Epoch [8300/20000], loss:0.56861 acc:0.82643 val_loss: 0.62555 val_acc: 0.81875\n",
            "Epoch [8400/20000], loss:0.56856 acc:0.82643 val_loss: 0.62544 val_acc: 0.81875\n",
            "Epoch [8500/20000], loss:0.56850 acc:0.82643 val_loss: 0.62533 val_acc: 0.81875\n",
            "Epoch [8600/20000], loss:0.56844 acc:0.82643 val_loss: 0.62522 val_acc: 0.81875\n",
            "Epoch [8700/20000], loss:0.56838 acc:0.82643 val_loss: 0.62511 val_acc: 0.81875\n",
            "Epoch [8800/20000], loss:0.56832 acc:0.82643 val_loss: 0.62500 val_acc: 0.81875\n",
            "Epoch [8900/20000], loss:0.56826 acc:0.82643 val_loss: 0.62489 val_acc: 0.81875\n",
            "Epoch [9000/20000], loss:0.56820 acc:0.82643 val_loss: 0.62478 val_acc: 0.81875\n",
            "Epoch [9100/20000], loss:0.56814 acc:0.82643 val_loss: 0.62467 val_acc: 0.81875\n",
            "Epoch [9200/20000], loss:0.56809 acc:0.82643 val_loss: 0.62456 val_acc: 0.81875\n",
            "Epoch [9300/20000], loss:0.56803 acc:0.82643 val_loss: 0.62445 val_acc: 0.81875\n",
            "Epoch [9400/20000], loss:0.56797 acc:0.82643 val_loss: 0.62434 val_acc: 0.81875\n",
            "Epoch [9500/20000], loss:0.56791 acc:0.82643 val_loss: 0.62423 val_acc: 0.81875\n",
            "Epoch [9600/20000], loss:0.56786 acc:0.82643 val_loss: 0.62412 val_acc: 0.81875\n",
            "Epoch [9700/20000], loss:0.56780 acc:0.82643 val_loss: 0.62401 val_acc: 0.81875\n",
            "Epoch [9800/20000], loss:0.56774 acc:0.82643 val_loss: 0.62390 val_acc: 0.81875\n",
            "Epoch [9900/20000], loss:0.56769 acc:0.82643 val_loss: 0.62380 val_acc: 0.81875\n",
            "Epoch [10000/20000], loss:0.56763 acc:0.82643 val_loss: 0.62369 val_acc: 0.81875\n",
            "Epoch [10100/20000], loss:0.56757 acc:0.82643 val_loss: 0.62358 val_acc: 0.81875\n",
            "Epoch [10200/20000], loss:0.56752 acc:0.82643 val_loss: 0.62347 val_acc: 0.81875\n",
            "Epoch [10300/20000], loss:0.56746 acc:0.82643 val_loss: 0.62336 val_acc: 0.81875\n",
            "Epoch [10400/20000], loss:0.56740 acc:0.82643 val_loss: 0.62325 val_acc: 0.81875\n",
            "Epoch [10500/20000], loss:0.56735 acc:0.82643 val_loss: 0.62315 val_acc: 0.81875\n",
            "Epoch [10600/20000], loss:0.56729 acc:0.82643 val_loss: 0.62304 val_acc: 0.81875\n",
            "Epoch [10700/20000], loss:0.56724 acc:0.82643 val_loss: 0.62293 val_acc: 0.81875\n",
            "Epoch [10800/20000], loss:0.56718 acc:0.82643 val_loss: 0.62283 val_acc: 0.81875\n",
            "Epoch [10900/20000], loss:0.56713 acc:0.82643 val_loss: 0.62272 val_acc: 0.81875\n",
            "Epoch [11000/20000], loss:0.56707 acc:0.82643 val_loss: 0.62262 val_acc: 0.81875\n",
            "Epoch [11100/20000], loss:0.56702 acc:0.82643 val_loss: 0.62251 val_acc: 0.81875\n",
            "Epoch [11200/20000], loss:0.56696 acc:0.82643 val_loss: 0.62240 val_acc: 0.81875\n",
            "Epoch [11300/20000], loss:0.56691 acc:0.82643 val_loss: 0.62229 val_acc: 0.81875\n",
            "Epoch [11400/20000], loss:0.56686 acc:0.82643 val_loss: 0.62219 val_acc: 0.81875\n",
            "Epoch [11500/20000], loss:0.56680 acc:0.82643 val_loss: 0.62208 val_acc: 0.81875\n",
            "Epoch [11600/20000], loss:0.56675 acc:0.82643 val_loss: 0.62197 val_acc: 0.81875\n",
            "Epoch [11700/20000], loss:0.56669 acc:0.82643 val_loss: 0.62187 val_acc: 0.81875\n",
            "Epoch [11800/20000], loss:0.56664 acc:0.82643 val_loss: 0.62176 val_acc: 0.81875\n",
            "Epoch [11900/20000], loss:0.56659 acc:0.82643 val_loss: 0.62166 val_acc: 0.81875\n",
            "Epoch [12000/20000], loss:0.56653 acc:0.82643 val_loss: 0.62155 val_acc: 0.81875\n",
            "Epoch [12100/20000], loss:0.56648 acc:0.82643 val_loss: 0.62145 val_acc: 0.81875\n",
            "Epoch [12200/20000], loss:0.56643 acc:0.82643 val_loss: 0.62134 val_acc: 0.81875\n",
            "Epoch [12300/20000], loss:0.56637 acc:0.82643 val_loss: 0.62123 val_acc: 0.81875\n",
            "Epoch [12400/20000], loss:0.56632 acc:0.82643 val_loss: 0.62113 val_acc: 0.81875\n",
            "Epoch [12500/20000], loss:0.56627 acc:0.82643 val_loss: 0.62103 val_acc: 0.81875\n",
            "Epoch [12600/20000], loss:0.56621 acc:0.82643 val_loss: 0.62092 val_acc: 0.81875\n",
            "Epoch [12700/20000], loss:0.56616 acc:0.82643 val_loss: 0.62082 val_acc: 0.81875\n",
            "Epoch [12800/20000], loss:0.56611 acc:0.82643 val_loss: 0.62071 val_acc: 0.81875\n",
            "Epoch [12900/20000], loss:0.56606 acc:0.82643 val_loss: 0.62061 val_acc: 0.81875\n",
            "Epoch [13000/20000], loss:0.56600 acc:0.82643 val_loss: 0.62051 val_acc: 0.81875\n",
            "Epoch [13100/20000], loss:0.56595 acc:0.82643 val_loss: 0.62040 val_acc: 0.81875\n",
            "Epoch [13200/20000], loss:0.56590 acc:0.82643 val_loss: 0.62030 val_acc: 0.81875\n",
            "Epoch [13300/20000], loss:0.56585 acc:0.82643 val_loss: 0.62019 val_acc: 0.81875\n",
            "Epoch [13400/20000], loss:0.56580 acc:0.82643 val_loss: 0.62009 val_acc: 0.81875\n",
            "Epoch [13500/20000], loss:0.56574 acc:0.82643 val_loss: 0.61999 val_acc: 0.81875\n",
            "Epoch [13600/20000], loss:0.56569 acc:0.82643 val_loss: 0.61988 val_acc: 0.81875\n",
            "Epoch [13700/20000], loss:0.56564 acc:0.82643 val_loss: 0.61978 val_acc: 0.81875\n",
            "Epoch [13800/20000], loss:0.56559 acc:0.82643 val_loss: 0.61967 val_acc: 0.81875\n",
            "Epoch [13900/20000], loss:0.56554 acc:0.82643 val_loss: 0.61957 val_acc: 0.81875\n",
            "Epoch [14000/20000], loss:0.56549 acc:0.82643 val_loss: 0.61947 val_acc: 0.81875\n",
            "Epoch [14100/20000], loss:0.56543 acc:0.82643 val_loss: 0.61937 val_acc: 0.81875\n",
            "Epoch [14200/20000], loss:0.56538 acc:0.82643 val_loss: 0.61926 val_acc: 0.81875\n",
            "Epoch [14300/20000], loss:0.56533 acc:0.82643 val_loss: 0.61916 val_acc: 0.81875\n",
            "Epoch [14400/20000], loss:0.56528 acc:0.82643 val_loss: 0.61906 val_acc: 0.81875\n",
            "Epoch [14500/20000], loss:0.56523 acc:0.82643 val_loss: 0.61895 val_acc: 0.81875\n",
            "Epoch [14600/20000], loss:0.56518 acc:0.82643 val_loss: 0.61885 val_acc: 0.81875\n",
            "Epoch [14700/20000], loss:0.56513 acc:0.82643 val_loss: 0.61875 val_acc: 0.81875\n",
            "Epoch [14800/20000], loss:0.56508 acc:0.82643 val_loss: 0.61865 val_acc: 0.81875\n",
            "Epoch [14900/20000], loss:0.56503 acc:0.82643 val_loss: 0.61855 val_acc: 0.81875\n",
            "Epoch [15000/20000], loss:0.56498 acc:0.82643 val_loss: 0.61844 val_acc: 0.81875\n",
            "Epoch [15100/20000], loss:0.56493 acc:0.82643 val_loss: 0.61834 val_acc: 0.81875\n",
            "Epoch [15200/20000], loss:0.56488 acc:0.82643 val_loss: 0.61824 val_acc: 0.81875\n",
            "Epoch [15300/20000], loss:0.56482 acc:0.82643 val_loss: 0.61814 val_acc: 0.81875\n",
            "Epoch [15400/20000], loss:0.56477 acc:0.82643 val_loss: 0.61804 val_acc: 0.81875\n",
            "Epoch [15500/20000], loss:0.56472 acc:0.82643 val_loss: 0.61793 val_acc: 0.81875\n",
            "Epoch [15600/20000], loss:0.56467 acc:0.82643 val_loss: 0.61783 val_acc: 0.81875\n",
            "Epoch [15700/20000], loss:0.56462 acc:0.82643 val_loss: 0.61773 val_acc: 0.81875\n",
            "Epoch [15800/20000], loss:0.56457 acc:0.82643 val_loss: 0.61763 val_acc: 0.81875\n",
            "Epoch [15900/20000], loss:0.56452 acc:0.82643 val_loss: 0.61753 val_acc: 0.81875\n",
            "Epoch [16000/20000], loss:0.56447 acc:0.82643 val_loss: 0.61743 val_acc: 0.81875\n",
            "Epoch [16100/20000], loss:0.56442 acc:0.82643 val_loss: 0.61732 val_acc: 0.81875\n",
            "Epoch [16200/20000], loss:0.56437 acc:0.82643 val_loss: 0.61723 val_acc: 0.81875\n",
            "Epoch [16300/20000], loss:0.56432 acc:0.82643 val_loss: 0.61713 val_acc: 0.81875\n",
            "Epoch [16400/20000], loss:0.56427 acc:0.82643 val_loss: 0.61702 val_acc: 0.81875\n",
            "Epoch [16500/20000], loss:0.56422 acc:0.82643 val_loss: 0.61692 val_acc: 0.81875\n",
            "Epoch [16600/20000], loss:0.56417 acc:0.82643 val_loss: 0.61682 val_acc: 0.81875\n",
            "Epoch [16700/20000], loss:0.56412 acc:0.82643 val_loss: 0.61672 val_acc: 0.81875\n",
            "Epoch [16800/20000], loss:0.56407 acc:0.82643 val_loss: 0.61662 val_acc: 0.81875\n",
            "Epoch [16900/20000], loss:0.56402 acc:0.82643 val_loss: 0.61652 val_acc: 0.81875\n",
            "Epoch [17000/20000], loss:0.56398 acc:0.82643 val_loss: 0.61642 val_acc: 0.81875\n",
            "Epoch [17100/20000], loss:0.56393 acc:0.82643 val_loss: 0.61632 val_acc: 0.81875\n",
            "Epoch [17200/20000], loss:0.56388 acc:0.82643 val_loss: 0.61622 val_acc: 0.81875\n",
            "Epoch [17300/20000], loss:0.56383 acc:0.82643 val_loss: 0.61612 val_acc: 0.81875\n",
            "Epoch [17400/20000], loss:0.56378 acc:0.82643 val_loss: 0.61602 val_acc: 0.81875\n",
            "Epoch [17500/20000], loss:0.56373 acc:0.82643 val_loss: 0.61592 val_acc: 0.81875\n",
            "Epoch [17600/20000], loss:0.56368 acc:0.82643 val_loss: 0.61582 val_acc: 0.81875\n",
            "Epoch [17700/20000], loss:0.56363 acc:0.82643 val_loss: 0.61572 val_acc: 0.81875\n",
            "Epoch [17800/20000], loss:0.56358 acc:0.82643 val_loss: 0.61562 val_acc: 0.81875\n",
            "Epoch [17900/20000], loss:0.56353 acc:0.82643 val_loss: 0.61552 val_acc: 0.81875\n",
            "Epoch [18000/20000], loss:0.56348 acc:0.82643 val_loss: 0.61542 val_acc: 0.81875\n",
            "Epoch [18100/20000], loss:0.56343 acc:0.82643 val_loss: 0.61532 val_acc: 0.81875\n",
            "Epoch [18200/20000], loss:0.56338 acc:0.82643 val_loss: 0.61522 val_acc: 0.81875\n",
            "Epoch [18300/20000], loss:0.56333 acc:0.82643 val_loss: 0.61512 val_acc: 0.81875\n",
            "Epoch [18400/20000], loss:0.56328 acc:0.82643 val_loss: 0.61502 val_acc: 0.81875\n",
            "Epoch [18500/20000], loss:0.56324 acc:0.82643 val_loss: 0.61492 val_acc: 0.81875\n",
            "Epoch [18600/20000], loss:0.56319 acc:0.82643 val_loss: 0.61483 val_acc: 0.81875\n",
            "Epoch [18700/20000], loss:0.56314 acc:0.82643 val_loss: 0.61473 val_acc: 0.81875\n",
            "Epoch [18800/20000], loss:0.56309 acc:0.82643 val_loss: 0.61462 val_acc: 0.81875\n",
            "Epoch [18900/20000], loss:0.56304 acc:0.82643 val_loss: 0.61453 val_acc: 0.81875\n",
            "Epoch [19000/20000], loss:0.56299 acc:0.82643 val_loss: 0.61443 val_acc: 0.81875\n",
            "Epoch [19100/20000], loss:0.56294 acc:0.82643 val_loss: 0.61433 val_acc: 0.81875\n",
            "Epoch [19200/20000], loss:0.56289 acc:0.82643 val_loss: 0.61423 val_acc: 0.81875\n",
            "Epoch [19300/20000], loss:0.56284 acc:0.82643 val_loss: 0.61413 val_acc: 0.81875\n",
            "Epoch [19400/20000], loss:0.56280 acc:0.82643 val_loss: 0.61403 val_acc: 0.81875\n",
            "Epoch [19500/20000], loss:0.56275 acc:0.82643 val_loss: 0.61394 val_acc: 0.81875\n",
            "Epoch [19600/20000], loss:0.56270 acc:0.82643 val_loss: 0.61384 val_acc: 0.81875\n",
            "Epoch [19700/20000], loss:0.56265 acc:0.82643 val_loss: 0.61374 val_acc: 0.81875\n",
            "Epoch [19800/20000], loss:0.56260 acc:0.82643 val_loss: 0.61364 val_acc: 0.81875\n",
            "Epoch [19900/20000], loss:0.56255 acc:0.82643 val_loss: 0.61354 val_acc: 0.81875\n"
          ]
        }
      ]
    },
    {
      "cell_type": "code",
      "source": [
        "#損失と精度の確認\n",
        "\n",
        "print(f'初期状態: 損失: {history[0,3]:.5f} 精度: {history[0,4]:.5f}' )\n",
        "print(f'最終状態: 損失: {history[-1,3]:.5f} 精度: {history[-1,4]:.5f}' )"
      ],
      "metadata": {
        "colab": {
          "base_uri": "https://localhost:8080/"
        },
        "id": "NBKQMskcXuN1",
        "outputId": "d1428800-98e1-4429-cff6-a671c4866747"
      },
      "execution_count": null,
      "outputs": [
        {
          "output_type": "stream",
          "name": "stdout",
          "text": [
            "初期状態: 損失: 16.97965 精度: 0.04062\n",
            "最終状態: 損失: 0.61354 精度: 0.81875\n"
          ]
        }
      ]
    },
    {
      "cell_type": "code",
      "source": [
        "# 学習曲線の表示 (損失)\n",
        "\n",
        "plt.plot(history[:,0], history[:,1], 'b', label='訓練')\n",
        "plt.plot(history[:,0], history[:,3], 'k', label='検証')\n",
        "plt.xlabel('繰り返し回数')\n",
        "plt.ylabel('損失')\n",
        "plt.title('学習曲線(損失)')\n",
        "plt.legend()\n",
        "plt.show()"
      ],
      "metadata": {
        "colab": {
          "base_uri": "https://localhost:8080/",
          "height": 294
        },
        "id": "e89i3BJgX4ao",
        "outputId": "ba5febc7-b584-46dc-a9b4-d83669b1d528"
      },
      "execution_count": null,
      "outputs": [
        {
          "output_type": "display_data",
          "data": {
            "text/plain": [
              "<Figure size 432x288 with 1 Axes>"
            ],
            "image/png": "[encoded data removed]"
          },
          "metadata": {
            "needs_background": "light"
          }
        }
      ]
    },
    {
      "cell_type": "code",
      "source": [
        "# 学習曲線の表示 (精度)\n",
        "\n",
        "plt.plot(history[:,0], history[:,2], 'b', label='訓練')\n",
        "plt.plot(history[:,0], history[:,4], 'k', label='検証')\n",
        "plt.xlabel('繰り返し回数')\n",
        "plt.ylabel('精度')\n",
        "plt.title('学習曲線(精度)')\n",
        "plt.legend()\n",
        "plt.show()"
      ],
      "metadata": {
        "colab": {
          "base_uri": "https://localhost:8080/",
          "height": 294
        },
        "id": "rACws98tX6xo",
        "outputId": "b4546852-0f01-4b6a-8c9b-410a3c9739b0"
      },
      "execution_count": null,
      "outputs": [
        {
          "output_type": "display_data",
          "data": {
            "text/plain": [
              "<Figure size 432x288 with 1 Axes>"
            ],
            "image/png": "[encoded data removed]"
          },
          "metadata": {
            "needs_background": "light"
          }
        }
      ]
    },
    {
      "cell_type": "code",
      "source": [],
      "metadata": {
        "id": "Oz6h_U-oX88l"
      },
      "execution_count": null,
      "outputs": []
    }
  ]
}