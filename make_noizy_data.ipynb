{
 "cells": [
  {
   "cell_type": "code",
   "execution_count": 18,
   "id": "265209d2-4b3a-4fc3-ad1d-5f66e23a2a17",
   "metadata": {},
   "outputs": [],
   "source": [
    "import numpy as np\n",
    "import pandas as pd\n",
    "import matplotlib.pyplot as plt\n",
    "import random"
   ]
  },
  {
   "cell_type": "code",
   "execution_count": 2,
   "id": "196bd79d-d0ee-422f-b1f4-f4fdf32985fd",
   "metadata": {},
   "outputs": [],
   "source": [
    "%matplotlib inline"
   ]
  },
  {
   "cell_type": "code",
   "execution_count": 3,
   "id": "9816d985-83c0-46b4-8dc9-6ce00d94023e",
   "metadata": {},
   "outputs": [],
   "source": [
    "x = np.linspace(-5,5,100)"
   ]
  },
  {
   "cell_type": "code",
   "execution_count": 34,
   "id": "2cf28b53-f252-4ec6-92df-a317322853a0",
   "metadata": {},
   "outputs": [],
   "source": [
    "def func(x):\n",
    "    return x**3 - 20*x + 6*x -4"
   ]
  },
  {
   "cell_type": "code",
   "execution_count": 35,
   "id": "2bf8beca-67a1-40ea-8ad8-948d9577ff19",
   "metadata": {},
   "outputs": [],
   "source": [
    "y = func(x)"
   ]
  },
  {
   "cell_type": "code",
   "execution_count": 36,
   "id": "417bb213-873b-4680-a2bc-e00e0b239ddf",
   "metadata": {},
   "outputs": [
    {
     "data": {
      "text/plain": [
       "<matplotlib.collections.PathCollection at 0x1e69f3b9c10>"
      ]
     },
     "execution_count": 36,
     "metadata": {},
     "output_type": "execute_result"
    },
    {
     "data": {
      "image/png": "[encoded data removed]",
      "text/plain": [
       "<Figure size 432x288 with 1 Axes>"
      ]
     },
     "metadata": {
      "needs_background": "light"
     },
     "output_type": "display_data"
    }
   ],
   "source": [
    "plt.scatter(x,y)"
   ]
  },
  {
   "cell_type": "code",
   "execution_count": 40,
   "id": "45e93dd3-7c86-480e-ac99-dcf397e2f07d",
   "metadata": {},
   "outputs": [],
   "source": [
    "y_ = np.random.normal(loc=0,scale=2,size=len(y))"
   ]
  },
  {
   "cell_type": "code",
   "execution_count": 41,
   "id": "4fe0b4b3-74f0-4f09-b793-9bb257ac618a",
   "metadata": {},
   "outputs": [
    {
     "data": {
      "text/plain": [
       "<matplotlib.collections.PathCollection at 0x1e69f6bb580>"
      ]
     },
     "execution_count": 41,
     "metadata": {},
     "output_type": "execute_result"
    },
    {
     "data": {
      "image/png": "[encoded data removed]",
      "text/plain": [
       "<Figure size 432x288 with 1 Axes>"
      ]
     },
     "metadata": {
      "needs_background": "light"
     },
     "output_type": "display_data"
    }
   ],
   "source": [
    "plt.scatter(x,y + y_)"
   ]
  },
  {
   "cell_type": "code",
   "execution_count": 42,
   "id": "bb40797a-c3fa-4f3a-a2a4-cbed2d2393fc",
   "metadata": {},
   "outputs": [],
   "source": [
    "df = pd.DataFrame()"
   ]
  },
  {
   "cell_type": "code",
   "execution_count": 43,
   "id": "32cc340f-166a-40d5-87f8-3b1f7f51a01c",
   "metadata": {},
   "outputs": [],
   "source": [
    "df[\"x\"] = x\n",
    "df[\"y\"] = y + y_"
   ]
  },
  {
   "cell_type": "code",
   "execution_count": 45,
   "id": "94be38da-8749-41a4-84b1-f2079a7b6cb8",
   "metadata": {},
   "outputs": [],
   "source": [
    "df.to_csv(\"noizy_data.csv\")"
   ]
  },
  {
   "cell_type": "code",
   "execution_count": null,
   "id": "e6d0f7ca-4194-4047-9de9-1d9e84b66bdc",
   "metadata": {},
   "outputs": [],
   "source": []
  }
 ],
 "metadata": {
  "kernelspec": {
   "display_name": "Python 3 (ipykernel)",
   "language": "python",
   "name": "python3"
  },
  "language_info": {
   "codemirror_mode": {
    "name": "ipython",
    "version": 3
   },
   "file_extension": ".py",
   "mimetype": "text/x-python",
   "name": "python",
   "nbconvert_exporter": "python",
   "pygments_lexer": "ipython3",
   "version": "3.9.13"
  }
 },
 "nbformat": 4,
 "nbformat_minor": 5
}
