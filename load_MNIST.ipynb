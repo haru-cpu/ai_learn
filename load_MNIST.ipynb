{
 "cells": [
  {
   "cell_type": "markdown",
   "id": "72d03f21",
   "metadata": {},
   "source": [
    "# 課題１"
   ]
  },
  {
   "cell_type": "markdown",
   "id": "7169e31a-f5f9-4e4e-93bb-7b84081ee564",
   "metadata": {},
   "source": [
    "MNISTの高解像度版データセット用読み込みjupyter file\n",
    "\n",
    "- [このリンク](http://yann.lecun.com/exdb/mnist/)から4つのファイルをダウンロードし、解凍して、このファイルと同じディレクトリに置く\n",
    "- このプログラムと同じディレクトリにdatasetsのフォルダを作る\n",
    "- 解凍した４つのファイルを入れる\n",
    "- path: datasets\n",
    "- kind: \"train\" or \"t10k\"\n",
    "読み込みが完了し、trainとtestのimagesとlabelsに分けて読み込むとする。"
   ]
  },
  {
   "cell_type": "code",
   "execution_count": 2,
   "id": "99c070b6-67ad-4a4a-abd0-185d43d014ad",
   "metadata": {},
   "outputs": [],
   "source": [
    "import sys\n",
    "import struct\n",
    "import matplotlib.pyplot as plt\n",
    "import numpy as np\n",
    "import os"
   ]
  },
  {
   "cell_type": "code",
   "execution_count": 3,
   "id": "373ab6d3-f449-49fc-ac22-ee3142d7aa99",
   "metadata": {},
   "outputs": [],
   "source": [
    "def load_mnist(path, kind='train'):\n",
    "    labels_path = os.path.join(path,'%s-labels.idx1-ubyte'% kind)\n",
    "    images_path = os.path.join(path,'%s-images.idx3-ubyte'% kind)\n",
    "    #images_path = \"datasets/t10k-images.idx3-ubyte\"\n",
    "    #labels_path = \"datasets/t10k-labels.idx1-ubyte\"\n",
    "    with open(labels_path, 'rb') as lbpath:\n",
    "        magic, n = struct.unpack('>II',lbpath.read(8))\n",
    "        labels = np.fromfile(lbpath,dtype=np.uint8)\n",
    "        \n",
    "    with open(images_path, 'rb') as imgpath:\n",
    "        magic, num, rows, cols = struct.unpack(\">IIII\", imgpath.read(16))\n",
    "        images = np.fromfile(imgpath,dtype=np.uint8).reshape(len(labels), 784)\n",
    "        \n",
    "    return images, labels, rows, cols"
   ]
  },
  {
   "cell_type": "code",
   "execution_count": 4,
   "id": "4a33b8a0-02cc-482f-ae61-a08c268c333c",
   "metadata": {},
   "outputs": [],
   "source": [
    "train_images, train_labels, train_rows, train_cols= load_mnist(\"datasets\",kind=\"train\")\n",
    "test_images, test_labels, test_rows, train_cols = load_mnist(\"datasets\",kind=\"t10k\")"
   ]
  },
  {
   "cell_type": "code",
   "execution_count": 5,
   "id": "172cc576-15de-430c-a8b2-bc7e72af6130",
   "metadata": {},
   "outputs": [
    {
     "data": {
      "text/plain": [
       "(60000, 784)"
      ]
     },
     "execution_count": 5,
     "metadata": {},
     "output_type": "execute_result"
    }
   ],
   "source": [
    "train_images.shape"
   ]
  },
  {
   "cell_type": "code",
   "execution_count": 6,
   "id": "fe0e4585-b33e-484a-93ee-8c2b42ecbd6b",
   "metadata": {},
   "outputs": [],
   "source": [
    "x_train = train_images"
   ]
  },
  {
   "cell_type": "code",
   "execution_count": 7,
   "id": "fa9a78eb",
   "metadata": {},
   "outputs": [],
   "source": [
    "y_train = train_labels\n",
    "x_test = test_images\n",
    "y_test = test_labels"
   ]
  },
  {
   "cell_type": "code",
   "execution_count": 8,
   "id": "4e95b30b",
   "metadata": {},
   "outputs": [],
   "source": [
    "from sklearn.neighbors import KNeighborsClassifier"
   ]
  },
  {
   "cell_type": "code",
   "execution_count": 9,
   "id": "6d9115b0",
   "metadata": {},
   "outputs": [],
   "source": [
    "k = KNeighborsClassifier()"
   ]
  },
  {
   "cell_type": "code",
   "execution_count": 10,
   "id": "5c155aef",
   "metadata": {},
   "outputs": [
    {
     "data": {
      "text/plain": [
       "KNeighborsClassifier()"
      ]
     },
     "execution_count": 10,
     "metadata": {},
     "output_type": "execute_result"
    }
   ],
   "source": [
    "k.fit(x_train, y_train)"
   ]
  },
  {
   "cell_type": "markdown",
   "id": "d656c835",
   "metadata": {},
   "source": [
    "# 課題２\n",
    "MNISTのデータセットについて以下の点を調べなさい。  \n",
    "\n",
    "・縦横のピクセル数  \n",
    "・色味（RGB？グレースケール？２値画像？）  \n",
    "・matplotlibでその像を表示しなさい"
   ]
  },
  {
   "cell_type": "markdown",
   "id": "10b6b90d",
   "metadata": {},
   "source": [
    "Q1"
   ]
  },
  {
   "cell_type": "code",
   "execution_count": 11,
   "id": "cd31e3cf",
   "metadata": {
    "scrolled": true
   },
   "outputs": [
    {
     "data": {
      "text/plain": [
       "array([[0, 0, 0, ..., 0, 0, 0],\n",
       "       [0, 0, 0, ..., 0, 0, 0],\n",
       "       [0, 0, 0, ..., 0, 0, 0],\n",
       "       ...,\n",
       "       [0, 0, 0, ..., 0, 0, 0],\n",
       "       [0, 0, 0, ..., 0, 0, 0],\n",
       "       [0, 0, 0, ..., 0, 0, 0]], dtype=uint8)"
      ]
     },
     "execution_count": 11,
     "metadata": {},
     "output_type": "execute_result"
    }
   ],
   "source": [
    "x_train"
   ]
  },
  {
   "cell_type": "code",
   "execution_count": 12,
   "id": "56a4b876",
   "metadata": {
    "scrolled": true
   },
   "outputs": [
    {
     "data": {
      "text/plain": [
       "28"
      ]
     },
     "execution_count": 12,
     "metadata": {},
     "output_type": "execute_result"
    }
   ],
   "source": [
    "train_cols"
   ]
  },
  {
   "cell_type": "code",
   "execution_count": 13,
   "id": "0a42ee73",
   "metadata": {
    "scrolled": true
   },
   "outputs": [
    {
     "data": {
      "text/plain": [
       "28"
      ]
     },
     "execution_count": 13,
     "metadata": {},
     "output_type": "execute_result"
    }
   ],
   "source": [
    "train_rows"
   ]
  },
  {
   "cell_type": "markdown",
   "id": "ab2282dc",
   "metadata": {},
   "source": [
    "Q2  \n",
    "値の最小と最大を求めれば、諧調がわかる  \n",
    "ビット数はdtype=uint8  \n",
    "http://www.igunoss.co.jp/imageproc/imageproc1-2.html#:~:text=%E3%82%B0%E3%83%AC%E3%83%BC%E3%82%B9%E3%82%B1%E3%83%BC%E3%83%AB%E7%94%BB%E5%83%8F%E3%81%AF%E3%80%811,%E3%81%8C%E7%99%BD%E3%81%AB%E3%81%AA%E3%82%8A%E3%81%BE%E3%81%99%E3%80%82&text=%E3%82%AB%E3%83%A9%E3%83%BC%E7%94%BB%E5%83%8F%E3%81%A8%E3%82%B0%E3%83%AC%E3%83%BC%E3%82%B9%E3%82%B1%E3%83%BC%E3%83%AB%E7%94%BB%E5%83%8F%E3%81%AE%E8%A6%8B%E5%88%86%E3%81%91%E6%96%B9%EF%BC%9F"
   ]
  },
  {
   "cell_type": "code",
   "execution_count": 14,
   "id": "26441355",
   "metadata": {},
   "outputs": [
    {
     "data": {
      "text/plain": [
       "0"
      ]
     },
     "execution_count": 14,
     "metadata": {},
     "output_type": "execute_result"
    }
   ],
   "source": [
    "x_train[0].min()"
   ]
  },
  {
   "cell_type": "code",
   "execution_count": 15,
   "id": "37b03ad7",
   "metadata": {
    "scrolled": true
   },
   "outputs": [
    {
     "data": {
      "text/plain": [
       "255"
      ]
     },
     "execution_count": 15,
     "metadata": {},
     "output_type": "execute_result"
    }
   ],
   "source": [
    "x_train[0].max()"
   ]
  },
  {
   "cell_type": "markdown",
   "id": "7468002f",
   "metadata": {},
   "source": [
    "Q3"
   ]
  },
  {
   "cell_type": "code",
   "execution_count": 16,
   "id": "20a93f10",
   "metadata": {},
   "outputs": [
    {
     "data": {
      "text/plain": [
       "(60000, 784)"
      ]
     },
     "execution_count": 16,
     "metadata": {},
     "output_type": "execute_result"
    }
   ],
   "source": [
    "# 形式を変更する\n",
    "# 現状\n",
    "x_train.shape"
   ]
  },
  {
   "cell_type": "code",
   "execution_count": 17,
   "id": "5988cc9c",
   "metadata": {},
   "outputs": [],
   "source": [
    "m = x_train.reshape(60000, train_rows, train_cols)"
   ]
  },
  {
   "cell_type": "code",
   "execution_count": 18,
   "id": "1e356678",
   "metadata": {},
   "outputs": [
    {
     "data": {
      "text/plain": [
       "<matplotlib.image.AxesImage at 0x29ac67c3160>"
      ]
     },
     "execution_count": 18,
     "metadata": {},
     "output_type": "execute_result"
    },
    {
     "data": {
      "image/png": "[encoded data removed]",
      "text/plain": [
       "<Figure size 432x288 with 1 Axes>"
      ]
     },
     "metadata": {
      "needs_background": "light"
     },
     "output_type": "display_data"
    }
   ],
   "source": [
    "plt.imshow(m[0])"
   ]
  },
  {
   "cell_type": "markdown",
   "id": "090342f0",
   "metadata": {},
   "source": [
    "# 課題３  \n",
    "自分で書いた手書き文字（数字）が上記学習器を使って認識できるか"
   ]
  },
  {
   "cell_type": "code",
   "execution_count": 22,
   "id": "2e91f541",
   "metadata": {},
   "outputs": [
    {
     "name": "stdout",
     "output_type": "stream",
     "text": [
      "Requirement already satisfied: scikit-image in c:\\users\\sakur\\anaconda3\\lib\\site-packages (0.19.2)\n",
      "Requirement already satisfied: PyWavelets>=1.1.1 in c:\\users\\sakur\\anaconda3\\lib\\site-packages (from scikit-image) (1.3.0)\n",
      "Requirement already satisfied: tifffile>=2019.7.26 in c:\\users\\sakur\\anaconda3\\lib\\site-packages (from scikit-image) (2021.7.2)\n",
      "Requirement already satisfied: networkx>=2.2 in c:\\users\\sakur\\anaconda3\\lib\\site-packages (from scikit-image) (2.7.1)\n",
      "Requirement already satisfied: imageio>=2.4.1 in c:\\users\\sakur\\anaconda3\\lib\\site-packages (from scikit-image) (2.9.0)\n",
      "Requirement already satisfied: pillow!=7.1.0,!=7.1.1,!=8.3.0,>=6.1.0 in c:\\users\\sakur\\anaconda3\\lib\\site-packages (from scikit-image) (9.0.1)\n",
      "Requirement already satisfied: packaging>=20.0 in c:\\users\\sakur\\anaconda3\\lib\\site-packages (from scikit-image) (21.3)\n",
      "Requirement already satisfied: numpy>=1.17.0 in c:\\users\\sakur\\anaconda3\\lib\\site-packages (from scikit-image) (1.21.5)\n",
      "Requirement already satisfied: scipy>=1.4.1 in c:\\users\\sakur\\anaconda3\\lib\\site-packages (from scikit-image) (1.7.3)\n",
      "Requirement already satisfied: pyparsing!=3.0.5,>=2.0.2 in c:\\users\\sakur\\anaconda3\\lib\\site-packages (from packaging>=20.0->scikit-image) (3.0.4)\n",
      "\n",
      "[notice] A new release of pip available: 22.2 -> 22.2.2\n",
      "[notice] To update, run: python.exe -m pip install --upgrade pip\n"
     ]
    }
   ],
   "source": [
    "!pip install scikit-image"
   ]
  },
  {
   "cell_type": "code",
   "execution_count": 19,
   "id": "cb345c11",
   "metadata": {},
   "outputs": [],
   "source": [
    "from skimage import io, color"
   ]
  },
  {
   "cell_type": "code",
   "execution_count": 21,
   "id": "43216298",
   "metadata": {},
   "outputs": [],
   "source": [
    "# ファイル名\n",
    "fileName = \"mnist1.jpg\""
   ]
  },
  {
   "cell_type": "code",
   "execution_count": 22,
   "id": "56277ec6",
   "metadata": {},
   "outputs": [],
   "source": [
    "# パスの読み込み\n",
    "img = io.imread(fileName)"
   ]
  },
  {
   "cell_type": "code",
   "execution_count": 23,
   "id": "3fd8d05b",
   "metadata": {},
   "outputs": [
    {
     "data": {
      "text/plain": [
       "(28, 28)"
      ]
     },
     "execution_count": 23,
     "metadata": {},
     "output_type": "execute_result"
    }
   ],
   "source": [
    "# 画像を色の値にする\n",
    "img_color = color.rgb2gray(img)\n",
    "img_color.shape"
   ]
  },
  {
   "cell_type": "code",
   "execution_count": 24,
   "id": "b23cd7fe",
   "metadata": {},
   "outputs": [
    {
     "ename": "ValueError",
     "evalue": "X has 28 features, but KNeighborsClassifier is expecting 784 features as input.",
     "output_type": "error",
     "traceback": [
      "\u001b[1;31m---------------------------------------------------------------------------\u001b[0m",
      "\u001b[1;31mValueError\u001b[0m                                Traceback (most recent call last)",
      "Input \u001b[1;32mIn [24]\u001b[0m, in \u001b[0;36m<cell line: 1>\u001b[1;34m()\u001b[0m\n\u001b[1;32m----> 1\u001b[0m pred \u001b[38;5;241m=\u001b[39m \u001b[43mk\u001b[49m\u001b[38;5;241;43m.\u001b[39;49m\u001b[43mpredict\u001b[49m\u001b[43m(\u001b[49m\u001b[43mimg_color\u001b[49m\u001b[43m)\u001b[49m\n",
      "File \u001b[1;32m~\\anaconda3\\lib\\site-packages\\sklearn\\neighbors\\_classification.py:214\u001b[0m, in \u001b[0;36mKNeighborsClassifier.predict\u001b[1;34m(self, X)\u001b[0m\n\u001b[0;32m    200\u001b[0m \u001b[38;5;28;01mdef\u001b[39;00m \u001b[38;5;21mpredict\u001b[39m(\u001b[38;5;28mself\u001b[39m, X):\n\u001b[0;32m    201\u001b[0m     \u001b[38;5;124;03m\"\"\"Predict the class labels for the provided data.\u001b[39;00m\n\u001b[0;32m    202\u001b[0m \n\u001b[0;32m    203\u001b[0m \u001b[38;5;124;03m    Parameters\u001b[39;00m\n\u001b[1;32m   (...)\u001b[0m\n\u001b[0;32m    212\u001b[0m \u001b[38;5;124;03m        Class labels for each data sample.\u001b[39;00m\n\u001b[0;32m    213\u001b[0m \u001b[38;5;124;03m    \"\"\"\u001b[39;00m\n\u001b[1;32m--> 214\u001b[0m     neigh_dist, neigh_ind \u001b[38;5;241m=\u001b[39m \u001b[38;5;28;43mself\u001b[39;49m\u001b[38;5;241;43m.\u001b[39;49m\u001b[43mkneighbors\u001b[49m\u001b[43m(\u001b[49m\u001b[43mX\u001b[49m\u001b[43m)\u001b[49m\n\u001b[0;32m    215\u001b[0m     classes_ \u001b[38;5;241m=\u001b[39m \u001b[38;5;28mself\u001b[39m\u001b[38;5;241m.\u001b[39mclasses_\n\u001b[0;32m    216\u001b[0m     _y \u001b[38;5;241m=\u001b[39m \u001b[38;5;28mself\u001b[39m\u001b[38;5;241m.\u001b[39m_y\n",
      "File \u001b[1;32m~\\anaconda3\\lib\\site-packages\\sklearn\\neighbors\\_base.py:717\u001b[0m, in \u001b[0;36mKNeighborsMixin.kneighbors\u001b[1;34m(self, X, n_neighbors, return_distance)\u001b[0m\n\u001b[0;32m    715\u001b[0m         X \u001b[38;5;241m=\u001b[39m _check_precomputed(X)\n\u001b[0;32m    716\u001b[0m     \u001b[38;5;28;01melse\u001b[39;00m:\n\u001b[1;32m--> 717\u001b[0m         X \u001b[38;5;241m=\u001b[39m \u001b[38;5;28;43mself\u001b[39;49m\u001b[38;5;241;43m.\u001b[39;49m\u001b[43m_validate_data\u001b[49m\u001b[43m(\u001b[49m\u001b[43mX\u001b[49m\u001b[43m,\u001b[49m\u001b[43m \u001b[49m\u001b[43maccept_sparse\u001b[49m\u001b[38;5;241;43m=\u001b[39;49m\u001b[38;5;124;43m\"\u001b[39;49m\u001b[38;5;124;43mcsr\u001b[39;49m\u001b[38;5;124;43m\"\u001b[39;49m\u001b[43m,\u001b[49m\u001b[43m \u001b[49m\u001b[43mreset\u001b[49m\u001b[38;5;241;43m=\u001b[39;49m\u001b[38;5;28;43;01mFalse\u001b[39;49;00m\u001b[43m)\u001b[49m\n\u001b[0;32m    718\u001b[0m \u001b[38;5;28;01melse\u001b[39;00m:\n\u001b[0;32m    719\u001b[0m     query_is_train \u001b[38;5;241m=\u001b[39m \u001b[38;5;28;01mTrue\u001b[39;00m\n",
      "File \u001b[1;32m~\\anaconda3\\lib\\site-packages\\sklearn\\base.py:585\u001b[0m, in \u001b[0;36mBaseEstimator._validate_data\u001b[1;34m(self, X, y, reset, validate_separately, **check_params)\u001b[0m\n\u001b[0;32m    582\u001b[0m     out \u001b[38;5;241m=\u001b[39m X, y\n\u001b[0;32m    584\u001b[0m \u001b[38;5;28;01mif\u001b[39;00m \u001b[38;5;129;01mnot\u001b[39;00m no_val_X \u001b[38;5;129;01mand\u001b[39;00m check_params\u001b[38;5;241m.\u001b[39mget(\u001b[38;5;124m\"\u001b[39m\u001b[38;5;124mensure_2d\u001b[39m\u001b[38;5;124m\"\u001b[39m, \u001b[38;5;28;01mTrue\u001b[39;00m):\n\u001b[1;32m--> 585\u001b[0m     \u001b[38;5;28;43mself\u001b[39;49m\u001b[38;5;241;43m.\u001b[39;49m\u001b[43m_check_n_features\u001b[49m\u001b[43m(\u001b[49m\u001b[43mX\u001b[49m\u001b[43m,\u001b[49m\u001b[43m \u001b[49m\u001b[43mreset\u001b[49m\u001b[38;5;241;43m=\u001b[39;49m\u001b[43mreset\u001b[49m\u001b[43m)\u001b[49m\n\u001b[0;32m    587\u001b[0m \u001b[38;5;28;01mreturn\u001b[39;00m out\n",
      "File \u001b[1;32m~\\anaconda3\\lib\\site-packages\\sklearn\\base.py:400\u001b[0m, in \u001b[0;36mBaseEstimator._check_n_features\u001b[1;34m(self, X, reset)\u001b[0m\n\u001b[0;32m    397\u001b[0m     \u001b[38;5;28;01mreturn\u001b[39;00m\n\u001b[0;32m    399\u001b[0m \u001b[38;5;28;01mif\u001b[39;00m n_features \u001b[38;5;241m!=\u001b[39m \u001b[38;5;28mself\u001b[39m\u001b[38;5;241m.\u001b[39mn_features_in_:\n\u001b[1;32m--> 400\u001b[0m     \u001b[38;5;28;01mraise\u001b[39;00m \u001b[38;5;167;01mValueError\u001b[39;00m(\n\u001b[0;32m    401\u001b[0m         \u001b[38;5;124mf\u001b[39m\u001b[38;5;124m\"\u001b[39m\u001b[38;5;124mX has \u001b[39m\u001b[38;5;132;01m{\u001b[39;00mn_features\u001b[38;5;132;01m}\u001b[39;00m\u001b[38;5;124m features, but \u001b[39m\u001b[38;5;132;01m{\u001b[39;00m\u001b[38;5;28mself\u001b[39m\u001b[38;5;241m.\u001b[39m\u001b[38;5;18m__class__\u001b[39m\u001b[38;5;241m.\u001b[39m\u001b[38;5;18m__name__\u001b[39m\u001b[38;5;132;01m}\u001b[39;00m\u001b[38;5;124m \u001b[39m\u001b[38;5;124m\"\u001b[39m\n\u001b[0;32m    402\u001b[0m         \u001b[38;5;124mf\u001b[39m\u001b[38;5;124m\"\u001b[39m\u001b[38;5;124mis expecting \u001b[39m\u001b[38;5;132;01m{\u001b[39;00m\u001b[38;5;28mself\u001b[39m\u001b[38;5;241m.\u001b[39mn_features_in_\u001b[38;5;132;01m}\u001b[39;00m\u001b[38;5;124m features as input.\u001b[39m\u001b[38;5;124m\"\u001b[39m\n\u001b[0;32m    403\u001b[0m     )\n",
      "\u001b[1;31mValueError\u001b[0m: X has 28 features, but KNeighborsClassifier is expecting 784 features as input."
     ]
    }
   ],
   "source": [
    "# X has 28 features, but KNeighborsClassifier is expecting 784 features as input.でエラーが起こる\n",
    "# →28行が28個あるという意味になっているからエラーになった\n",
    "pred = k.predict(img_color)"
   ]
  },
  {
   "cell_type": "code",
   "execution_count": 28,
   "id": "bfa3dca1",
   "metadata": {},
   "outputs": [
    {
     "data": {
      "text/plain": [
       "array([[0.60589373, 0.60589373, 0.6092498 , 0.61119922, 0.61119922,\n",
       "        0.61538863, 0.61538863, 0.6193102 , 0.61677255, 0.62853725,\n",
       "        0.63245882, 0.62461569, 0.62069412, 0.64030196, 0.61817137,\n",
       "        0.63385765, 0.62684784, 0.62684784, 0.62684784, 0.62292627,\n",
       "        0.62292627, 0.61900471, 0.61786588, 0.61786588, 0.61394431,\n",
       "        0.61002275, 0.60610118, 0.60217961, 0.60589373, 0.6092498 ,\n",
       "        0.6092498 , 0.61119922, 0.61119922, 0.61538863, 0.6193102 ,\n",
       "        0.6193102 , 0.62853725, 0.62461569, 0.62461569, 0.63245882,\n",
       "        0.64422353, 0.62069412, 0.62209294, 0.62993608, 0.63076941,\n",
       "        0.62684784, 0.62684784, 0.62684784, 0.62292627, 0.62178745,\n",
       "        0.61786588, 0.61786588, 0.61786588, 0.61394431, 0.61002275,\n",
       "        0.60610118, 0.60532824, 0.6092498 , 0.6092498 , 0.61119922,\n",
       "        0.61736078, 0.61538863, 0.6193102 , 0.62069412, 0.61677255,\n",
       "        0.64030196, 0.62461569, 0.6481451 , 0.62461569, 0.64030196,\n",
       "        0.63385765, 0.64170078, 0.63076941, 0.63076941, 0.63076941,\n",
       "        0.62570902, 0.62570902, 0.62178745, 0.62178745, 0.62178745,\n",
       "        0.61394431, 0.61002275, 0.60610118, 0.60610118, 0.6092498 ,\n",
       "        0.6092498 , 0.60868431, 0.61343922, 0.61736078, 0.6193102 ,\n",
       "        0.61902745, 0.62461569, 0.64422353, 0.61677255, 0.6265651 ,\n",
       "        0.61872196, 0.62264353, 0.6383298 , 0.62292627, 0.63469098,\n",
       "        0.62963059, 0.62963059, 0.62963059, 0.62963059, 0.62570902,\n",
       "        0.62570902, 0.62178745, 0.62178745, 0.61394431, 0.61002275,\n",
       "        0.60610118, 0.60020745, 0.60476275, 0.60868431, 0.60868431,\n",
       "        0.61343922, 0.61707804, 0.61902745, 0.61902745, 0.62461569,\n",
       "        0.60892941, 0.64225137, 0.63048667, 0.64225137, 0.65793765,\n",
       "        0.42292627, 0.65429882, 0.64253412, 0.62934784, 0.62934784,\n",
       "        0.62934784, 0.62934784, 0.62542627, 0.62542627, 0.62150471,\n",
       "        0.62150471, 0.61366157, 0.61366157, 0.60776784, 0.60384627,\n",
       "        0.60476275, 0.60868431, 0.60868431, 0.61315647, 0.61707804,\n",
       "        0.61902745, 0.61902745, 0.62461569, 0.63048667, 0.61480039,\n",
       "        0.63440824, 0.61087882, 0.65679882, 0.42178745, 0.63747373,\n",
       "        0.62963059, 0.62934784, 0.62934784, 0.62934784, 0.62542627,\n",
       "        0.62542627, 0.62150471, 0.62150471, 0.62150471, 0.61168941,\n",
       "        0.60776784, 0.60776784, 0.60384627, 0.60728549, 0.60728549,\n",
       "        0.61120706, 0.61315647, 0.61707804, 0.61510588, 0.62069412,\n",
       "        0.62069412, 0.61480039, 0.6265651 , 0.62934784, 0.62150471,\n",
       "        0.63355216, 0.43355216, 0.64531686, 0.63747373, 0.62934784,\n",
       "        0.62542627, 0.62542627, 0.62542627, 0.62150471, 0.62150471,\n",
       "        0.61758314, 0.61561098, 0.60776784, 0.60776784, 0.60384627,\n",
       "        0.59992471, 0.60728549, 0.60728549, 0.61120706, 0.6092349 ,\n",
       "        0.61315647, 0.61510588, 0.62069412, 0.62069412, 0.6265651 ,\n",
       "        0.61872196, 0.61758314, 0.62542627, 0.65316   , 0.41394431,\n",
       "        0.64531686, 0.63355216, 0.62542627, 0.62542627, 0.62542627,\n",
       "        0.62150471, 0.61953255, 0.61561098, 0.61561098, 0.61561098,\n",
       "        0.61168941, 0.61168941, 0.60776784, 0.60384627, 0.60476275,\n",
       "        0.60476275, 0.60868431, 0.61315647, 0.61707804, 0.61510588,\n",
       "        0.62069412, 0.62069412, 0.61480039, 0.63048667, 0.62150471,\n",
       "        0.62570902, 0.64531686, 0.41002275, 0.65316   , 0.62346902,\n",
       "        0.62373686, 0.61981529, 0.61981529, 0.61981529, 0.61981529,\n",
       "        0.61981529, 0.61589373, 0.61589373, 0.61002275, 0.61002275,\n",
       "        0.60610118, 0.60217961, 0.60476275, 0.60476275, 0.60476275,\n",
       "        0.60951765, 0.61343922, 0.61538863, 0.6142498 , 0.62069412,\n",
       "        0.61900471, 0.61900471, 0.62178745, 0.62178745, 0.64923843,\n",
       "        0.39601804, 0.64699843, 0.62346902, 0.62373686, 0.61981529,\n",
       "        0.61981529, 0.61589373, 0.61786588, 0.61786588, 0.61786588,\n",
       "        0.61394431, 0.61002275, 0.60610118, 0.60610118, 0.60217961,\n",
       "        0.60140667, 0.60140667, 0.60532824, 0.60727765, 0.60951765,\n",
       "        0.61146706, 0.61538863, 0.6142498 , 0.61900471, 0.61116157,\n",
       "        0.61900471, 0.61900471, 0.64307686, 0.39209647, 0.64307686,\n",
       "        0.62346902, 0.62346902, 0.61954745, 0.61562588, 0.61562588,\n",
       "        0.61562588, 0.61170431, 0.61170431, 0.60778275, 0.60386118,\n",
       "        0.60386118, 0.59993961, 0.59601804, 0.60197216, 0.60197216,\n",
       "        0.60589373, 0.60335608, 0.60727765, 0.61203255, 0.61203255,\n",
       "        0.61089373, 0.61481529, 0.60892157, 0.61676471, 0.62068627,\n",
       "        0.62852941, 0.405     , 0.64421569, 0.62460784, 0.62346902,\n",
       "        0.61954745, 0.61562588, 0.61562588, 0.61170431, 0.61170431,\n",
       "        0.60778275, 0.60386118, 0.60386118, 0.59993961, 0.59601804,\n",
       "        0.59601804, 0.59973216, 0.59973216, 0.59973216, 0.60392157,\n",
       "        0.60784314, 0.60587098, 0.60979255, 0.61089373, 0.61089373,\n",
       "        0.62265843, 0.61284314, 0.62852941, 0.60556549, 0.42517333,\n",
       "        0.64478118, 0.62125176, 0.62403451, 0.62011294, 0.61619137,\n",
       "        0.61619137, 0.6122698 , 0.6122698 , 0.60834824, 0.60442667,\n",
       "        0.6005051 , 0.60164392, 0.59772235, 0.59380078, 0.59637608,\n",
       "        0.60029765, 0.59973216, 0.60448706, 0.60448706, 0.60587098,\n",
       "        0.60587098, 0.61145922, 0.61145922, 0.62322392, 0.61538078,\n",
       "        0.63498863, 0.59185137, 0.43498863, 0.64675333, 0.62322392,\n",
       "        0.62403451, 0.62011294, 0.61619137, 0.6122698 , 0.6122698 ,\n",
       "        0.60834824, 0.60834824, 0.60556549, 0.60164392, 0.60164392,\n",
       "        0.59772235, 0.59380078, 0.59637608, 0.59637608, 0.60029765,\n",
       "        0.59832549, 0.60448706, 0.6025149 , 0.60643647, 0.60587098,\n",
       "        0.61145922, 0.61538078, 0.61145922, 0.63106706, 0.5879298 ,\n",
       "        0.43106706, 0.64283176, 0.62322392, 0.62067843, 0.61675686,\n",
       "        0.61283529, 0.61283529, 0.61283529, 0.60891373, 0.60613098,\n",
       "        0.60613098, 0.60220941, 0.60220941, 0.59828784, 0.59436627,\n",
       "        0.59273725, 0.59637608, 0.59637608, 0.59832549, 0.59832549,\n",
       "        0.6025149 , 0.6025149 , 0.6025149 , 0.61145922, 0.60361608,\n",
       "        0.60753765, 0.62714549, 0.59185137, 0.41930235, 0.6389102 ,\n",
       "        0.62322392, 0.61675686, 0.61283529, 0.61283529, 0.60891373,\n",
       "        0.60891373, 0.61005255, 0.60613098, 0.60220941, 0.60220941,\n",
       "        0.60220941, 0.59828784, 0.59436627, 0.58796745, 0.59188902,\n",
       "        0.59188902, 0.59581059, 0.59664392, 0.60056549, 0.60056549,\n",
       "        0.59859333, 0.6025149 , 0.59745451, 0.60529765, 0.62098392,\n",
       "        0.56299373, 0.43358196, 0.63358196, 0.60613098, 0.60891373,\n",
       "        0.60891373, 0.60891373, 0.60891373, 0.60499216, 0.60499216,\n",
       "        0.60107059, 0.60107059, 0.59714902, 0.59714902, 0.59212627,\n",
       "        0.59212627, 0.58853294, 0.58853294, 0.59245451, 0.59637608,\n",
       "        0.59637608, 0.59832549, 0.59832549, 0.59915882, 0.60700196,\n",
       "        0.59915882, 0.60978471, 0.61370627, 0.54311804, 0.45487137,\n",
       "        0.62349882, 0.60781255, 0.60613098, 0.60613098, 0.60613098,\n",
       "        0.60499216, 0.60499216, 0.60107059, 0.60107059, 0.60107059,\n",
       "        0.59490902, 0.59604784, 0.59212627, 0.59212627, 0.5857502 ,\n",
       "        0.58967176, 0.58853294, 0.59245451, 0.59637608, 0.60029765,\n",
       "        0.59832549, 0.59832549, 0.60700196, 0.59915882, 0.61092353,\n",
       "        0.60978471, 0.53135333, 0.46860824, 0.61762784, 0.60781255,\n",
       "        0.60613098, 0.60613098, 0.60613098, 0.60220941, 0.60220941,\n",
       "        0.60220941, 0.59604784, 0.59604784, 0.59604784, 0.59212627,\n",
       "        0.59212627, 0.58820471, 0.5857502 , 0.5857502 , 0.58967176,\n",
       "        0.59359333, 0.59637608, 0.59637608, 0.60029765, 0.59832549,\n",
       "        0.60224706, 0.59523725, 0.60700196, 0.61092353, 0.5352749 ,\n",
       "        0.4607651 , 0.61762784, 0.60586314, 0.59996941, 0.59996941,\n",
       "        0.59996941, 0.59996941, 0.59996941, 0.59604784, 0.59604784,\n",
       "        0.59604784, 0.59212627, 0.59212627, 0.59409843, 0.59017686,\n",
       "        0.58127804, 0.58519961, 0.58322745, 0.58714902, 0.59107059,\n",
       "        0.59499216, 0.59665882, 0.59665882, 0.59860824, 0.59468667,\n",
       "        0.6025298 , 0.61232235, 0.54957725, 0.4319302 , 0.62408706,\n",
       "        0.60222431, 0.60194157, 0.60194157, 0.60194157, 0.60194157,\n",
       "        0.60194157, 0.59604784, 0.59604784, 0.59604784, 0.59212627,\n",
       "        0.59409843, 0.59017686, 0.59017686, 0.58127804, 0.58127804,\n",
       "        0.58519961, 0.58912118, 0.59107059, 0.59107059, 0.59499216,\n",
       "        0.59665882, 0.59665882, 0.59665882, 0.59860824, 0.61429451,\n",
       "        0.55349882, 0.42408706, 0.62408706, 0.60055765, 0.60308039,\n",
       "        0.60308039, 0.60194157, 0.60194157, 0.59802   , 0.59802   ,\n",
       "        0.59802   , 0.59802   , 0.59438118, 0.59045961, 0.59045961,\n",
       "        0.58487137, 0.57625529, 0.58017686, 0.58409843, 0.5857651 ,\n",
       "        0.58968667, 0.59360824, 0.59163608, 0.59555765, 0.59947922,\n",
       "        0.59049725, 0.59834039, 0.61093843, 0.54427176, 0.44231098,\n",
       "        0.61878157, 0.59917373, 0.59663608, 0.59663608, 0.59663608,\n",
       "        0.59663608, 0.59663608, 0.59663608, 0.59438118, 0.59438118,\n",
       "        0.59438118, 0.58879294, 0.58879294, 0.58487137, 0.57625529,\n",
       "        0.58017686, 0.58017686, 0.58409843, 0.58802   , 0.59360824,\n",
       "        0.59360824, 0.59555765, 0.59947922, 0.59163608, 0.60226196,\n",
       "        0.60226196, 0.52775216, 0.46191882, 0.61093843, 0.60309529,\n",
       "        0.59860824, 0.59860824, 0.59860824, 0.59271451, 0.59271451,\n",
       "        0.59271451, 0.59271451, 0.59271451, 0.58879294, 0.58879294,\n",
       "        0.58487137, 0.58543686, 0.57879294, 0.58663608, 0.58663608,\n",
       "        0.58466392, 0.58466392, 0.59250706, 0.59136824, 0.58744667,\n",
       "        0.59136824, 0.59612314, 0.60788784, 0.59890588, 0.54008235,\n",
       "        0.4342    , 0.61067059, 0.59890588, 0.59860824, 0.59468667,\n",
       "        0.59468667, 0.59468667, 0.59860824, 0.59720157, 0.59328   ,\n",
       "        0.59328   , 0.58935843, 0.58543686, 0.58543686, 0.58348745,\n",
       "        0.57879294, 0.58271451, 0.58663608, 0.58663608, 0.58663608,\n",
       "        0.59250706, 0.59250706, 0.58744667, 0.59921137, 0.5952898 ,\n",
       "        0.59612314, 0.59612314, 0.57651529, 0.51655294, 0.60282745,\n",
       "        0.60282745, 0.59834039, 0.59441882, 0.59525216, 0.59525216,\n",
       "        0.59525216, 0.59917373, 0.59525216, 0.59328   , 0.58935843,\n",
       "        0.58543686, 0.58740902, 0.58348745, 0.5807651 , 0.58271451,\n",
       "        0.58663608, 0.58663608, 0.58663608, 0.58858549, 0.59250706,\n",
       "        0.58858549, 0.59921137, 0.5952898 , 0.58828   , 0.59220157,\n",
       "        0.60396627, 0.59612314, 0.58714118, 0.60674902, 0.59834039,\n",
       "        0.59441882, 0.59441882, 0.59441882, 0.59525216, 0.59525216,\n",
       "        0.59525216, 0.59525216, 0.58909059, 0.58516902, 0.58516902,\n",
       "        0.58124745, 0.58468667, 0.58468667, 0.58860824, 0.58663608,\n",
       "        0.58663608, 0.59055765, 0.58858549, 0.58858549, 0.58744667,\n",
       "        0.59136824, 0.59136824, 0.59220157, 0.60004471, 0.61180941,\n",
       "        0.58435843, 0.60004471, 0.59834039, 0.59498431, 0.59498431,\n",
       "        0.59498431, 0.59301216, 0.59301216, 0.59301216, 0.59301216,\n",
       "        0.58909059, 0.58516902, 0.58516902, 0.58124745]])"
      ]
     },
     "execution_count": 28,
     "metadata": {},
     "output_type": "execute_result"
    }
   ],
   "source": [
    "# そのため1行にする\n",
    "img_color = img_color.reshape(1, -1)\n",
    "img_color "
   ]
  },
  {
   "cell_type": "code",
   "execution_count": 29,
   "id": "11c015a3",
   "metadata": {},
   "outputs": [],
   "source": [
    "pred = k.predict(img_color)"
   ]
  },
  {
   "cell_type": "code",
   "execution_count": 30,
   "id": "63152dbb",
   "metadata": {},
   "outputs": [
    {
     "data": {
      "text/plain": [
       "array([1], dtype=uint8)"
      ]
     },
     "execution_count": 30,
     "metadata": {},
     "output_type": "execute_result"
    }
   ],
   "source": [
    "pred"
   ]
  },
  {
   "cell_type": "code",
   "execution_count": null,
   "id": "0fa84ac4",
   "metadata": {},
   "outputs": [],
   "source": []
  }
 ],
 "metadata": {
  "kernelspec": {
   "display_name": "Python 3 (ipykernel)",
   "language": "python",
   "name": "python3"
  },
  "language_info": {
   "codemirror_mode": {
    "name": "ipython",
    "version": 3
   },
   "file_extension": ".py",
   "mimetype": "text/x-python",
   "name": "python",
   "nbconvert_exporter": "python",
   "pygments_lexer": "ipython3",
   "version": "3.9.12"
  }
 },
 "nbformat": 4,
 "nbformat_minor": 5
}
