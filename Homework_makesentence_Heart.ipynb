{
 "cells": [
  {
   "cell_type": "markdown",
   "metadata": {},
   "source": [
    "### Q.1：\n",
    "次のリストの値を引数としてとり、要素をカンマとスペースで並べ、最後の要素の前にandを挿入した文字列を返す関数を書きなさい。例えば、下記のspamをこの関数に渡すと、\"apples, bananas, tofu, and cats\"を返すものとします。ただし、関数には任意のリスト値を渡しても良いようにします。\n",
    "\n",
    "```spam = [\"apples\",\"bananas\",\"tofu\",\"cats\"]```"
   ]
  },
  {
   "cell_type": "code",
   "execution_count": 1,
   "metadata": {},
   "outputs": [],
   "source": [
    "spam = [\"apples\",\"bananas\",\"tofu\",\"cats\"]"
   ]
  },
  {
   "cell_type": "code",
   "execution_count": 2,
   "metadata": {},
   "outputs": [
    {
     "data": {
      "text/plain": [
       "['apples', 'bananas', 'tofu', 'cats']"
      ]
     },
     "execution_count": 2,
     "metadata": {},
     "output_type": "execute_result"
    }
   ],
   "source": [
    "spam"
   ]
  },
  {
   "cell_type": "code",
   "execution_count": 16,
   "metadata": {},
   "outputs": [
    {
     "name": "stdout",
     "output_type": "stream",
     "text": [
      "リスト\n",
      "apples, \n",
      "spams\n",
      "apples\n",
      "リスト\n",
      "apples, bananas, \n",
      "spams\n",
      "bananas\n",
      "リスト\n",
      "apples, bananas, tofu, \n",
      "spams\n",
      "tofu\n",
      "リスト\n",
      "apples, bananas, tofu, cats, \n",
      "spams\n",
      "cats\n"
     ]
    }
   ],
   "source": [
    "list = \"\"\n",
    "for spams in spam :\n",
    "    list += (spams) + ', '\n",
    "    print(\"リスト\")\n",
    "    print(list)\n",
    "    print(\"spams\")\n",
    "    print(spams)"
   ]
  },
  {
   "cell_type": "code",
   "execution_count": 17,
   "metadata": {
    "scrolled": true
   },
   "outputs": [
    {
     "name": "stdout",
     "output_type": "stream",
     "text": [
      "OK\n",
      "tofu\n"
     ]
    }
   ],
   "source": [
    "if spam[-2] == spam[-2] :\n",
    "    print('OK')\n",
    "    print(spam[-2])\n",
    "    "
   ]
  },
  {
   "cell_type": "code",
   "execution_count": 21,
   "metadata": {
    "scrolled": false
   },
   "outputs": [
    {
     "name": "stdout",
     "output_type": "stream",
     "text": [
      "apples, \n",
      "apples, bananas, \n",
      "apples, bananas, tofu, and \n",
      "apples, bananas, tofu, and cats\n"
     ]
    }
   ],
   "source": [
    "list = \"\"\n",
    "for spams in spam :\n",
    "    #要素が最後\n",
    "    if spams == spam[-1] :\n",
    "        list += spams\n",
    "    \n",
    "    #要素が最後から２番目\n",
    "    elif spams == spam[-2] :\n",
    "        list += spams + \", and \"\n",
    "        \n",
    "    #それ以外\n",
    "    else :\n",
    "        list += (spams) + ', '\n",
    "        \n",
    "        \n",
    "    print(list)"
   ]
  },
  {
   "cell_type": "markdown",
   "metadata": {},
   "source": [
    "# 答え"
   ]
  },
  {
   "cell_type": "code",
   "execution_count": 25,
   "metadata": {},
   "outputs": [],
   "source": [
    "def list(spam):\n",
    "    list = \"\"\n",
    "    for spams in spam :\n",
    "        #要素が最後\n",
    "        if spams == spam[-1] :\n",
    "            list += spams\n",
    "\n",
    "        #要素が最後から２番目\n",
    "        elif spams == spam[-2] :\n",
    "            list += spams + \", and \"\n",
    "\n",
    "        #それ以外\n",
    "        else :\n",
    "            list += (spams) + ', '\n",
    "            \n",
    "    return list"
   ]
  },
  {
   "cell_type": "code",
   "execution_count": 26,
   "metadata": {},
   "outputs": [
    {
     "data": {
      "text/plain": [
       "'apples, bananas, tofu, and cats'"
      ]
     },
     "execution_count": 26,
     "metadata": {},
     "output_type": "execute_result"
    }
   ],
   "source": [
    "list(spam)"
   ]
  },
  {
   "cell_type": "markdown",
   "metadata": {},
   "source": [
    "### Q.2：\n",
    "以下のようなリストのリスト(変数名がgridのもの)があり、内側のリストの各要素は１文字の文字列であるとします。gridの値を受け取り次のようなハートの絵を表示するコードを書きなさい。\n",
    "```\n",
    "..00.00..\n",
    ".0000000.\n",
    ".0000000.\n",
    "..00000..\n",
    "...000...\n",
    "....0....\n",
    "```"
   ]
  },
  {
   "cell_type": "code",
   "execution_count": 2,
   "metadata": {},
   "outputs": [],
   "source": [
    "# grid\n",
    "grid = [\n",
    "    [\".\",\".\",\".\",\".\",\".\",\".\"],\n",
    "    [\".\",\"0\",\"0\",\".\",\".\",\".\"],\n",
    "    [\"0\",\"0\",\"0\",\"0\",\".\",\".\"],\n",
    "    [\"0\",\"0\",\"0\",\"0\",\"0\",\".\"],\n",
    "    [\".\",\"0\",\"0\",\"0\",\"0\",\"0\"],\n",
    "    [\"0\",\"0\",\"0\",\"0\",\"0\",\".\"],\n",
    "    [\"0\",\"0\",\"0\",\"0\",\".\",\".\"],\n",
    "    [\".\",\"0\",\"0\",\".\",\".\",\".\"],\n",
    "    [\".\",\".\",\".\",\".\",\".\",\".\"]\n",
    "\n",
    "]"
   ]
  },
  {
   "cell_type": "code",
   "execution_count": 7,
   "metadata": {},
   "outputs": [
    {
     "data": {
      "text/plain": [
       "['.', '.', '.', '.', '.', '.']"
      ]
     },
     "execution_count": 7,
     "metadata": {},
     "output_type": "execute_result"
    }
   ],
   "source": [
    "grid[0]"
   ]
  },
  {
   "cell_type": "code",
   "execution_count": 17,
   "metadata": {},
   "outputs": [
    {
     "data": {
      "text/plain": [
       "'0'"
      ]
     },
     "execution_count": 17,
     "metadata": {},
     "output_type": "execute_result"
    }
   ],
   "source": [
    "grid[2][0]"
   ]
  },
  {
   "cell_type": "code",
   "execution_count": 21,
   "metadata": {
    "scrolled": true
   },
   "outputs": [
    {
     "data": {
      "text/plain": [
       "range(0, 9)"
      ]
     },
     "execution_count": 21,
     "metadata": {},
     "output_type": "execute_result"
    }
   ],
   "source": [
    "range(len(grid))"
   ]
  },
  {
   "cell_type": "markdown",
   "metadata": {},
   "source": [
    "# 答え"
   ]
  },
  {
   "cell_type": "code",
   "execution_count": 22,
   "metadata": {},
   "outputs": [
    {
     "name": "stdout",
     "output_type": "stream",
     "text": [
      "..00.00..\n",
      ".0000000.\n",
      ".0000000.\n",
      "..00000..\n",
      "...000...\n",
      "....0....\n"
     ]
    }
   ],
   "source": [
    "for i in range(len(grid[0])) :\n",
    "    for l in range(len(grid)) :\n",
    "        if l == 0 :\n",
    "            heart = \"\"\n",
    "        heart += grid[l][i]\n",
    "        \n",
    "        if len(heart) == 9 :\n",
    "            print(heart)"
   ]
  },
  {
   "cell_type": "code",
   "execution_count": null,
   "metadata": {},
   "outputs": [],
   "source": []
  }
 ],
 "metadata": {
  "kernelspec": {
   "display_name": "Python 3 (ipykernel)",
   "language": "python",
   "name": "python3"
  },
  "language_info": {
   "codemirror_mode": {
    "name": "ipython",
    "version": 3
   },
   "file_extension": ".py",
   "mimetype": "text/x-python",
   "name": "python",
   "nbconvert_exporter": "python",
   "pygments_lexer": "ipython3",
   "version": "3.9.12"
  }
 },
 "nbformat": 4,
 "nbformat_minor": 4
}
