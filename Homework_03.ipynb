{
  "nbformat": 4,
  "nbformat_minor": 0,
  "metadata": {
    "colab": {
      "provenance": [],
      "collapsed_sections": []
    },
    "kernelspec": {
      "name": "python3",
      "display_name": "Python 3"
    },
    "language_info": {
      "name": "python"
    }
  },
  "cells": [
    {
      "cell_type": "markdown",
      "source": [
        "ニューラルネットワークの線形層および活性化関数を用いて、説明変数13項目から、住宅価格を予測する学習器を作成"
      ],
      "metadata": {
        "id": "CAZYwitQp0xK"
      }
    },
    {
      "cell_type": "code",
      "source": [
        "!pip install japanize_matplotlib | tail -n 1\n"
      ],
      "metadata": {
        "colab": {
          "base_uri": "https://localhost:8080/"
        },
        "id": "MWWpBmq3rxNY",
        "outputId": "9679f5fc-0618-4a16-f744-cb3f92e500ae"
      },
      "execution_count": null,
      "outputs": [
        {
          "output_type": "stream",
          "name": "stdout",
          "text": [
            "Successfully installed japanize-matplotlib-1.1.3\n"
          ]
        }
      ]
    },
    {
      "cell_type": "code",
      "execution_count": null,
      "metadata": {
        "id": "B-XIBxxYjFje"
      },
      "outputs": [],
      "source": [
        "import numpy as np\n",
        "import pandas as pd\n",
        "import matplotlib.pyplot as plt\n",
        "import japanize_matplotlib\n",
        "import torch\n",
        "import torch.nn as nn\n",
        "import torch.optim as optim"
      ]
    },
    {
      "cell_type": "code",
      "source": [
        "# データセット\n",
        "data_url = \"http://lib.stat.cmu.edu/datasets/boston\"\n",
        "raw_df = pd.read_csv(data_url, sep=\"\\s+\", \n",
        "    skiprows=22, header=None)\n",
        "x_org = np.hstack([raw_df.values[::2, :], \n",
        "    raw_df.values[1::2, :2]])\n",
        "yt = raw_df.values[1::2, 2]\n",
        "feature_names = np.array(['CRIM', 'ZN', 'INDUS', 'CHAS', 'NOX',\n",
        "    'RM', 'AGE', 'DIS', 'RAD', 'TAX', 'PTRATIO','B', 'LSTAT'])\n",
        "\n",
        "# 結果確認\n",
        "print('元データ', x_org.shape, yt.shape)\n",
        "print('項目名: ', feature_names)"
      ],
      "metadata": {
        "colab": {
          "base_uri": "https://localhost:8080/"
        },
        "id": "RJPf6qHrpSiJ",
        "outputId": "5cabb8b4-b07c-4fe3-8faf-1eae095c097f"
      },
      "execution_count": null,
      "outputs": [
        {
          "output_type": "stream",
          "name": "stdout",
          "text": [
            "元データ (506, 13) (506,)\n",
            "項目名:  ['CRIM' 'ZN' 'INDUS' 'CHAS' 'NOX' 'RM' 'AGE' 'DIS' 'RAD' 'TAX' 'PTRATIO'\n",
            " 'B' 'LSTAT']\n"
          ]
        }
      ]
    },
    {
      "cell_type": "code",
      "source": [
        "x.shape"
      ],
      "metadata": {
        "id": "TUABLg-T58-h",
        "colab": {
          "base_uri": "https://localhost:8080/"
        },
        "outputId": "4179fecf-aa3c-44b8-dbb7-9ff9dffb5652"
      },
      "execution_count": null,
      "outputs": [
        {
          "output_type": "execute_result",
          "data": {
            "text/plain": [
              "(506, 13)"
            ]
          },
          "metadata": {},
          "execution_count": 6
        }
      ]
    },
    {
      "cell_type": "code",
      "source": [
        "x = x_org"
      ],
      "metadata": {
        "id": "OmURbooA6M2z"
      },
      "execution_count": null,
      "outputs": []
    },
    {
      "cell_type": "code",
      "source": [
        "# 変数定義\n",
        "\n",
        "# 入力次元数=13\n",
        "n_input = x.shape[1]\n",
        "\n",
        "# 出力次元数=1\n",
        "n_output = 1\n",
        "\n",
        "print(f\"入力次元数:{n_input} 出力次元数:{n_output}\")"
      ],
      "metadata": {
        "colab": {
          "base_uri": "https://localhost:8080/"
        },
        "id": "Ok_hcSHFqL0n",
        "outputId": "c0489199-d0ec-46bd-fb6c-c309a73d1b4b"
      },
      "execution_count": null,
      "outputs": [
        {
          "output_type": "stream",
          "name": "stdout",
          "text": [
            "入力次元数:13 出力次元数:1\n"
          ]
        }
      ]
    },
    {
      "cell_type": "code",
      "source": [
        "# モデルのクラス定義\n",
        "\n",
        "class Net(nn.Module):\n",
        "  def __init__(self, n_input, n_output):\n",
        "    super().__init__()\n",
        "\n",
        "    # 出力層の定義\n",
        "    # 入力13次元、出力1次元\n",
        "    self.l1 = nn.Linear(n_input, n_output)\n",
        "\n",
        "    # 初期値の定義\n",
        "    nn.init.constant_(self.l1.weight, 1.0)\n",
        "    nn.init.constant_(self.l1.bias, 1.0)\n",
        "\n",
        "  # 予測関数の定義\n",
        "  def forward(self, x):\n",
        "    x1 = self.l1(x)\n",
        "    return x1"
      ],
      "metadata": {
        "id": "Xy6eYNg6sP2S"
      },
      "execution_count": null,
      "outputs": []
    },
    {
      "cell_type": "code",
      "source": [
        "# 勾配降下法\n",
        "\n",
        "inputs = torch.tensor(x).float()\n",
        "labels = torch.tensor(yt).float()"
      ],
      "metadata": {
        "id": "eWlquV_I2G_e"
      },
      "execution_count": null,
      "outputs": []
    },
    {
      "cell_type": "code",
      "source": [
        "# 損失計算用に１列にする\n",
        "label1 = labels.view((-1, 1))"
      ],
      "metadata": {
        "id": "Mqxx1d92AffS"
      },
      "execution_count": null,
      "outputs": []
    },
    {
      "cell_type": "code",
      "source": [
        "# 繰り返し処理のための初期化処理\n",
        "\n",
        "# 学習率\n",
        "lr = 0.000001\n",
        "\n",
        "# インスタンス生成\n",
        "net = Net(n_input, n_output)\n",
        "\n",
        "# 損失関数：平均二乗誤差\n",
        "criterion = nn.MSELoss()\n",
        "\n",
        "# 最適化関数:勾配降下法\n",
        "optimizer = optim.SGD(net.parameters(), lr = lr)\n",
        "\n",
        "# 繰り返し回数\n",
        "num_epoch = 5000\n",
        "\n",
        "# 評価記録用\n",
        "history = np.zeros((0,2))"
      ],
      "metadata": {
        "id": "7cMC5lur3uGO"
      },
      "execution_count": null,
      "outputs": []
    },
    {
      "cell_type": "code",
      "source": [
        "# 繰り返し処理\n",
        "for epoch in range(num_epoch):\n",
        "\n",
        "  # 勾配値初期化\n",
        "  optimizer.zero_grad()\n",
        "\n",
        "  # 予測計算\n",
        "  outputs = net(inputs)\n",
        "\n",
        "  # 誤差計算\n",
        "  loss = criterion(outputs, label1)\n",
        "\n",
        "  # 勾配計算\n",
        "  loss.backward()\n",
        "\n",
        "  # パラメータ修正\n",
        "  optimizer.step()\n",
        "\n",
        "  # 記録\n",
        "  if(epoch % 100 == 0):\n",
        "    history = np.vstack((history, np.array([epoch, loss.item()])))\n",
        "    print(f\"Epoch:{epoch} loss:{loss.item(): 5f}\")"
      ],
      "metadata": {
        "colab": {
          "base_uri": "https://localhost:8080/"
        },
        "id": "YaLBB90X7zbT",
        "outputId": "edcbc136-395d-4cf1-b5d9-a795abbd63b0"
      },
      "execution_count": null,
      "outputs": [
        {
          "output_type": "stream",
          "name": "stdout",
          "text": [
            "Epoch:0 loss: 823748.125000\n",
            "Epoch:100 loss: 700.565430\n",
            "Epoch:200 loss: 634.182373\n",
            "Epoch:300 loss: 577.476440\n",
            "Epoch:400 loss: 528.721436\n",
            "Epoch:500 loss: 486.561218\n",
            "Epoch:600 loss: 449.917725\n",
            "Epoch:700 loss: 417.923584\n",
            "Epoch:800 loss: 389.874603\n",
            "Epoch:900 loss: 365.193634\n",
            "Epoch:1000 loss: 343.403168\n",
            "Epoch:1100 loss: 324.104706\n",
            "Epoch:1200 loss: 306.963440\n",
            "Epoch:1300 loss: 291.695801\n",
            "Epoch:1400 loss: 278.060608\n",
            "Epoch:1500 loss: 265.851105\n",
            "Epoch:1600 loss: 254.889603\n",
            "Epoch:1700 loss: 245.022888\n",
            "Epoch:1800 loss: 236.117813\n",
            "Epoch:1900 loss: 228.059158\n",
            "Epoch:2000 loss: 220.746231\n",
            "Epoch:2100 loss: 214.091446\n",
            "Epoch:2200 loss: 208.018036\n",
            "Epoch:2300 loss: 202.458832\n",
            "Epoch:2400 loss: 197.355026\n",
            "Epoch:2500 loss: 192.654938\n",
            "Epoch:2600 loss: 188.313370\n",
            "Epoch:2700 loss: 184.290344\n",
            "Epoch:2800 loss: 180.550812\n",
            "Epoch:2900 loss: 177.063873\n",
            "Epoch:3000 loss: 173.802475\n",
            "Epoch:3100 loss: 170.742645\n",
            "Epoch:3200 loss: 167.863281\n",
            "Epoch:3300 loss: 165.145752\n",
            "Epoch:3400 loss: 162.573639\n",
            "Epoch:3500 loss: 160.132477\n",
            "Epoch:3600 loss: 157.809402\n",
            "Epoch:3700 loss: 155.593216\n",
            "Epoch:3800 loss: 153.473892\n",
            "Epoch:3900 loss: 151.442520\n",
            "Epoch:4000 loss: 149.491241\n",
            "Epoch:4100 loss: 147.613235\n",
            "Epoch:4200 loss: 145.802246\n",
            "Epoch:4300 loss: 144.052841\n",
            "Epoch:4400 loss: 142.360107\n",
            "Epoch:4500 loss: 140.719864\n",
            "Epoch:4600 loss: 139.128174\n",
            "Epoch:4700 loss: 137.581604\n",
            "Epoch:4800 loss: 136.077133\n",
            "Epoch:4900 loss: 134.612045\n"
          ]
        }
      ]
    },
    {
      "cell_type": "code",
      "source": [
        "print(f\"損失初期値: {history[0, 1]:.5f}\")\n",
        "print(f\"損失最終値: {history[-1,1]:.5f}\")"
      ],
      "metadata": {
        "colab": {
          "base_uri": "https://localhost:8080/"
        },
        "id": "qv7DlpYfG9j6",
        "outputId": "7c180816-269e-4c98-dd2f-a72dbaf9a9be"
      },
      "execution_count": null,
      "outputs": [
        {
          "output_type": "stream",
          "name": "stdout",
          "text": [
            "損失初期値: 823748.12500\n",
            "損失最終値: 134.61205\n"
          ]
        }
      ]
    },
    {
      "cell_type": "code",
      "source": [
        "# 学習曲線の表示 (損失)\n",
        "\n",
        "plt.plot(history[:,0], history[:,1], 'b')\n",
        "plt.xlabel('繰り返し回数')\n",
        "plt.ylabel('損失')\n",
        "plt.title('学習曲線(損失)')\n",
        "plt.show()"
      ],
      "metadata": {
        "colab": {
          "base_uri": "https://localhost:8080/",
          "height": 294
        },
        "id": "kz7GplzsJd_W",
        "outputId": "ccb29473-1a8d-416a-8156-dce5810960cd"
      },
      "execution_count": null,
      "outputs": [
        {
          "output_type": "display_data",
          "data": {
            "text/plain": [
              "<Figure size 432x288 with 1 Axes>"
            ],
            "image/png": "[encoded data removed]"
          },
          "metadata": {
            "needs_background": "light"
          }
        }
      ]
    },
    {
      "cell_type": "code",
      "source": [
        "plt.scatter(yt.flatten(), net.forward(torch.tensor(x).float()).data.flatten(), alpha=0.5)\n",
        "plt.plot([min(yt), max(yt)], [min(yt), max(yt)])\n",
        "plt.legend()"
      ],
      "metadata": {
        "colab": {
          "base_uri": "https://localhost:8080/",
          "height": 300
        },
        "id": "juVYaPH1Jqan",
        "outputId": "9295cb75-27b6-4934-8911-61c7072bd61e"
      },
      "execution_count": null,
      "outputs": [
        {
          "output_type": "stream",
          "name": "stderr",
          "text": [
            "WARNING:matplotlib.legend:No handles with labels found to put in legend.\n"
          ]
        },
        {
          "output_type": "execute_result",
          "data": {
            "text/plain": [
              "<matplotlib.legend.Legend at 0x7f426bdf6c50>"
            ]
          },
          "metadata": {},
          "execution_count": 34
        },
        {
          "output_type": "display_data",
          "data": {
            "text/plain": [
              "<Figure size 432x288 with 1 Axes>"
            ],
            "image/png": "[encoded data removed]"
          },
          "metadata": {
            "needs_background": "light"
          }
        }
      ]
    },
    {
      "cell_type": "markdown",
      "source": [
        "層を増やす"
      ],
      "metadata": {
        "id": "Yu-GfedYK6e_"
      }
    },
    {
      "cell_type": "code",
      "source": [
        "# モデルのクラス定義\n",
        "\n",
        "class Net(nn.Module):\n",
        "  def __init__(self, n_input, n_output):\n",
        "    super().__init__()\n",
        "\n",
        "    # 出力層の定義\n",
        "    # 入力13次元、出力1次元\n",
        "    self.l1 = nn.Linear(n_input, 5)\n",
        "    self.l2 = nn.Linear(5, 10)\n",
        "    self.l3 = nn.Linear(10, n_output)\n",
        "\n",
        "    # 初期値の定義\n",
        "    nn.init.constant_(self.l1.weight, 1.0)\n",
        "    nn.init.constant_(self.l1.bias, 1.0)\n",
        "\n",
        "  # 予測関数の定義\n",
        "  def forward(self, x):\n",
        "    x1 = self.l1(x)\n",
        "    x2 = self.l2(x1)\n",
        "    x3 = self.l3(x2)\n",
        "\n",
        "    return x3"
      ],
      "metadata": {
        "id": "ba-wiGFRLXwN"
      },
      "execution_count": null,
      "outputs": []
    },
    {
      "cell_type": "code",
      "source": [
        "# 勾配降下法\n",
        "\n",
        "inputs = torch.tensor(x).float()\n",
        "labels = torch.tensor(yt).float()"
      ],
      "metadata": {
        "id": "4eLqtpzqP8Ew"
      },
      "execution_count": null,
      "outputs": []
    },
    {
      "cell_type": "code",
      "source": [
        "# 損失計算用に１列にする\n",
        "label1 = labels.view((-1, 1))"
      ],
      "metadata": {
        "id": "8poOvBaKQFU_"
      },
      "execution_count": null,
      "outputs": []
    },
    {
      "cell_type": "code",
      "source": [
        "# 繰り返しのための初期化\n",
        "\n",
        "# 学習率\n",
        "lr = 0.0000001\n",
        "\n",
        "# インスタンス生成\n",
        "net = Net(n_input, n_output)\n",
        "\n",
        "# 損失関数:平均二乗誤差\n",
        "criterion = nn.MSELoss()\n",
        "\n",
        "# 最適化関数:勾配降下法\n",
        "optimizer = optim.SGD(net.parameters(), lr = lr)\n",
        "\n",
        "# 繰り返し回数\n",
        "num_epoch = 5000\n",
        "\n",
        "# 記録用\n",
        "history = np.zeros((0, 2))"
      ],
      "metadata": {
        "id": "_HYC4bTus7D1"
      },
      "execution_count": null,
      "outputs": []
    },
    {
      "cell_type": "code",
      "source": [
        "# 繰り返し処理\n",
        "\n",
        "for epoch in range(num_epoch):\n",
        "\n",
        "  # 勾配地初期化\n",
        "  optimizer.zero_grad()\n",
        "\n",
        "  # 予測計算\n",
        "  outputs = net(inputs)\n",
        "\n",
        "  # 誤差計算\n",
        "  loss = criterion(outputs, label1)\n",
        "\n",
        "  # 勾配計算\n",
        "  loss.backward()\n",
        "\n",
        "  # パラメータ修正\n",
        "  optimizer.step()\n",
        "\n",
        "  # 記録\n",
        "  if(epoch % 100 == 0):\n",
        "    history = np.vstack((history, np.array([epoch, loss.item()])))\n",
        "    print(f\"Epoch:{epoch} loss:{loss.item(): 5f}\")"
      ],
      "metadata": {
        "colab": {
          "base_uri": "https://localhost:8080/"
        },
        "id": "ArAa4GXSUN22",
        "outputId": "3a709d5d-0952-492c-db86-c003b4540f05"
      },
      "execution_count": null,
      "outputs": [
        {
          "output_type": "stream",
          "name": "stdout",
          "text": [
            "Epoch:0 loss: 26244.011719\n",
            "Epoch:100 loss: 129.708206\n",
            "Epoch:200 loss: 127.940903\n",
            "Epoch:300 loss: 126.231041\n",
            "Epoch:400 loss: 124.575233\n",
            "Epoch:500 loss: 122.969482\n",
            "Epoch:600 loss: 121.410629\n",
            "Epoch:700 loss: 119.895691\n",
            "Epoch:800 loss: 118.422760\n",
            "Epoch:900 loss: 116.989975\n",
            "Epoch:1000 loss: 115.595352\n",
            "Epoch:1100 loss: 114.237015\n",
            "Epoch:1200 loss: 112.914032\n",
            "Epoch:1300 loss: 111.624962\n",
            "Epoch:1400 loss: 110.369118\n",
            "Epoch:1500 loss: 109.145920\n",
            "Epoch:1600 loss: 107.954163\n",
            "Epoch:1700 loss: 106.793709\n",
            "Epoch:1800 loss: 105.663879\n",
            "Epoch:1900 loss: 104.564163\n",
            "Epoch:2000 loss: 103.494331\n",
            "Epoch:2100 loss: 102.454628\n",
            "Epoch:2200 loss: 101.444351\n",
            "Epoch:2300 loss: 100.463623\n",
            "Epoch:2400 loss: 99.512062\n",
            "Epoch:2500 loss: 98.589218\n",
            "Epoch:2600 loss: 97.695732\n",
            "Epoch:2700 loss: 96.830910\n",
            "Epoch:2800 loss: 95.994926\n",
            "Epoch:2900 loss: 95.187149\n",
            "Epoch:3000 loss: 94.407700\n",
            "Epoch:3100 loss: 93.656143\n",
            "Epoch:3200 loss: 92.932327\n",
            "Epoch:3300 loss: 92.236015\n",
            "Epoch:3400 loss: 91.566605\n",
            "Epoch:3500 loss: 90.924286\n",
            "Epoch:3600 loss: 90.308586\n",
            "Epoch:3700 loss: 89.718575\n",
            "Epoch:3800 loss: 89.154045\n",
            "Epoch:3900 loss: 88.614334\n",
            "Epoch:4000 loss: 88.099251\n",
            "Epoch:4100 loss: 87.608017\n",
            "Epoch:4200 loss: 87.140327\n",
            "Epoch:4300 loss: 86.695290\n",
            "Epoch:4400 loss: 86.272125\n",
            "Epoch:4500 loss: 85.870239\n",
            "Epoch:4600 loss: 85.489159\n",
            "Epoch:4700 loss: 85.128014\n",
            "Epoch:4800 loss: 84.785965\n",
            "Epoch:4900 loss: 84.462746\n"
          ]
        }
      ]
    },
    {
      "cell_type": "code",
      "source": [
        "print(f\"損失初期値: {history[0, 1]:.5f}\")\n",
        "print(f\"損失最終値: {history[-1,1]:.5f}\")"
      ],
      "metadata": {
        "colab": {
          "base_uri": "https://localhost:8080/"
        },
        "id": "X5xUOWACWAHj",
        "outputId": "1497e214-8d54-4150-c668-be0c72dded66"
      },
      "execution_count": null,
      "outputs": [
        {
          "output_type": "stream",
          "name": "stdout",
          "text": [
            "損失初期値: 26244.01172\n",
            "損失最終値: 84.46275\n"
          ]
        }
      ]
    },
    {
      "cell_type": "code",
      "source": [
        "# 学習曲線の表示 (損失)\n",
        "\n",
        "plt.plot(history[:,0], history[:,1], 'b')\n",
        "plt.xlabel('繰り返し回数')\n",
        "plt.ylabel('損失')\n",
        "plt.title('学習曲線(損失)')\n",
        "plt.show()"
      ],
      "metadata": {
        "colab": {
          "base_uri": "https://localhost:8080/",
          "height": 294
        },
        "id": "gDMa2yVqWZ35",
        "outputId": "79398d80-fba8-49f6-86ef-03de797b8198"
      },
      "execution_count": null,
      "outputs": [
        {
          "output_type": "display_data",
          "data": {
            "text/plain": [
              "<Figure size 432x288 with 1 Axes>"
            ],
            "image/png": "[encoded data removed]"
          },
          "metadata": {
            "needs_background": "light"
          }
        }
      ]
    },
    {
      "cell_type": "code",
      "source": [
        "plt.scatter(yt.flatten(), net.forward(torch.tensor(x).float()).data.flatten(), alpha=0.5)\n",
        "plt.plot([min(yt), max(yt)], [min(yt), max(yt)])\n",
        "plt.legend()"
      ],
      "metadata": {
        "id": "6z89cA5eWd4U",
        "colab": {
          "base_uri": "https://localhost:8080/",
          "height": 300
        },
        "outputId": "62ca7fb0-fe5a-4689-e991-d3f86a315c81"
      },
      "execution_count": null,
      "outputs": [
        {
          "output_type": "stream",
          "name": "stderr",
          "text": [
            "WARNING:matplotlib.legend:No handles with labels found to put in legend.\n"
          ]
        },
        {
          "output_type": "execute_result",
          "data": {
            "text/plain": [
              "<matplotlib.legend.Legend at 0x7f426bdafa10>"
            ]
          },
          "metadata": {},
          "execution_count": 42
        },
        {
          "output_type": "display_data",
          "data": {
            "text/plain": [
              "<Figure size 432x288 with 1 Axes>"
            ],
            "image/png": "[encoded data removed]"
          },
          "metadata": {
            "needs_background": "light"
          }
        }
      ]
    },
    {
      "cell_type": "code",
      "source": [],
      "metadata": {
        "id": "p2_RRsrnlPgR"
      },
      "execution_count": null,
      "outputs": []
    }
  ]
}