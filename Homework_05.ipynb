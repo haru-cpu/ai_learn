{
  "nbformat": 4,
  "nbformat_minor": 0,
  "metadata": {
    "colab": {
      "provenance": [],
      "collapsed_sections": []
    },
    "kernelspec": {
      "name": "python3",
      "display_name": "Python 3"
    },
    "language_info": {
      "name": "python"
    }
  },
  "cells": [
    {
      "cell_type": "markdown",
      "source": [
        "\n",
        "wine qualityデータセットを使って、qualityを推論するネットワークを構築"
      ],
      "metadata": {
        "id": "XHZrGxW3bXKY"
      }
    },
    {
      "cell_type": "code",
      "source": [
        "!pip install japanize_matplotlib | tail -n 1\n",
        "!pip install torchviz | tail -n 1\n",
        "!pip install torchinfo | tail -n 1"
      ],
      "metadata": {
        "colab": {
          "base_uri": "https://localhost:8080/"
        },
        "id": "nxYq4XvELZAJ",
        "outputId": "40df2709-f45a-409d-e10d-25048dc20ef9"
      },
      "execution_count": null,
      "outputs": [
        {
          "output_type": "stream",
          "name": "stdout",
          "text": [
            "Successfully installed japanize-matplotlib-1.1.3\n",
            "Successfully installed torchviz-0.0.2\n",
            "Successfully installed torchinfo-1.7.1\n"
          ]
        }
      ]
    },
    {
      "cell_type": "code",
      "execution_count": null,
      "metadata": {
        "id": "XK-hBZb3Kx1T"
      },
      "outputs": [],
      "source": [
        "import numpy as np\n",
        "import pandas as pd\n",
        "import matplotlib.pyplot as plt\n",
        "import seaborn as sns\n",
        "import japanize_matplotlib\n",
        "import torch\n",
        "import torch.nn as nn\n",
        "import torch.optim as optim\n",
        "from torchinfo import summary\n",
        "from torchviz import make_dot\n",
        "from sklearn.model_selection import train_test_split"
      ]
    },
    {
      "cell_type": "code",
      "source": [
        "df = pd.read_csv(\"/content/drive/MyDrive/221001/winequality-red.csv\")"
      ],
      "metadata": {
        "id": "hOFd9wnCK52d"
      },
      "execution_count": null,
      "outputs": []
    },
    {
      "cell_type": "code",
      "source": [
        "df.head()"
      ],
      "metadata": {
        "colab": {
          "base_uri": "https://localhost:8080/",
          "height": 268
        },
        "id": "2-8ppruv7Rq5",
        "outputId": "f9ccf666-e81f-479d-be83-e2bd2f26bfe8"
      },
      "execution_count": null,
      "outputs": [
        {
          "output_type": "execute_result",
          "data": {
            "text/plain": [
              "   fixed acidity  volatile acidity  citric acid  residual sugar  chlorides  \\\n",
              "0            7.4              0.70         0.00             1.9      0.076   \n",
              "1            7.8              0.88         0.00             2.6      0.098   \n",
              "2            7.8              0.76         0.04             2.3      0.092   \n",
              "3           11.2              0.28         0.56             1.9      0.075   \n",
              "4            7.4              0.70         0.00             1.9      0.076   \n",
              "\n",
              "   free sulfur dioxide  total sulfur dioxide  density    pH  sulphates  \\\n",
              "0                 11.0                  34.0   0.9978  3.51       0.56   \n",
              "1                 25.0                  67.0   0.9968  3.20       0.68   \n",
              "2                 15.0                  54.0   0.9970  3.26       0.65   \n",
              "3                 17.0                  60.0   0.9980  3.16       0.58   \n",
              "4                 11.0                  34.0   0.9978  3.51       0.56   \n",
              "\n",
              "   alcohol  quality  \n",
              "0      9.4        5  \n",
              "1      9.8        5  \n",
              "2      9.8        5  \n",
              "3      9.8        6  \n",
              "4      9.4        5  "
            ],
            "text/html": [
              "\n",
              "  <div id=\"df-d401cab4-f848-4cb1-a0cc-06f874470080\">\n",
              "    <div class=\"colab-df-container\">\n",
              "      <div>\n",
              "<style scoped>\n",
              "    .dataframe tbody tr th:only-of-type {\n",
              "        vertical-align: middle;\n",
              "    }\n",
              "\n",
              "    .dataframe tbody tr th {\n",
              "        vertical-align: top;\n",
              "    }\n",
              "\n",
              "    .dataframe thead th {\n",
              "        text-align: right;\n",
              "    }\n",
              "</style>\n",
              "<table border=\"1\" class=\"dataframe\">\n",
              "  <thead>\n",
              "    <tr style=\"text-align: right;\">\n",
              "      <th></th>\n",
              "      <th>fixed acidity</th>\n",
              "      <th>volatile acidity</th>\n",
              "      <th>citric acid</th>\n",
              "      <th>residual sugar</th>\n",
              "      <th>chlorides</th>\n",
              "      <th>free sulfur dioxide</th>\n",
              "      <th>total sulfur dioxide</th>\n",
              "      <th>density</th>\n",
              "      <th>pH</th>\n",
              "      <th>sulphates</th>\n",
              "      <th>alcohol</th>\n",
              "      <th>quality</th>\n",
              "    </tr>\n",
              "  </thead>\n",
              "  <tbody>\n",
              "    <tr>\n",
              "      <th>0</th>\n",
              "      <td>7.4</td>\n",
              "      <td>0.70</td>\n",
              "      <td>0.00</td>\n",
              "      <td>1.9</td>\n",
              "      <td>0.076</td>\n",
              "      <td>11.0</td>\n",
              "      <td>34.0</td>\n",
              "      <td>0.9978</td>\n",
              "      <td>3.51</td>\n",
              "      <td>0.56</td>\n",
              "      <td>9.4</td>\n",
              "      <td>5</td>\n",
              "    </tr>\n",
              "    <tr>\n",
              "      <th>1</th>\n",
              "      <td>7.8</td>\n",
              "      <td>0.88</td>\n",
              "      <td>0.00</td>\n",
              "      <td>2.6</td>\n",
              "      <td>0.098</td>\n",
              "      <td>25.0</td>\n",
              "      <td>67.0</td>\n",
              "      <td>0.9968</td>\n",
              "      <td>3.20</td>\n",
              "      <td>0.68</td>\n",
              "      <td>9.8</td>\n",
              "      <td>5</td>\n",
              "    </tr>\n",
              "    <tr>\n",
              "      <th>2</th>\n",
              "      <td>7.8</td>\n",
              "      <td>0.76</td>\n",
              "      <td>0.04</td>\n",
              "      <td>2.3</td>\n",
              "      <td>0.092</td>\n",
              "      <td>15.0</td>\n",
              "      <td>54.0</td>\n",
              "      <td>0.9970</td>\n",
              "      <td>3.26</td>\n",
              "      <td>0.65</td>\n",
              "      <td>9.8</td>\n",
              "      <td>5</td>\n",
              "    </tr>\n",
              "    <tr>\n",
              "      <th>3</th>\n",
              "      <td>11.2</td>\n",
              "      <td>0.28</td>\n",
              "      <td>0.56</td>\n",
              "      <td>1.9</td>\n",
              "      <td>0.075</td>\n",
              "      <td>17.0</td>\n",
              "      <td>60.0</td>\n",
              "      <td>0.9980</td>\n",
              "      <td>3.16</td>\n",
              "      <td>0.58</td>\n",
              "      <td>9.8</td>\n",
              "      <td>6</td>\n",
              "    </tr>\n",
              "    <tr>\n",
              "      <th>4</th>\n",
              "      <td>7.4</td>\n",
              "      <td>0.70</td>\n",
              "      <td>0.00</td>\n",
              "      <td>1.9</td>\n",
              "      <td>0.076</td>\n",
              "      <td>11.0</td>\n",
              "      <td>34.0</td>\n",
              "      <td>0.9978</td>\n",
              "      <td>3.51</td>\n",
              "      <td>0.56</td>\n",
              "      <td>9.4</td>\n",
              "      <td>5</td>\n",
              "    </tr>\n",
              "  </tbody>\n",
              "</table>\n",
              "</div>\n",
              "      <button class=\"colab-df-convert\" onclick=\"convertToInteractive('df-d401cab4-f848-4cb1-a0cc-06f874470080')\"\n",
              "              title=\"Convert this dataframe to an interactive table.\"\n",
              "              style=\"display:none;\">\n",
              "        \n",
              "  <svg xmlns=\"http://www.w3.org/2000/svg\" height=\"24px\"viewBox=\"0 0 24 24\"\n",
              "       width=\"24px\">\n",
              "    <path d=\"M0 0h24v24H0V0z\" fill=\"none\"/>\n",
              "    <path d=\"M18.56 5.44l.94 2.06.94-2.06 2.06-.94-2.06-.94-.94-2.06-.94 2.06-2.06.94zm-11 1L8.5 8.5l.94-2.06 2.06-.94-2.06-.94L8.5 2.5l-.94 2.06-2.06.94zm10 10l.94 2.06.94-2.06 2.06-.94-2.06-.94-.94-2.06-.94 2.06-2.06.94z\"/><path d=\"M17.41 7.96l-1.37-1.37c-.4-.4-.92-.59-1.43-.59-.52 0-1.04.2-1.43.59L10.3 9.45l-7.72 7.72c-.78.78-.78 2.05 0 2.83L4 21.41c.39.39.9.59 1.41.59.51 0 1.02-.2 1.41-.59l7.78-7.78 2.81-2.81c.8-.78.8-2.07 0-2.86zM5.41 20L4 18.59l7.72-7.72 1.47 1.35L5.41 20z\"/>\n",
              "  </svg>\n",
              "      </button>\n",
              "      \n",
              "  <style>\n",
              "    .colab-df-container {\n",
              "      display:flex;\n",
              "      flex-wrap:wrap;\n",
              "      gap: 12px;\n",
              "    }\n",
              "\n",
              "    .colab-df-convert {\n",
              "      background-color: #E8F0FE;\n",
              "      border: none;\n",
              "      border-radius: 50%;\n",
              "      cursor: pointer;\n",
              "      display: none;\n",
              "      fill: #1967D2;\n",
              "      height: 32px;\n",
              "      padding: 0 0 0 0;\n",
              "      width: 32px;\n",
              "    }\n",
              "\n",
              "    .colab-df-convert:hover {\n",
              "      background-color: #E2EBFA;\n",
              "      box-shadow: 0px 1px 2px rgba(60, 64, 67, 0.3), 0px 1px 3px 1px rgba(60, 64, 67, 0.15);\n",
              "      fill: #174EA6;\n",
              "    }\n",
              "\n",
              "    [theme=dark] .colab-df-convert {\n",
              "      background-color: #3B4455;\n",
              "      fill: #D2E3FC;\n",
              "    }\n",
              "\n",
              "    [theme=dark] .colab-df-convert:hover {\n",
              "      background-color: #434B5C;\n",
              "      box-shadow: 0px 1px 3px 1px rgba(0, 0, 0, 0.15);\n",
              "      filter: drop-shadow(0px 1px 2px rgba(0, 0, 0, 0.3));\n",
              "      fill: #FFFFFF;\n",
              "    }\n",
              "  </style>\n",
              "\n",
              "      <script>\n",
              "        const buttonEl =\n",
              "          document.querySelector('#df-d401cab4-f848-4cb1-a0cc-06f874470080 button.colab-df-convert');\n",
              "        buttonEl.style.display =\n",
              "          google.colab.kernel.accessAllowed ? 'block' : 'none';\n",
              "\n",
              "        async function convertToInteractive(key) {\n",
              "          const element = document.querySelector('#df-d401cab4-f848-4cb1-a0cc-06f874470080');\n",
              "          const dataTable =\n",
              "            await google.colab.kernel.invokeFunction('convertToInteractive',\n",
              "                                                     [key], {});\n",
              "          if (!dataTable) return;\n",
              "\n",
              "          const docLinkHtml = 'Like what you see? Visit the ' +\n",
              "            '<a target=\"_blank\" href=https://colab.research.google.com/notebooks/data_table.ipynb>data table notebook</a>'\n",
              "            + ' to learn more about interactive tables.';\n",
              "          element.innerHTML = '';\n",
              "          dataTable['output_type'] = 'display_data';\n",
              "          await google.colab.output.renderOutput(dataTable, element);\n",
              "          const docLink = document.createElement('div');\n",
              "          docLink.innerHTML = docLinkHtml;\n",
              "          element.appendChild(docLink);\n",
              "        }\n",
              "      </script>\n",
              "    </div>\n",
              "  </div>\n",
              "  "
            ]
          },
          "metadata": {},
          "execution_count": 4
        }
      ]
    },
    {
      "cell_type": "code",
      "source": [
        "x = df.iloc[:, :-1]\n",
        "y = df.iloc[:, -1]"
      ],
      "metadata": {
        "id": "5oyJKvvJ7V99"
      },
      "execution_count": null,
      "outputs": []
    },
    {
      "cell_type": "code",
      "source": [
        "x = x.values\n",
        "y = y.values"
      ],
      "metadata": {
        "id": "3rMLpOSi76rw"
      },
      "execution_count": null,
      "outputs": []
    },
    {
      "cell_type": "code",
      "source": [
        "x.shape"
      ],
      "metadata": {
        "colab": {
          "base_uri": "https://localhost:8080/"
        },
        "id": "f6qHr9Ff8qwp",
        "outputId": "75cfb95a-fff8-4d09-94cf-77226c26c983"
      },
      "execution_count": null,
      "outputs": [
        {
          "output_type": "execute_result",
          "data": {
            "text/plain": [
              "(1599, 11)"
            ]
          },
          "metadata": {},
          "execution_count": 7
        }
      ]
    },
    {
      "cell_type": "code",
      "source": [
        "y.shape"
      ],
      "metadata": {
        "colab": {
          "base_uri": "https://localhost:8080/"
        },
        "id": "yQ9VFZIelcJp",
        "outputId": "ce1c937b-967a-4527-d1f6-2c6ba04635f6"
      },
      "execution_count": null,
      "outputs": [
        {
          "output_type": "execute_result",
          "data": {
            "text/plain": [
              "(1599,)"
            ]
          },
          "metadata": {},
          "execution_count": 8
        }
      ]
    },
    {
      "cell_type": "code",
      "source": [
        "list(set(y))"
      ],
      "metadata": {
        "colab": {
          "base_uri": "https://localhost:8080/"
        },
        "id": "Mwn_jUK-nlKU",
        "outputId": "c91ca55b-759d-4e5c-e7e4-50d46388c611"
      },
      "execution_count": null,
      "outputs": [
        {
          "output_type": "execute_result",
          "data": {
            "text/plain": [
              "[3, 4, 5, 6, 7, 8]"
            ]
          },
          "metadata": {},
          "execution_count": 9
        }
      ]
    },
    {
      "cell_type": "code",
      "source": [
        "# ラベルの性質 3, 4, 5→0, 1, 2となるため、それに変換をする\n",
        "y_dict_values = range(0, 6)\n",
        "y_dict_keys = list(set(y))\n",
        "y_dict = dict(zip(y_dict_keys,y_dict_values))"
      ],
      "metadata": {
        "id": "0gzTVpcYnzES"
      },
      "execution_count": null,
      "outputs": []
    },
    {
      "cell_type": "code",
      "source": [
        "y_dict"
      ],
      "metadata": {
        "colab": {
          "base_uri": "https://localhost:8080/"
        },
        "id": "pMd2w7KSo1PY",
        "outputId": "d86f5b48-b8ef-4b47-9699-bffd5b4e48da"
      },
      "execution_count": null,
      "outputs": [
        {
          "output_type": "execute_result",
          "data": {
            "text/plain": [
              "{3: 0, 4: 1, 5: 2, 6: 3, 7: 4, 8: 5}"
            ]
          },
          "metadata": {},
          "execution_count": 11
        }
      ]
    },
    {
      "cell_type": "code",
      "source": [
        "y_labels = np.array([])\n",
        "for num in range(len(y)):\n",
        "  work = y[num]\n",
        "  y_label = y_dict[work]\n",
        "  y_labels = np.append(y_labels, y_label)\n"
      ],
      "metadata": {
        "id": "MPe5J6PVpJm0"
      },
      "execution_count": null,
      "outputs": []
    },
    {
      "cell_type": "code",
      "source": [
        "y"
      ],
      "metadata": {
        "colab": {
          "base_uri": "https://localhost:8080/"
        },
        "id": "wTtyUaRnsMUq",
        "outputId": "b0bbc305-e230-47e9-aba6-6ebb42f39c42"
      },
      "execution_count": null,
      "outputs": [
        {
          "output_type": "execute_result",
          "data": {
            "text/plain": [
              "array([5, 5, 5, ..., 6, 5, 6])"
            ]
          },
          "metadata": {},
          "execution_count": 13
        }
      ]
    },
    {
      "cell_type": "code",
      "source": [
        "y_labels"
      ],
      "metadata": {
        "colab": {
          "base_uri": "https://localhost:8080/"
        },
        "id": "Z_q9egWzsF73",
        "outputId": "f794a0d1-c94c-4b72-a572-360f26884c5c"
      },
      "execution_count": null,
      "outputs": [
        {
          "output_type": "execute_result",
          "data": {
            "text/plain": [
              "array([2., 2., 2., ..., 3., 2., 3.])"
            ]
          },
          "metadata": {},
          "execution_count": 14
        }
      ]
    },
    {
      "cell_type": "code",
      "source": [
        "x_train, x_test, y_train, y_test = train_test_split(x, y_labels, test_size=0.2)"
      ],
      "metadata": {
        "id": "fAz_qkIs7msu"
      },
      "execution_count": null,
      "outputs": []
    },
    {
      "cell_type": "code",
      "source": [
        "# パラメータ\n",
        "\n",
        "# 入力次元数\n",
        "n_input = x_train.shape[1]\n",
        "\n",
        "# 出力次元数\n",
        "n_output = len(list(set(y_train)))\n",
        "\n",
        "print(f\"n_input : {n_input} n_output : {n_output}\")"
      ],
      "metadata": {
        "id": "OAocQoOK75T4",
        "colab": {
          "base_uri": "https://localhost:8080/"
        },
        "outputId": "191a275c-8951-4627-cd10-d6db1b9bc8d5"
      },
      "execution_count": null,
      "outputs": [
        {
          "output_type": "stream",
          "name": "stdout",
          "text": [
            "n_input : 11 n_output : 6\n"
          ]
        }
      ]
    },
    {
      "cell_type": "code",
      "source": [
        "# モデル定義\n",
        "\n",
        "class Net(nn.Module):\n",
        "  def __init__(self, n_input, n_output):\n",
        "    super().__init__()\n",
        "    self.l1 = nn.Linear(n_input, 20)\n",
        "    self.l2 = nn.Linear(20, 10)\n",
        "    self.l3 = nn.Linear(10, n_output)\n",
        "    self.relu = nn.ReLU(inplace=True)\n",
        "\n",
        "    # 値の初期化\n",
        "    self.l1.weight.data.fill_(1.0)\n",
        "    self.l1.bias.data.fill_(1.0)\n",
        "  \n",
        "  def forward(self, x):\n",
        "    x1 = self.relu(self.l1(x))\n",
        "    x2 = self.relu(self.l2(x1))\n",
        "    x3 = self.l3(x2)\n",
        "    return x3"
      ],
      "metadata": {
        "id": "uZWB7OxsW3KA"
      },
      "execution_count": null,
      "outputs": []
    },
    {
      "cell_type": "code",
      "source": [
        "# 値のtensor化\n",
        "# ラベルは整数なので、long型\n",
        "inputs_train = torch.tensor(x_train).float()\n",
        "labels_train = torch.tensor(y_train).long()\n",
        "inputs_test = torch.tensor(x_test).float()\n",
        "labels_test = torch.tensor(y_test).long()"
      ],
      "metadata": {
        "id": "vbHjkGWoatFB"
      },
      "execution_count": null,
      "outputs": []
    },
    {
      "cell_type": "code",
      "source": [
        "# 繰り返し計算\n",
        "\n",
        "# 学習率\n",
        "lr = 0.0001\n",
        "\n",
        "# インスタンス生成\n",
        "# 初期化\n",
        "net = Net(n_input, n_output)\n",
        "\n",
        "# 損失関数 : 交差エントロピー関数\n",
        "# 線形では、MSELossを使っていた\n",
        "criterion = nn.CrossEntropyLoss()\n",
        "\n",
        "# 最適化関数 : 勾配降下法\n",
        "optimizer = optim.SGD(net.parameters(), lr = lr)\n",
        "\n",
        "# 繰り返し回数\n",
        "num_epochs = 20000\n",
        "\n",
        "# 評価結果記録用\n",
        "history = np.zeros((0, 5))"
      ],
      "metadata": {
        "id": "Im_Pw_QvZBIL"
      },
      "execution_count": null,
      "outputs": []
    },
    {
      "cell_type": "code",
      "source": [
        "for parameter in net.named_parameters():\n",
        "  print(parameter)"
      ],
      "metadata": {
        "colab": {
          "base_uri": "https://localhost:8080/"
        },
        "id": "mXvHam5trEr7",
        "outputId": "3e075098-e37c-4fbf-c147-cbd1fb214ec2"
      },
      "execution_count": null,
      "outputs": [
        {
          "output_type": "stream",
          "name": "stdout",
          "text": [
            "('l1.weight', Parameter containing:\n",
            "tensor([[1., 1., 1., 1., 1., 1., 1., 1., 1., 1., 1.],\n",
            "        [1., 1., 1., 1., 1., 1., 1., 1., 1., 1., 1.],\n",
            "        [1., 1., 1., 1., 1., 1., 1., 1., 1., 1., 1.],\n",
            "        [1., 1., 1., 1., 1., 1., 1., 1., 1., 1., 1.],\n",
            "        [1., 1., 1., 1., 1., 1., 1., 1., 1., 1., 1.],\n",
            "        [1., 1., 1., 1., 1., 1., 1., 1., 1., 1., 1.],\n",
            "        [1., 1., 1., 1., 1., 1., 1., 1., 1., 1., 1.],\n",
            "        [1., 1., 1., 1., 1., 1., 1., 1., 1., 1., 1.],\n",
            "        [1., 1., 1., 1., 1., 1., 1., 1., 1., 1., 1.],\n",
            "        [1., 1., 1., 1., 1., 1., 1., 1., 1., 1., 1.],\n",
            "        [1., 1., 1., 1., 1., 1., 1., 1., 1., 1., 1.],\n",
            "        [1., 1., 1., 1., 1., 1., 1., 1., 1., 1., 1.],\n",
            "        [1., 1., 1., 1., 1., 1., 1., 1., 1., 1., 1.],\n",
            "        [1., 1., 1., 1., 1., 1., 1., 1., 1., 1., 1.],\n",
            "        [1., 1., 1., 1., 1., 1., 1., 1., 1., 1., 1.],\n",
            "        [1., 1., 1., 1., 1., 1., 1., 1., 1., 1., 1.],\n",
            "        [1., 1., 1., 1., 1., 1., 1., 1., 1., 1., 1.],\n",
            "        [1., 1., 1., 1., 1., 1., 1., 1., 1., 1., 1.],\n",
            "        [1., 1., 1., 1., 1., 1., 1., 1., 1., 1., 1.],\n",
            "        [1., 1., 1., 1., 1., 1., 1., 1., 1., 1., 1.]], requires_grad=True))\n",
            "('l1.bias', Parameter containing:\n",
            "tensor([1., 1., 1., 1., 1., 1., 1., 1., 1., 1., 1., 1., 1., 1., 1., 1., 1., 1.,\n",
            "        1., 1.], requires_grad=True))\n",
            "('l2.weight', Parameter containing:\n",
            "tensor([[-1.2568e-01,  1.9530e-01, -8.8298e-02, -2.2584e-02,  9.0655e-02,\n",
            "          2.1307e-01, -6.3338e-02, -1.2353e-01,  1.5401e-01,  4.8002e-02,\n",
            "          1.7949e-01,  9.5499e-02,  8.4307e-02, -2.0357e-01, -1.2783e-01,\n",
            "          8.5343e-02,  2.7314e-02,  4.5925e-02,  8.9568e-02,  1.7033e-01],\n",
            "        [ 1.5865e-01,  6.5656e-02,  5.9279e-02, -6.5142e-02, -1.5478e-02,\n",
            "          2.2346e-01,  8.6993e-02, -3.4712e-02, -1.1601e-01,  9.7345e-03,\n",
            "          1.4840e-01, -7.3163e-02,  1.7404e-02, -1.1418e-01,  2.7586e-02,\n",
            "         -9.8565e-02, -2.9699e-02, -1.4986e-01, -7.1048e-02, -2.2353e-01],\n",
            "        [ 2.1810e-01,  1.0457e-01,  2.1232e-01,  1.0151e-01,  1.5656e-01,\n",
            "         -1.3408e-01,  1.3352e-01,  1.4172e-01, -9.7006e-02,  1.6785e-01,\n",
            "          3.7845e-03,  8.9925e-02,  1.4618e-01,  8.4144e-02,  8.3011e-03,\n",
            "          1.0998e-01,  1.9558e-01,  2.1376e-01, -1.2396e-02, -2.2142e-01],\n",
            "        [-1.3287e-01, -1.9361e-01, -9.0147e-02,  2.0441e-02, -2.4454e-02,\n",
            "         -3.4189e-02,  1.9500e-01,  7.0115e-03, -2.0641e-01,  1.7849e-01,\n",
            "         -1.9446e-01,  5.2564e-02, -8.9703e-03,  1.7132e-01,  2.1485e-01,\n",
            "          7.9162e-02, -4.5111e-02, -1.1473e-02,  1.7862e-01,  1.4821e-02],\n",
            "        [ 1.5308e-01, -4.9894e-02, -1.2774e-01,  5.9282e-02,  6.5882e-02,\n",
            "         -4.9200e-02, -1.3030e-01, -2.9326e-02, -1.7039e-01,  2.1272e-01,\n",
            "         -9.5240e-02, -1.1747e-01,  1.4154e-01, -7.2701e-02,  6.9796e-02,\n",
            "         -1.6831e-01,  1.8619e-01, -7.2090e-02, -1.9115e-01, -2.0169e-01],\n",
            "        [-4.4910e-02, -2.0687e-01, -8.5997e-02,  6.9312e-02, -2.1323e-01,\n",
            "         -3.5798e-02, -2.1314e-01, -2.0939e-01, -1.3579e-01,  2.4380e-03,\n",
            "         -1.9178e-01, -1.0253e-01,  6.5330e-02, -1.8721e-01, -1.2524e-01,\n",
            "         -9.8325e-02,  1.2345e-01,  5.4014e-03, -1.4140e-01,  6.0079e-02],\n",
            "        [ 1.9298e-01, -2.3303e-02, -1.4652e-01,  2.0349e-01, -5.5213e-02,\n",
            "          2.8779e-03,  1.6749e-01, -2.0822e-01, -1.0585e-01, -1.2162e-01,\n",
            "          2.1457e-01, -9.0634e-02,  3.7379e-02, -3.1261e-02, -7.4346e-02,\n",
            "          1.3132e-02,  1.3683e-01,  1.5568e-01, -6.5263e-02,  4.6132e-02],\n",
            "        [-6.4381e-02, -1.5592e-01, -1.4899e-01, -1.4547e-01,  5.2735e-02,\n",
            "          1.6835e-01, -1.8006e-01, -7.7958e-02, -3.5797e-02,  1.0707e-01,\n",
            "         -9.6407e-02,  1.0772e-01, -1.5508e-01, -1.2767e-01, -1.5888e-02,\n",
            "         -1.8018e-01, -9.4223e-03, -7.9081e-02,  5.7901e-02,  4.6404e-02],\n",
            "        [-3.7831e-02, -5.1912e-02, -6.7251e-02, -9.5708e-02, -1.3979e-01,\n",
            "          7.2389e-02,  7.3692e-03, -1.0465e-04, -1.9722e-01, -1.8009e-01,\n",
            "          7.7234e-02,  2.0438e-01, -2.0472e-01,  3.0204e-02, -8.7263e-02,\n",
            "         -9.6604e-02, -2.0726e-01, -6.5497e-02,  1.9490e-02,  3.3275e-02],\n",
            "        [-1.5779e-02, -9.5539e-03,  5.2957e-02,  1.2335e-01,  3.7986e-02,\n",
            "         -1.0859e-01,  1.3025e-01,  9.2247e-02,  1.5550e-01,  4.4775e-02,\n",
            "         -1.7968e-01, -1.9388e-01, -4.4886e-02, -7.2322e-02, -1.2544e-03,\n",
            "          1.5586e-01,  2.1905e-01,  1.6471e-01, -2.1909e-01, -2.1435e-01]],\n",
            "       requires_grad=True))\n",
            "('l2.bias', Parameter containing:\n",
            "tensor([-0.1382, -0.0339, -0.1989,  0.1499,  0.2221,  0.1985, -0.1262, -0.1983,\n",
            "        -0.1433, -0.0256], requires_grad=True))\n",
            "('l3.weight', Parameter containing:\n",
            "tensor([[-0.0768, -0.0265,  0.2918, -0.1616,  0.2582, -0.2261,  0.0253,  0.0298,\n",
            "          0.0994, -0.0344],\n",
            "        [-0.2740,  0.2778, -0.1320, -0.2137, -0.2029, -0.2037, -0.2482,  0.0885,\n",
            "         -0.1486, -0.3134],\n",
            "        [ 0.3006,  0.1092, -0.2963,  0.1285, -0.0825, -0.0411,  0.0031, -0.0382,\n",
            "         -0.2618,  0.0508],\n",
            "        [-0.2275,  0.1726,  0.1039, -0.1591, -0.2843,  0.1055, -0.0866, -0.2517,\n",
            "          0.1110, -0.0351],\n",
            "        [ 0.0356,  0.3110,  0.2072, -0.0126, -0.1744, -0.1296,  0.0211,  0.0211,\n",
            "         -0.2874, -0.1343],\n",
            "        [ 0.2968,  0.2246, -0.1669,  0.1795, -0.0112, -0.1346,  0.3043,  0.2962,\n",
            "          0.1757, -0.2134]], requires_grad=True))\n",
            "('l3.bias', Parameter containing:\n",
            "tensor([ 0.1382, -0.2633,  0.2073, -0.0929,  0.1558,  0.0639],\n",
            "       requires_grad=True))\n"
          ]
        }
      ]
    },
    {
      "cell_type": "code",
      "source": [
        "\n",
        "print(net)"
      ],
      "metadata": {
        "colab": {
          "base_uri": "https://localhost:8080/"
        },
        "id": "cnzzaz1hxy16",
        "outputId": "16c5b5e6-c67b-4c68-a806-8c9b59a07887"
      },
      "execution_count": null,
      "outputs": [
        {
          "output_type": "stream",
          "name": "stdout",
          "text": [
            "Net(\n",
            "  (l1): Linear(in_features=11, out_features=20, bias=True)\n",
            "  (l2): Linear(in_features=20, out_features=10, bias=True)\n",
            "  (l3): Linear(in_features=10, out_features=6, bias=True)\n",
            "  (relu): ReLU(inplace=True)\n",
            ")\n"
          ]
        }
      ]
    },
    {
      "cell_type": "code",
      "source": [
        "summary(net)"
      ],
      "metadata": {
        "colab": {
          "base_uri": "https://localhost:8080/"
        },
        "id": "HogSmfTuvZZE",
        "outputId": "b3de3c4b-f997-4d1b-ca9d-1f52bd0e633c"
      },
      "execution_count": null,
      "outputs": [
        {
          "output_type": "execute_result",
          "data": {
            "text/plain": [
              "=================================================================\n",
              "Layer (type:depth-idx)                   Param #\n",
              "=================================================================\n",
              "Net                                      --\n",
              "├─Linear: 1-1                            240\n",
              "├─Linear: 1-2                            210\n",
              "├─Linear: 1-3                            66\n",
              "├─ReLU: 1-4                              --\n",
              "=================================================================\n",
              "Total params: 516\n",
              "Trainable params: 516\n",
              "Non-trainable params: 0\n",
              "================================================================="
            ]
          },
          "metadata": {},
          "execution_count": 22
        }
      ]
    },
    {
      "cell_type": "code",
      "source": [
        "# 処理\n",
        "\n",
        "for epoch in range(num_epochs):\n",
        "  \n",
        "  #-------------学習----------------\n",
        "  \n",
        "  # 勾配の初期化\n",
        "  optimizer.zero_grad()\n",
        "\n",
        "  # 予測計算\n",
        "  outputs_train = net(inputs_train)\n",
        "\n",
        "  # 損失計算\n",
        "  loss = criterion(outputs_train, labels_train)\n",
        "\n",
        "  # 勾配計算\n",
        "  loss.backward()\n",
        "\n",
        "  # パラメータ修正\n",
        "  optimizer.step()\n",
        "\n",
        "  # 予測ラベル算出\n",
        "  # スコアが一番高いもの\n",
        "  predicated = torch.max(outputs_train, 1)[1]\n",
        "\n",
        "  # 損失と精度の計算\n",
        "  # 予測と実際の値が合っているものの合計をラベルの大きさで割れば、予測精度がわかる\n",
        "  train_loss = loss.item()\n",
        "  train_acc = (predicated == labels_train).sum()/len(labels_train)\n",
        "\n",
        "  #-------------予測----------------\n",
        "\n",
        "  # 予測計算\n",
        "  outputs_test = net(inputs_test)\n",
        "\n",
        "  # 損失計算\n",
        "  loss_test = criterion(outputs_test, labels_test)\n",
        "\n",
        "  # 予測ラベル算出\n",
        "  predicated_test = torch.max(outputs_test, 1)[1]\n",
        "\n",
        "  # 損失と精度の計算\n",
        "  val_loss = loss_test.item()\n",
        "  val_acc = (predicated_test == labels_test).sum()/len(labels_test)\n",
        "\n",
        "\n",
        "\n",
        "  # 記録\n",
        "  if((epoch) % 100 == 0):\n",
        "    print(f\"Epoch [{epoch}/{num_epochs}], loss:{train_loss:.5f} acc:{train_acc:.5f} val_loss: {val_loss:.5f} val_acc: {val_acc:.5f}\")\n",
        "    item = np.array([epoch, train_loss, train_acc, val_loss, val_acc])\n",
        "    history = np.vstack((history, item))\n",
        "\n"
      ],
      "metadata": {
        "colab": {
          "base_uri": "https://localhost:8080/"
        },
        "id": "8b46MaNJaM1X",
        "outputId": "e8916506-0ec0-4dbe-c0fd-6845a397d036"
      },
      "execution_count": null,
      "outputs": [
        {
          "output_type": "stream",
          "name": "stdout",
          "text": [
            "Epoch [0/20000], loss:44.76525 acc:0.00782 val_loss: 40.31724 val_acc: 0.00000\n",
            "Epoch [100/20000], loss:2.59337 acc:0.42611 val_loss: 2.85381 val_acc: 0.40938\n",
            "Epoch [200/20000], loss:2.22568 acc:0.42611 val_loss: 2.41257 val_acc: 0.40938\n",
            "Epoch [300/20000], loss:1.94740 acc:0.42611 val_loss: 2.07840 val_acc: 0.40938\n",
            "Epoch [400/20000], loss:1.73687 acc:0.42611 val_loss: 1.82588 val_acc: 0.40938\n",
            "Epoch [500/20000], loss:1.57814 acc:0.42611 val_loss: 1.63537 val_acc: 0.40938\n",
            "Epoch [600/20000], loss:1.39012 acc:0.45661 val_loss: 1.43390 val_acc: 0.44688\n",
            "Epoch [700/20000], loss:1.33541 acc:0.49023 val_loss: 1.36147 val_acc: 0.48750\n",
            "Epoch [800/20000], loss:1.29572 acc:0.49023 val_loss: 1.30963 val_acc: 0.51562\n",
            "Epoch [900/20000], loss:1.26582 acc:0.48319 val_loss: 1.27043 val_acc: 0.51250\n",
            "Epoch [1000/20000], loss:1.24338 acc:0.48632 val_loss: 1.24076 val_acc: 0.51250\n",
            "Epoch [1100/20000], loss:1.22645 acc:0.47928 val_loss: 1.21805 val_acc: 0.52812\n",
            "Epoch [1200/20000], loss:1.21347 acc:0.49257 val_loss: 1.20033 val_acc: 0.53438\n",
            "Epoch [1300/20000], loss:1.20328 acc:0.49492 val_loss: 1.18614 val_acc: 0.54688\n",
            "Epoch [1400/20000], loss:1.19513 acc:0.49257 val_loss: 1.17453 val_acc: 0.54062\n",
            "Epoch [1500/20000], loss:1.18850 acc:0.49726 val_loss: 1.16483 val_acc: 0.55000\n",
            "Epoch [1600/20000], loss:1.18304 acc:0.49883 val_loss: 1.15662 val_acc: 0.54688\n",
            "Epoch [1700/20000], loss:1.17852 acc:0.49726 val_loss: 1.14961 val_acc: 0.55000\n",
            "Epoch [1800/20000], loss:1.17478 acc:0.49805 val_loss: 1.14360 val_acc: 0.55000\n",
            "Epoch [1900/20000], loss:1.17168 acc:0.49805 val_loss: 1.13842 val_acc: 0.54375\n",
            "Epoch [2000/20000], loss:1.16913 acc:0.49414 val_loss: 1.13396 val_acc: 0.54062\n",
            "Epoch [2100/20000], loss:1.16703 acc:0.49257 val_loss: 1.13013 val_acc: 0.53438\n",
            "Epoch [2200/20000], loss:1.16531 acc:0.49023 val_loss: 1.12683 val_acc: 0.53438\n",
            "Epoch [2300/20000], loss:1.16392 acc:0.49257 val_loss: 1.12400 val_acc: 0.53438\n",
            "Epoch [2400/20000], loss:1.16278 acc:0.49335 val_loss: 1.12157 val_acc: 0.53438\n",
            "Epoch [2500/20000], loss:1.16186 acc:0.49101 val_loss: 1.11949 val_acc: 0.53125\n",
            "Epoch [2600/20000], loss:1.16112 acc:0.49023 val_loss: 1.11770 val_acc: 0.52812\n",
            "Epoch [2700/20000], loss:1.16051 acc:0.49101 val_loss: 1.11616 val_acc: 0.52812\n",
            "Epoch [2800/20000], loss:1.16001 acc:0.49179 val_loss: 1.11484 val_acc: 0.53125\n",
            "Epoch [2900/20000], loss:1.15960 acc:0.49023 val_loss: 1.11370 val_acc: 0.53750\n",
            "Epoch [3000/20000], loss:1.15926 acc:0.49023 val_loss: 1.11272 val_acc: 0.53750\n",
            "Epoch [3100/20000], loss:1.15898 acc:0.49257 val_loss: 1.11186 val_acc: 0.53438\n",
            "Epoch [3200/20000], loss:1.15874 acc:0.49257 val_loss: 1.11111 val_acc: 0.53438\n",
            "Epoch [3300/20000], loss:1.15854 acc:0.49335 val_loss: 1.11046 val_acc: 0.53438\n",
            "Epoch [3400/20000], loss:1.15836 acc:0.49257 val_loss: 1.10988 val_acc: 0.53438\n",
            "Epoch [3500/20000], loss:1.15821 acc:0.49414 val_loss: 1.10938 val_acc: 0.53750\n",
            "Epoch [3600/20000], loss:1.15808 acc:0.49414 val_loss: 1.10893 val_acc: 0.53750\n",
            "Epoch [3700/20000], loss:1.15797 acc:0.49414 val_loss: 1.10853 val_acc: 0.54062\n",
            "Epoch [3800/20000], loss:1.15787 acc:0.49335 val_loss: 1.10817 val_acc: 0.54062\n",
            "Epoch [3900/20000], loss:1.15778 acc:0.49335 val_loss: 1.10785 val_acc: 0.54062\n",
            "Epoch [4000/20000], loss:1.15770 acc:0.49335 val_loss: 1.10757 val_acc: 0.54062\n",
            "Epoch [4100/20000], loss:1.15762 acc:0.49335 val_loss: 1.10731 val_acc: 0.53750\n",
            "Epoch [4200/20000], loss:1.15756 acc:0.49414 val_loss: 1.10707 val_acc: 0.53750\n",
            "Epoch [4300/20000], loss:1.15750 acc:0.49492 val_loss: 1.10686 val_acc: 0.54062\n",
            "Epoch [4400/20000], loss:1.15744 acc:0.49570 val_loss: 1.10666 val_acc: 0.54062\n",
            "Epoch [4500/20000], loss:1.15739 acc:0.49648 val_loss: 1.10648 val_acc: 0.54062\n",
            "Epoch [4600/20000], loss:1.15735 acc:0.49648 val_loss: 1.10632 val_acc: 0.54062\n",
            "Epoch [4700/20000], loss:1.15731 acc:0.49726 val_loss: 1.10617 val_acc: 0.54062\n",
            "Epoch [4800/20000], loss:1.15727 acc:0.49648 val_loss: 1.10603 val_acc: 0.54062\n",
            "Epoch [4900/20000], loss:1.15723 acc:0.49648 val_loss: 1.10590 val_acc: 0.54062\n",
            "Epoch [5000/20000], loss:1.15720 acc:0.49648 val_loss: 1.10578 val_acc: 0.54062\n",
            "Epoch [5100/20000], loss:1.15716 acc:0.49648 val_loss: 1.10567 val_acc: 0.53750\n",
            "Epoch [5200/20000], loss:1.15713 acc:0.49648 val_loss: 1.10557 val_acc: 0.53750\n",
            "Epoch [5300/20000], loss:1.15710 acc:0.49726 val_loss: 1.10547 val_acc: 0.53750\n",
            "Epoch [5400/20000], loss:1.15708 acc:0.49570 val_loss: 1.10538 val_acc: 0.53750\n",
            "Epoch [5500/20000], loss:1.15705 acc:0.49570 val_loss: 1.10529 val_acc: 0.53750\n",
            "Epoch [5600/20000], loss:1.15702 acc:0.49570 val_loss: 1.10521 val_acc: 0.53750\n",
            "Epoch [5700/20000], loss:1.15700 acc:0.49570 val_loss: 1.10514 val_acc: 0.53750\n",
            "Epoch [5800/20000], loss:1.15697 acc:0.49570 val_loss: 1.10507 val_acc: 0.53750\n",
            "Epoch [5900/20000], loss:1.15695 acc:0.49570 val_loss: 1.10500 val_acc: 0.53750\n",
            "Epoch [6000/20000], loss:1.15693 acc:0.49492 val_loss: 1.10494 val_acc: 0.53750\n",
            "Epoch [6100/20000], loss:1.15690 acc:0.49492 val_loss: 1.10487 val_acc: 0.53750\n",
            "Epoch [6200/20000], loss:1.15688 acc:0.49492 val_loss: 1.10482 val_acc: 0.53750\n",
            "Epoch [6300/20000], loss:1.15686 acc:0.49492 val_loss: 1.10476 val_acc: 0.53750\n",
            "Epoch [6400/20000], loss:1.15684 acc:0.49492 val_loss: 1.10471 val_acc: 0.53750\n",
            "Epoch [6500/20000], loss:1.15682 acc:0.49492 val_loss: 1.10466 val_acc: 0.53750\n",
            "Epoch [6600/20000], loss:1.15680 acc:0.49492 val_loss: 1.10461 val_acc: 0.53750\n",
            "Epoch [6700/20000], loss:1.15678 acc:0.49492 val_loss: 1.10457 val_acc: 0.53750\n",
            "Epoch [6800/20000], loss:1.15676 acc:0.49492 val_loss: 1.10453 val_acc: 0.53750\n",
            "Epoch [6900/20000], loss:1.15674 acc:0.49492 val_loss: 1.10448 val_acc: 0.53750\n",
            "Epoch [7000/20000], loss:1.15672 acc:0.49570 val_loss: 1.10444 val_acc: 0.53750\n",
            "Epoch [7100/20000], loss:1.15670 acc:0.49570 val_loss: 1.10440 val_acc: 0.53750\n",
            "Epoch [7200/20000], loss:1.15668 acc:0.49570 val_loss: 1.10437 val_acc: 0.53750\n",
            "Epoch [7300/20000], loss:1.15667 acc:0.49570 val_loss: 1.10433 val_acc: 0.53750\n",
            "Epoch [7400/20000], loss:1.15665 acc:0.49570 val_loss: 1.10429 val_acc: 0.53750\n",
            "Epoch [7500/20000], loss:1.15663 acc:0.49570 val_loss: 1.10426 val_acc: 0.53750\n",
            "Epoch [7600/20000], loss:1.15661 acc:0.49570 val_loss: 1.10423 val_acc: 0.53750\n",
            "Epoch [7700/20000], loss:1.15659 acc:0.49570 val_loss: 1.10419 val_acc: 0.53750\n",
            "Epoch [7800/20000], loss:1.15657 acc:0.49570 val_loss: 1.10416 val_acc: 0.53750\n",
            "Epoch [7900/20000], loss:1.15655 acc:0.49570 val_loss: 1.10413 val_acc: 0.53750\n",
            "Epoch [8000/20000], loss:1.15654 acc:0.49570 val_loss: 1.10410 val_acc: 0.53750\n",
            "Epoch [8100/20000], loss:1.15652 acc:0.49570 val_loss: 1.10407 val_acc: 0.53750\n",
            "Epoch [8200/20000], loss:1.15650 acc:0.49570 val_loss: 1.10404 val_acc: 0.53750\n",
            "Epoch [8300/20000], loss:1.15648 acc:0.49492 val_loss: 1.10401 val_acc: 0.53750\n",
            "Epoch [8400/20000], loss:1.15646 acc:0.49492 val_loss: 1.10399 val_acc: 0.53750\n",
            "Epoch [8500/20000], loss:1.15645 acc:0.49492 val_loss: 1.10396 val_acc: 0.53750\n",
            "Epoch [8600/20000], loss:1.15643 acc:0.49492 val_loss: 1.10393 val_acc: 0.53750\n",
            "Epoch [8700/20000], loss:1.15641 acc:0.49492 val_loss: 1.10391 val_acc: 0.53750\n",
            "Epoch [8800/20000], loss:1.15639 acc:0.49414 val_loss: 1.10388 val_acc: 0.53750\n",
            "Epoch [8900/20000], loss:1.15638 acc:0.49414 val_loss: 1.10386 val_acc: 0.53750\n",
            "Epoch [9000/20000], loss:1.15636 acc:0.49414 val_loss: 1.10383 val_acc: 0.53750\n",
            "Epoch [9100/20000], loss:1.15634 acc:0.49414 val_loss: 1.10381 val_acc: 0.53750\n",
            "Epoch [9200/20000], loss:1.15632 acc:0.49414 val_loss: 1.10378 val_acc: 0.53750\n",
            "Epoch [9300/20000], loss:1.15631 acc:0.49492 val_loss: 1.10376 val_acc: 0.53750\n",
            "Epoch [9400/20000], loss:1.15629 acc:0.49492 val_loss: 1.10374 val_acc: 0.53750\n",
            "Epoch [9500/20000], loss:1.15627 acc:0.49492 val_loss: 1.10371 val_acc: 0.53750\n",
            "Epoch [9600/20000], loss:1.15625 acc:0.49570 val_loss: 1.10369 val_acc: 0.53750\n",
            "Epoch [9700/20000], loss:1.15624 acc:0.49570 val_loss: 1.10367 val_acc: 0.53750\n",
            "Epoch [9800/20000], loss:1.15622 acc:0.49570 val_loss: 1.10364 val_acc: 0.53750\n",
            "Epoch [9900/20000], loss:1.15620 acc:0.49570 val_loss: 1.10362 val_acc: 0.53750\n",
            "Epoch [10000/20000], loss:1.15619 acc:0.49570 val_loss: 1.10360 val_acc: 0.53750\n",
            "Epoch [10100/20000], loss:1.15617 acc:0.49570 val_loss: 1.10358 val_acc: 0.53750\n",
            "Epoch [10200/20000], loss:1.15615 acc:0.49570 val_loss: 1.10356 val_acc: 0.53750\n",
            "Epoch [10300/20000], loss:1.15613 acc:0.49414 val_loss: 1.10353 val_acc: 0.53750\n",
            "Epoch [10400/20000], loss:1.15612 acc:0.49414 val_loss: 1.10351 val_acc: 0.53750\n",
            "Epoch [10500/20000], loss:1.15610 acc:0.49414 val_loss: 1.10349 val_acc: 0.53750\n",
            "Epoch [10600/20000], loss:1.15608 acc:0.49414 val_loss: 1.10347 val_acc: 0.53750\n",
            "Epoch [10700/20000], loss:1.15606 acc:0.49492 val_loss: 1.10345 val_acc: 0.53750\n",
            "Epoch [10800/20000], loss:1.15605 acc:0.49492 val_loss: 1.10343 val_acc: 0.53750\n",
            "Epoch [10900/20000], loss:1.15603 acc:0.49492 val_loss: 1.10341 val_acc: 0.53750\n",
            "Epoch [11000/20000], loss:1.15601 acc:0.49492 val_loss: 1.10339 val_acc: 0.53750\n",
            "Epoch [11100/20000], loss:1.15599 acc:0.49492 val_loss: 1.10337 val_acc: 0.53750\n",
            "Epoch [11200/20000], loss:1.15598 acc:0.49492 val_loss: 1.10335 val_acc: 0.53750\n",
            "Epoch [11300/20000], loss:1.15596 acc:0.49492 val_loss: 1.10333 val_acc: 0.53750\n",
            "Epoch [11400/20000], loss:1.15594 acc:0.49492 val_loss: 1.10331 val_acc: 0.53750\n",
            "Epoch [11500/20000], loss:1.15593 acc:0.49492 val_loss: 1.10329 val_acc: 0.53750\n",
            "Epoch [11600/20000], loss:1.15591 acc:0.49492 val_loss: 1.10327 val_acc: 0.53750\n",
            "Epoch [11700/20000], loss:1.15589 acc:0.49492 val_loss: 1.10325 val_acc: 0.53750\n",
            "Epoch [11800/20000], loss:1.15587 acc:0.49492 val_loss: 1.10322 val_acc: 0.53750\n",
            "Epoch [11900/20000], loss:1.15586 acc:0.49492 val_loss: 1.10321 val_acc: 0.53750\n",
            "Epoch [12000/20000], loss:1.15584 acc:0.49492 val_loss: 1.10319 val_acc: 0.53750\n",
            "Epoch [12100/20000], loss:1.15582 acc:0.49492 val_loss: 1.10317 val_acc: 0.53750\n",
            "Epoch [12200/20000], loss:1.15581 acc:0.49492 val_loss: 1.10315 val_acc: 0.53750\n",
            "Epoch [12300/20000], loss:1.15579 acc:0.49492 val_loss: 1.10313 val_acc: 0.53750\n",
            "Epoch [12400/20000], loss:1.15577 acc:0.49492 val_loss: 1.10311 val_acc: 0.53750\n",
            "Epoch [12500/20000], loss:1.15575 acc:0.49492 val_loss: 1.10309 val_acc: 0.53750\n",
            "Epoch [12600/20000], loss:1.15574 acc:0.49492 val_loss: 1.10307 val_acc: 0.53750\n",
            "Epoch [12700/20000], loss:1.15572 acc:0.49492 val_loss: 1.10305 val_acc: 0.53750\n",
            "Epoch [12800/20000], loss:1.15570 acc:0.49492 val_loss: 1.10303 val_acc: 0.53750\n",
            "Epoch [12900/20000], loss:1.15569 acc:0.49492 val_loss: 1.10301 val_acc: 0.53750\n",
            "Epoch [13000/20000], loss:1.15567 acc:0.49492 val_loss: 1.10299 val_acc: 0.53750\n",
            "Epoch [13100/20000], loss:1.15565 acc:0.49492 val_loss: 1.10297 val_acc: 0.53750\n",
            "Epoch [13200/20000], loss:1.15563 acc:0.49492 val_loss: 1.10296 val_acc: 0.53750\n",
            "Epoch [13300/20000], loss:1.15562 acc:0.49492 val_loss: 1.10294 val_acc: 0.53750\n",
            "Epoch [13400/20000], loss:1.15560 acc:0.49492 val_loss: 1.10292 val_acc: 0.53750\n",
            "Epoch [13500/20000], loss:1.15558 acc:0.49492 val_loss: 1.10290 val_acc: 0.53750\n",
            "Epoch [13600/20000], loss:1.15557 acc:0.49492 val_loss: 1.10288 val_acc: 0.53750\n",
            "Epoch [13700/20000], loss:1.15555 acc:0.49492 val_loss: 1.10286 val_acc: 0.53750\n",
            "Epoch [13800/20000], loss:1.15553 acc:0.49492 val_loss: 1.10284 val_acc: 0.53750\n",
            "Epoch [13900/20000], loss:1.15552 acc:0.49492 val_loss: 1.10283 val_acc: 0.53750\n",
            "Epoch [14000/20000], loss:1.15550 acc:0.49492 val_loss: 1.10281 val_acc: 0.53750\n",
            "Epoch [14100/20000], loss:1.15548 acc:0.49492 val_loss: 1.10279 val_acc: 0.53750\n",
            "Epoch [14200/20000], loss:1.15546 acc:0.49492 val_loss: 1.10277 val_acc: 0.53750\n",
            "Epoch [14300/20000], loss:1.15545 acc:0.49492 val_loss: 1.10275 val_acc: 0.53750\n",
            "Epoch [14400/20000], loss:1.15543 acc:0.49492 val_loss: 1.10273 val_acc: 0.53750\n",
            "Epoch [14500/20000], loss:1.15541 acc:0.49492 val_loss: 1.10272 val_acc: 0.53750\n",
            "Epoch [14600/20000], loss:1.15540 acc:0.49648 val_loss: 1.10270 val_acc: 0.53750\n",
            "Epoch [14700/20000], loss:1.15538 acc:0.49648 val_loss: 1.10268 val_acc: 0.53750\n",
            "Epoch [14800/20000], loss:1.15536 acc:0.49648 val_loss: 1.10266 val_acc: 0.53750\n",
            "Epoch [14900/20000], loss:1.15535 acc:0.49648 val_loss: 1.10264 val_acc: 0.53750\n",
            "Epoch [15000/20000], loss:1.15533 acc:0.49648 val_loss: 1.10262 val_acc: 0.53750\n",
            "Epoch [15100/20000], loss:1.15531 acc:0.49648 val_loss: 1.10260 val_acc: 0.53438\n",
            "Epoch [15200/20000], loss:1.15529 acc:0.49648 val_loss: 1.10259 val_acc: 0.53438\n",
            "Epoch [15300/20000], loss:1.15528 acc:0.49648 val_loss: 1.10257 val_acc: 0.53438\n",
            "Epoch [15400/20000], loss:1.15526 acc:0.49648 val_loss: 1.10255 val_acc: 0.53438\n",
            "Epoch [15500/20000], loss:1.15524 acc:0.49648 val_loss: 1.10253 val_acc: 0.53438\n",
            "Epoch [15600/20000], loss:1.15523 acc:0.49648 val_loss: 1.10251 val_acc: 0.53438\n",
            "Epoch [15700/20000], loss:1.15521 acc:0.49648 val_loss: 1.10249 val_acc: 0.53438\n",
            "Epoch [15800/20000], loss:1.15519 acc:0.49648 val_loss: 1.10248 val_acc: 0.53438\n",
            "Epoch [15900/20000], loss:1.15518 acc:0.49648 val_loss: 1.10246 val_acc: 0.53438\n",
            "Epoch [16000/20000], loss:1.15516 acc:0.49648 val_loss: 1.10244 val_acc: 0.53438\n",
            "Epoch [16100/20000], loss:1.15514 acc:0.49648 val_loss: 1.10242 val_acc: 0.53438\n",
            "Epoch [16200/20000], loss:1.15513 acc:0.49648 val_loss: 1.10240 val_acc: 0.53438\n",
            "Epoch [16300/20000], loss:1.15511 acc:0.49648 val_loss: 1.10239 val_acc: 0.53438\n",
            "Epoch [16400/20000], loss:1.15509 acc:0.49648 val_loss: 1.10237 val_acc: 0.53438\n",
            "Epoch [16500/20000], loss:1.15508 acc:0.49648 val_loss: 1.10235 val_acc: 0.53438\n",
            "Epoch [16600/20000], loss:1.15506 acc:0.49648 val_loss: 1.10233 val_acc: 0.53438\n",
            "Epoch [16700/20000], loss:1.15504 acc:0.49648 val_loss: 1.10231 val_acc: 0.53438\n",
            "Epoch [16800/20000], loss:1.15503 acc:0.49648 val_loss: 1.10229 val_acc: 0.53438\n",
            "Epoch [16900/20000], loss:1.15501 acc:0.49648 val_loss: 1.10228 val_acc: 0.53438\n",
            "Epoch [17000/20000], loss:1.15499 acc:0.49648 val_loss: 1.10226 val_acc: 0.53438\n",
            "Epoch [17100/20000], loss:1.15498 acc:0.49648 val_loss: 1.10224 val_acc: 0.53438\n",
            "Epoch [17200/20000], loss:1.15496 acc:0.49648 val_loss: 1.10222 val_acc: 0.53438\n",
            "Epoch [17300/20000], loss:1.15494 acc:0.49648 val_loss: 1.10220 val_acc: 0.53438\n",
            "Epoch [17400/20000], loss:1.15493 acc:0.49805 val_loss: 1.10218 val_acc: 0.53438\n",
            "Epoch [17500/20000], loss:1.15491 acc:0.49805 val_loss: 1.10217 val_acc: 0.53438\n",
            "Epoch [17600/20000], loss:1.15489 acc:0.49805 val_loss: 1.10215 val_acc: 0.53438\n",
            "Epoch [17700/20000], loss:1.15488 acc:0.49805 val_loss: 1.10213 val_acc: 0.53438\n",
            "Epoch [17800/20000], loss:1.15486 acc:0.49805 val_loss: 1.10211 val_acc: 0.53438\n",
            "Epoch [17900/20000], loss:1.15484 acc:0.49805 val_loss: 1.10209 val_acc: 0.53438\n",
            "Epoch [18000/20000], loss:1.15483 acc:0.49805 val_loss: 1.10208 val_acc: 0.53438\n",
            "Epoch [18100/20000], loss:1.15481 acc:0.49805 val_loss: 1.10206 val_acc: 0.53438\n",
            "Epoch [18200/20000], loss:1.15479 acc:0.49805 val_loss: 1.10204 val_acc: 0.53438\n",
            "Epoch [18300/20000], loss:1.15478 acc:0.49805 val_loss: 1.10202 val_acc: 0.53438\n",
            "Epoch [18400/20000], loss:1.15476 acc:0.49805 val_loss: 1.10200 val_acc: 0.53438\n",
            "Epoch [18500/20000], loss:1.15474 acc:0.49805 val_loss: 1.10199 val_acc: 0.53438\n",
            "Epoch [18600/20000], loss:1.15473 acc:0.49805 val_loss: 1.10197 val_acc: 0.53438\n",
            "Epoch [18700/20000], loss:1.15471 acc:0.49805 val_loss: 1.10195 val_acc: 0.53438\n",
            "Epoch [18800/20000], loss:1.15469 acc:0.49805 val_loss: 1.10193 val_acc: 0.53438\n",
            "Epoch [18900/20000], loss:1.15468 acc:0.49805 val_loss: 1.10191 val_acc: 0.53438\n",
            "Epoch [19000/20000], loss:1.15466 acc:0.49805 val_loss: 1.10190 val_acc: 0.53438\n",
            "Epoch [19100/20000], loss:1.15464 acc:0.49805 val_loss: 1.10188 val_acc: 0.53438\n",
            "Epoch [19200/20000], loss:1.15463 acc:0.49805 val_loss: 1.10186 val_acc: 0.53438\n",
            "Epoch [19300/20000], loss:1.15461 acc:0.49805 val_loss: 1.10184 val_acc: 0.53438\n",
            "Epoch [19400/20000], loss:1.15459 acc:0.49805 val_loss: 1.10183 val_acc: 0.53438\n",
            "Epoch [19500/20000], loss:1.15458 acc:0.49805 val_loss: 1.10181 val_acc: 0.53438\n",
            "Epoch [19600/20000], loss:1.15456 acc:0.49805 val_loss: 1.10179 val_acc: 0.53438\n",
            "Epoch [19700/20000], loss:1.15454 acc:0.49805 val_loss: 1.10177 val_acc: 0.53438\n",
            "Epoch [19800/20000], loss:1.15453 acc:0.49805 val_loss: 1.10176 val_acc: 0.53438\n",
            "Epoch [19900/20000], loss:1.15451 acc:0.49805 val_loss: 1.10174 val_acc: 0.53438\n"
          ]
        }
      ]
    },
    {
      "cell_type": "code",
      "source": [
        "#損失と精度の確認\n",
        "\n",
        "print(f'初期状態: 損失: {history[0,3]:.5f} 精度: {history[0,4]:.5f}' )\n",
        "print(f'最終状態: 損失: {history[-1,3]:.5f} 精度: {history[-1,4]:.5f}' )"
      ],
      "metadata": {
        "id": "OTJz4MQ1tjMV",
        "colab": {
          "base_uri": "https://localhost:8080/"
        },
        "outputId": "c8bdb76d-da8b-48b7-825d-40db1c5979c2"
      },
      "execution_count": null,
      "outputs": [
        {
          "output_type": "stream",
          "name": "stdout",
          "text": [
            "初期状態: 損失: 40.31724 精度: 0.00000\n",
            "最終状態: 損失: 1.10174 精度: 0.53438\n"
          ]
        }
      ]
    },
    {
      "cell_type": "code",
      "source": [
        "# 学習曲線の表示 (損失)\n",
        "\n",
        "plt.plot(history[:,0], history[:,1], 'b', label='訓練')\n",
        "plt.plot(history[:,0], history[:,3], 'k', label='検証')\n",
        "plt.xlabel('繰り返し回数')\n",
        "plt.ylabel('損失')\n",
        "plt.title('学習曲線(損失)')\n",
        "plt.legend()\n",
        "plt.show()"
      ],
      "metadata": {
        "colab": {
          "base_uri": "https://localhost:8080/",
          "height": 294
        },
        "id": "8d2J6O1ttPJ-",
        "outputId": "fe228426-e4ad-4461-a643-605377bfaac1"
      },
      "execution_count": null,
      "outputs": [
        {
          "output_type": "display_data",
          "data": {
            "text/plain": [
              "<Figure size 432x288 with 1 Axes>"
            ],
            "image/png": "[encoded data removed]"
          },
          "metadata": {
            "needs_background": "light"
          }
        }
      ]
    },
    {
      "cell_type": "code",
      "source": [
        "# 学習曲線の表示 (精度)\n",
        "\n",
        "plt.plot(history[:,0], history[:,2], 'b', label='訓練')\n",
        "plt.plot(history[:,0], history[:,4], 'k', label='検証')\n",
        "plt.xlabel('繰り返し回数')\n",
        "plt.ylabel('精度')\n",
        "plt.title('学習曲線(精度)')\n",
        "plt.legend()\n",
        "plt.show()"
      ],
      "metadata": {
        "colab": {
          "base_uri": "https://localhost:8080/",
          "height": 294
        },
        "id": "P--DdOkptSGD",
        "outputId": "14ff6575-f4bc-4546-f55f-a0aecb652f22"
      },
      "execution_count": null,
      "outputs": [
        {
          "output_type": "display_data",
          "data": {
            "text/plain": [
              "<Figure size 432x288 with 1 Axes>"
            ],
            "image/png": "[encoded data removed]"
          },
          "metadata": {
            "needs_background": "light"
          }
        }
      ]
    }
  ]
}