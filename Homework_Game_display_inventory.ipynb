{
 "cells": [
  {
   "cell_type": "markdown",
   "metadata": {},
   "source": [
    "### 演習問題\n",
    "\n",
    "---\n",
    "\n",
    "あなたは今ゲームを作成している。プレーヤーの持ち物リストをモデル化するデータ構造は、アイテムの名前を表す文字列をキーとし、所有するアイテム数を表す整数値を値とした辞書として表現します。\n",
    "\n",
    "持ち物リストを引数とし、次の様に表示する関数```display_inventory(inventory)```を書くことを考える。以下の問に答えなさい。\n",
    "\n",
    "```\n",
    "持ち物リスト：\n",
    "矢　２\n",
    "金貨　４２\n",
    "ロープ　１\n",
    "たいまつ　６\n",
    "手裏剣　１\n",
    "\n",
    "アイテム総数：６２\n",
    "```"
   ]
  },
  {
   "cell_type": "markdown",
   "metadata": {},
   "source": [
    "---\n",
    "\n",
    "Q.1：\n",
    "\n",
    "持ち物リストを辞書形式で表現し、```inventory```という変数に入れなさい。ここで、keyは持ち物としなさい。"
   ]
  },
  {
   "cell_type": "code",
   "execution_count": 1,
   "metadata": {},
   "outputs": [],
   "source": [
    "inventory = {\"矢\": 2, \"金貨\": 42, \"ロープ\": 1, \"たいまつ\": 6, \"手裏剣\": 1}"
   ]
  },
  {
   "cell_type": "markdown",
   "metadata": {},
   "source": [
    "---\n",
    "\n",
    "Q.2：\n",
    "\n",
    "```inventory.keys()```が持ち物をリスト化して表すことができることを確認しなさい。"
   ]
  },
  {
   "cell_type": "code",
   "execution_count": 3,
   "metadata": {},
   "outputs": [
    {
     "data": {
      "text/plain": [
       "dict_keys(['矢', '金貨', 'ロープ', 'たいまつ', '手裏剣'])"
      ]
     },
     "execution_count": 3,
     "metadata": {},
     "output_type": "execute_result"
    }
   ],
   "source": [
    "inventory.keys()"
   ]
  },
  {
   "cell_type": "markdown",
   "metadata": {},
   "source": [
    "---\n",
    "\n",
    "Q.3:\n",
    "\n",
    "```inventory```の持ち物に対して、数量に出力するプログラムを作成しなさい。ここで、表現にはfor文を使うこと。"
   ]
  },
  {
   "cell_type": "code",
   "execution_count": 6,
   "metadata": {},
   "outputs": [
    {
     "name": "stdout",
     "output_type": "stream",
     "text": [
      "2\n",
      "42\n",
      "1\n",
      "6\n",
      "1\n"
     ]
    }
   ],
   "source": [
    "for value in inventory.values() :\n",
    "    print(value)"
   ]
  },
  {
   "cell_type": "markdown",
   "metadata": {},
   "source": [
    "---\n",
    "\n",
    "Q.4:\n",
    "\n",
    "```inventory```の値を足し算して62になるプログラムを作成しなさい。"
   ]
  },
  {
   "cell_type": "code",
   "execution_count": 9,
   "metadata": {},
   "outputs": [
    {
     "name": "stdout",
     "output_type": "stream",
     "text": [
      "52\n"
     ]
    }
   ],
   "source": [
    "values = 0\n",
    "for value in inventory.values() :\n",
    "    values += value\n",
    "\n",
    "print(values)"
   ]
  },
  {
   "cell_type": "markdown",
   "metadata": {},
   "source": [
    "---\n",
    "\n",
    "Q.5：\n",
    "\n",
    "```inventory```を入力したときに下記のような出力になる```display_inventory(inventory)```を作成しなさい。\n",
    "\n",
    "```\n",
    "持ち物リスト：\n",
    "矢　２\n",
    "金貨　４２\n",
    "ロープ　１\n",
    "たいまつ　６\n",
    "手裏剣　１\n",
    "\n",
    "アイテム総数：６２\n",
    "```"
   ]
  },
  {
   "cell_type": "code",
   "execution_count": 10,
   "metadata": {},
   "outputs": [
    {
     "name": "stdout",
     "output_type": "stream",
     "text": [
      "{'矢': 2, '金貨': 42, 'ロープ': 1, 'たいまつ': 6, '手裏剣': 1}\n"
     ]
    }
   ],
   "source": [
    "print(inventory)"
   ]
  },
  {
   "cell_type": "code",
   "execution_count": 11,
   "metadata": {},
   "outputs": [
    {
     "name": "stdout",
     "output_type": "stream",
     "text": [
      "dict_items([('矢', 2), ('金貨', 42), ('ロープ', 1), ('たいまつ', 6), ('手裏剣', 1)])\n"
     ]
    }
   ],
   "source": [
    "print(inventory.items())"
   ]
  },
  {
   "cell_type": "code",
   "execution_count": 25,
   "metadata": {},
   "outputs": [
    {
     "name": "stdout",
     "output_type": "stream",
     "text": [
      "持ち物リスト：\n",
      "矢 2\n",
      "金貨 42\n",
      "ロープ 1\n",
      "たいまつ 6\n",
      "手裏剣 1\n",
      "アイテム総数：52\n"
     ]
    }
   ],
   "source": [
    "values = 0\n",
    "print(\"持ち物リスト：\")\n",
    "for k, v in inventory.items() :\n",
    "    print(k, v)\n",
    "    values += v\n",
    "\n",
    "print(\"アイテム総数：\" + str(values))"
   ]
  },
  {
   "cell_type": "code",
   "execution_count": 28,
   "metadata": {},
   "outputs": [],
   "source": [
    "def display_inventory(inventory):\n",
    "    values = 0\n",
    "    print(\"持ち物リスト：\")\n",
    "    for k, v in inventory.items() :\n",
    "        print(k, v)\n",
    "        values += v\n",
    "\n",
    "    print(\"アイテム総数：\" + str(values))"
   ]
  },
  {
   "cell_type": "code",
   "execution_count": 29,
   "metadata": {},
   "outputs": [
    {
     "name": "stdout",
     "output_type": "stream",
     "text": [
      "持ち物リスト：\n",
      "矢 2\n",
      "金貨 42\n",
      "ロープ 1\n",
      "たいまつ 6\n",
      "手裏剣 1\n",
      "アイテム総数：52\n"
     ]
    }
   ],
   "source": [
    "display_inventory(inventory)"
   ]
  },
  {
   "cell_type": "code",
   "execution_count": null,
   "metadata": {},
   "outputs": [],
   "source": []
  }
 ],
 "metadata": {
  "kernelspec": {
   "display_name": "Python 3 (ipykernel)",
   "language": "python",
   "name": "python3"
  },
  "language_info": {
   "codemirror_mode": {
    "name": "ipython",
    "version": 3
   },
   "file_extension": ".py",
   "mimetype": "text/x-python",
   "name": "python",
   "nbconvert_exporter": "python",
   "pygments_lexer": "ipython3",
   "version": "3.9.12"
  }
 },
 "nbformat": 4,
 "nbformat_minor": 4
}
