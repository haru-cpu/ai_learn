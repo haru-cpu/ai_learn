{
  "nbformat": 4,
  "nbformat_minor": 0,
  "metadata": {
    "colab": {
      "provenance": [],
      "collapsed_sections": []
    },
    "kernelspec": {
      "name": "python3",
      "display_name": "Python 3"
    },
    "language_info": {
      "name": "python"
    }
  },
  "cells": [
    {
      "cell_type": "markdown",
      "source": [
        "noizy_dataの予測するためのネットワークを作成"
      ],
      "metadata": {
        "id": "JjoOiRyHkuEI"
      }
    },
    {
      "cell_type": "code",
      "source": [
        "!pip install japanize_matplotlib | tail -n 1"
      ],
      "metadata": {
        "colab": {
          "base_uri": "https://localhost:8080/"
        },
        "id": "oBsRdYgSo92k",
        "outputId": "0286f1fb-9d2b-4200-8b72-29d42391a1e7"
      },
      "execution_count": null,
      "outputs": [
        {
          "output_type": "stream",
          "name": "stdout",
          "text": [
            "Successfully installed japanize-matplotlib-1.1.3\n"
          ]
        }
      ]
    },
    {
      "cell_type": "code",
      "source": [
        "import numpy as np\n",
        "import pandas as pd\n",
        "import matplotlib.pyplot as plt\n",
        "import torch\n",
        "import torch.nn as nn\n",
        "import torch.optim as optim\n",
        "import japanize_matplotlib\n",
        "\n",
        "%matplotlib inline"
      ],
      "metadata": {
        "id": "6ij50oClkxUx"
      },
      "execution_count": null,
      "outputs": []
    },
    {
      "cell_type": "code",
      "source": [
        "df = pd.read_csv(\"/content/drive/MyDrive/220918_send/noizy_data.csv\", index_col=0)"
      ],
      "metadata": {
        "id": "XsUvY8jror9M"
      },
      "execution_count": null,
      "outputs": []
    },
    {
      "cell_type": "code",
      "source": [
        "df"
      ],
      "metadata": {
        "colab": {
          "base_uri": "https://localhost:8080/",
          "height": 424
        },
        "id": "-GL8Zh5opErL",
        "outputId": "d1f77f53-ddba-4eae-961b-430b8e1ff8db"
      },
      "execution_count": null,
      "outputs": [
        {
          "output_type": "execute_result",
          "data": {
            "text/plain": [
              "          x          y\n",
              "0  -5.00000 -58.227625\n",
              "1  -4.89899 -50.779422\n",
              "2  -4.79798 -46.059515\n",
              "3  -4.69697 -42.551186\n",
              "4  -4.59596 -34.974764\n",
              "..      ...        ...\n",
              "95  4.59596  28.423812\n",
              "96  4.69697  34.390215\n",
              "97  4.79798  38.456813\n",
              "98  4.89899  43.618069\n",
              "99  5.00000  51.619844\n",
              "\n",
              "[100 rows x 2 columns]"
            ],
            "text/html": [
              "\n",
              "  <div id=\"df-73a2bd09-2730-41bf-ba6d-e5b6ed196e8b\">\n",
              "    <div class=\"colab-df-container\">\n",
              "      <div>\n",
              "<style scoped>\n",
              "    .dataframe tbody tr th:only-of-type {\n",
              "        vertical-align: middle;\n",
              "    }\n",
              "\n",
              "    .dataframe tbody tr th {\n",
              "        vertical-align: top;\n",
              "    }\n",
              "\n",
              "    .dataframe thead th {\n",
              "        text-align: right;\n",
              "    }\n",
              "</style>\n",
              "<table border=\"1\" class=\"dataframe\">\n",
              "  <thead>\n",
              "    <tr style=\"text-align: right;\">\n",
              "      <th></th>\n",
              "      <th>x</th>\n",
              "      <th>y</th>\n",
              "    </tr>\n",
              "  </thead>\n",
              "  <tbody>\n",
              "    <tr>\n",
              "      <th>0</th>\n",
              "      <td>-5.00000</td>\n",
              "      <td>-58.227625</td>\n",
              "    </tr>\n",
              "    <tr>\n",
              "      <th>1</th>\n",
              "      <td>-4.89899</td>\n",
              "      <td>-50.779422</td>\n",
              "    </tr>\n",
              "    <tr>\n",
              "      <th>2</th>\n",
              "      <td>-4.79798</td>\n",
              "      <td>-46.059515</td>\n",
              "    </tr>\n",
              "    <tr>\n",
              "      <th>3</th>\n",
              "      <td>-4.69697</td>\n",
              "      <td>-42.551186</td>\n",
              "    </tr>\n",
              "    <tr>\n",
              "      <th>4</th>\n",
              "      <td>-4.59596</td>\n",
              "      <td>-34.974764</td>\n",
              "    </tr>\n",
              "    <tr>\n",
              "      <th>...</th>\n",
              "      <td>...</td>\n",
              "      <td>...</td>\n",
              "    </tr>\n",
              "    <tr>\n",
              "      <th>95</th>\n",
              "      <td>4.59596</td>\n",
              "      <td>28.423812</td>\n",
              "    </tr>\n",
              "    <tr>\n",
              "      <th>96</th>\n",
              "      <td>4.69697</td>\n",
              "      <td>34.390215</td>\n",
              "    </tr>\n",
              "    <tr>\n",
              "      <th>97</th>\n",
              "      <td>4.79798</td>\n",
              "      <td>38.456813</td>\n",
              "    </tr>\n",
              "    <tr>\n",
              "      <th>98</th>\n",
              "      <td>4.89899</td>\n",
              "      <td>43.618069</td>\n",
              "    </tr>\n",
              "    <tr>\n",
              "      <th>99</th>\n",
              "      <td>5.00000</td>\n",
              "      <td>51.619844</td>\n",
              "    </tr>\n",
              "  </tbody>\n",
              "</table>\n",
              "<p>100 rows × 2 columns</p>\n",
              "</div>\n",
              "      <button class=\"colab-df-convert\" onclick=\"convertToInteractive('df-73a2bd09-2730-41bf-ba6d-e5b6ed196e8b')\"\n",
              "              title=\"Convert this dataframe to an interactive table.\"\n",
              "              style=\"display:none;\">\n",
              "        \n",
              "  <svg xmlns=\"http://www.w3.org/2000/svg\" height=\"24px\"viewBox=\"0 0 24 24\"\n",
              "       width=\"24px\">\n",
              "    <path d=\"M0 0h24v24H0V0z\" fill=\"none\"/>\n",
              "    <path d=\"M18.56 5.44l.94 2.06.94-2.06 2.06-.94-2.06-.94-.94-2.06-.94 2.06-2.06.94zm-11 1L8.5 8.5l.94-2.06 2.06-.94-2.06-.94L8.5 2.5l-.94 2.06-2.06.94zm10 10l.94 2.06.94-2.06 2.06-.94-2.06-.94-.94-2.06-.94 2.06-2.06.94z\"/><path d=\"M17.41 7.96l-1.37-1.37c-.4-.4-.92-.59-1.43-.59-.52 0-1.04.2-1.43.59L10.3 9.45l-7.72 7.72c-.78.78-.78 2.05 0 2.83L4 21.41c.39.39.9.59 1.41.59.51 0 1.02-.2 1.41-.59l7.78-7.78 2.81-2.81c.8-.78.8-2.07 0-2.86zM5.41 20L4 18.59l7.72-7.72 1.47 1.35L5.41 20z\"/>\n",
              "  </svg>\n",
              "      </button>\n",
              "      \n",
              "  <style>\n",
              "    .colab-df-container {\n",
              "      display:flex;\n",
              "      flex-wrap:wrap;\n",
              "      gap: 12px;\n",
              "    }\n",
              "\n",
              "    .colab-df-convert {\n",
              "      background-color: #E8F0FE;\n",
              "      border: none;\n",
              "      border-radius: 50%;\n",
              "      cursor: pointer;\n",
              "      display: none;\n",
              "      fill: #1967D2;\n",
              "      height: 32px;\n",
              "      padding: 0 0 0 0;\n",
              "      width: 32px;\n",
              "    }\n",
              "\n",
              "    .colab-df-convert:hover {\n",
              "      background-color: #E2EBFA;\n",
              "      box-shadow: 0px 1px 2px rgba(60, 64, 67, 0.3), 0px 1px 3px 1px rgba(60, 64, 67, 0.15);\n",
              "      fill: #174EA6;\n",
              "    }\n",
              "\n",
              "    [theme=dark] .colab-df-convert {\n",
              "      background-color: #3B4455;\n",
              "      fill: #D2E3FC;\n",
              "    }\n",
              "\n",
              "    [theme=dark] .colab-df-convert:hover {\n",
              "      background-color: #434B5C;\n",
              "      box-shadow: 0px 1px 3px 1px rgba(0, 0, 0, 0.15);\n",
              "      filter: drop-shadow(0px 1px 2px rgba(0, 0, 0, 0.3));\n",
              "      fill: #FFFFFF;\n",
              "    }\n",
              "  </style>\n",
              "\n",
              "      <script>\n",
              "        const buttonEl =\n",
              "          document.querySelector('#df-73a2bd09-2730-41bf-ba6d-e5b6ed196e8b button.colab-df-convert');\n",
              "        buttonEl.style.display =\n",
              "          google.colab.kernel.accessAllowed ? 'block' : 'none';\n",
              "\n",
              "        async function convertToInteractive(key) {\n",
              "          const element = document.querySelector('#df-73a2bd09-2730-41bf-ba6d-e5b6ed196e8b');\n",
              "          const dataTable =\n",
              "            await google.colab.kernel.invokeFunction('convertToInteractive',\n",
              "                                                     [key], {});\n",
              "          if (!dataTable) return;\n",
              "\n",
              "          const docLinkHtml = 'Like what you see? Visit the ' +\n",
              "            '<a target=\"_blank\" href=https://colab.research.google.com/notebooks/data_table.ipynb>data table notebook</a>'\n",
              "            + ' to learn more about interactive tables.';\n",
              "          element.innerHTML = '';\n",
              "          dataTable['output_type'] = 'display_data';\n",
              "          await google.colab.output.renderOutput(dataTable, element);\n",
              "          const docLink = document.createElement('div');\n",
              "          docLink.innerHTML = docLinkHtml;\n",
              "          element.appendChild(docLink);\n",
              "        }\n",
              "      </script>\n",
              "    </div>\n",
              "  </div>\n",
              "  "
            ]
          },
          "metadata": {},
          "execution_count": 22
        }
      ]
    },
    {
      "cell_type": "code",
      "source": [
        "x = df.iloc[:, 0]"
      ],
      "metadata": {
        "id": "BQxoMs01pFsk"
      },
      "execution_count": null,
      "outputs": []
    },
    {
      "cell_type": "code",
      "source": [
        "y = df.iloc[:, 1]"
      ],
      "metadata": {
        "id": "2Sl4vAy3pryI"
      },
      "execution_count": null,
      "outputs": []
    },
    {
      "cell_type": "code",
      "source": [
        "# pytorchを使うためにテンソル変数化\n",
        "X = torch.tensor(x).float()\n",
        "Y = torch.tensor(y).float()"
      ],
      "metadata": {
        "id": "_Nie_ZLupyCs"
      },
      "execution_count": null,
      "outputs": []
    },
    {
      "cell_type": "code",
      "source": [
        "X = X.view(-1, 1)\n",
        "Y = Y.view(-1, 1)"
      ],
      "metadata": {
        "id": "lWTvvP_YATtt"
      },
      "execution_count": null,
      "outputs": []
    },
    {
      "cell_type": "code",
      "source": [
        "inputs = X\n",
        "labels = Y"
      ],
      "metadata": {
        "id": "0SANjvy3Iq1A"
      },
      "execution_count": null,
      "outputs": []
    },
    {
      "cell_type": "code",
      "source": [
        "X.shape"
      ],
      "metadata": {
        "colab": {
          "base_uri": "https://localhost:8080/"
        },
        "id": "T7lRWZhgbZK9",
        "outputId": "11c1ae28-7d35-472f-d428-bbf149ccc398"
      },
      "execution_count": null,
      "outputs": [
        {
          "output_type": "execute_result",
          "data": {
            "text/plain": [
              "torch.Size([100, 1])"
            ]
          },
          "metadata": {},
          "execution_count": 28
        }
      ]
    },
    {
      "cell_type": "code",
      "source": [
        "Y.shape"
      ],
      "metadata": {
        "colab": {
          "base_uri": "https://localhost:8080/"
        },
        "id": "Jyo0nHamoxWG",
        "outputId": "e9b94a45-3461-45f5-c987-2230fd8af036"
      },
      "execution_count": null,
      "outputs": [
        {
          "output_type": "execute_result",
          "data": {
            "text/plain": [
              "torch.Size([100, 1])"
            ]
          },
          "metadata": {},
          "execution_count": 29
        }
      ]
    },
    {
      "cell_type": "code",
      "source": [
        "# 変数定義\n",
        "\n",
        "# 入力次元=1\n",
        "n_input = X.shape[1]\n",
        "\n",
        "# 出力次元=1\n",
        "n_output = 1"
      ],
      "metadata": {
        "id": "Lsos3cB0regD"
      },
      "execution_count": null,
      "outputs": []
    },
    {
      "cell_type": "code",
      "source": [
        "# モデルのクラス定義\n",
        "\n",
        "class Net(nn.Module):\n",
        "  def __init__(self, n_input, n_output):\n",
        "    super().__init__()\n",
        "\n",
        "    #出力層の定義\n",
        "    self.l1 = nn.Linear(n_input, n_output)\n",
        "\n",
        "    # 初期値の定義\n",
        "    nn.init.constant_(self.l1.weight, 1.0)\n",
        "    nn.init.constant_(self.l1.bias, 1.0)\n",
        "\n",
        "  # 予測関数\n",
        "  def forward(self, x):\n",
        "    x1 = self.l1(x) # 線形回帰\n",
        "    return x1"
      ],
      "metadata": {
        "id": "4hTnphcjrfkb"
      },
      "execution_count": null,
      "outputs": []
    },
    {
      "cell_type": "code",
      "source": [
        "# 学習率\n",
        "lr = 0.001\n",
        "\n",
        "# インスタンス生成\n",
        "net = Net(n_input, n_output)\n",
        "\n",
        "# 最適化アルゴリズム：勾配降下法\n",
        "optimizer = optim.SGD(net.parameters(), lr = lr)\n",
        "\n",
        "# 損失計算\n",
        "criterion = nn.MSELoss()\n",
        "\n",
        "# 繰り返し回数\n",
        "num_epoch = 10000\n",
        "\n",
        "# 記録\n",
        "history = np.zeros((0, 2))"
      ],
      "metadata": {
        "id": "5qwuqAqlE2-a"
      },
      "execution_count": null,
      "outputs": []
    },
    {
      "cell_type": "code",
      "source": [
        "# 繰り返し\n",
        "\n",
        "for epoch in range(num_epoch):\n",
        "\n",
        "  #勾配初期化\n",
        "  optimizer.zero_grad()\n",
        "\n",
        "  # 予測計算\n",
        "  outputs = net(inputs)\n",
        "\n",
        "  # 誤差計算\n",
        "  loss = criterion(outputs, labels)\n",
        "\n",
        "  # 勾配計算\n",
        "  loss.backward()\n",
        "\n",
        "  # 勾配降下法の適用\n",
        "  optimizer.step()\n",
        "\n",
        "  # 記録\n",
        "  if(epoch % 100 == 0):\n",
        "    history = np.vstack((history, np.array([epoch, loss.item()])))\n",
        "    print(f\"Epoch: {epoch} loss: {loss.item():.5f}\")\n"
      ],
      "metadata": {
        "colab": {
          "base_uri": "https://localhost:8080/"
        },
        "id": "PUXzTklNIGE7",
        "outputId": "6ebfd73f-e05f-48e9-ad9d-dd6c8d9fd38a"
      },
      "execution_count": null,
      "outputs": [
        {
          "output_type": "stream",
          "name": "stdout",
          "text": [
            "Epoch: 0 loss: 403.33255\n",
            "Epoch: 100 loss: 393.87445\n",
            "Epoch: 200 loss: 387.94781\n",
            "Epoch: 300 loss: 383.98999\n",
            "Epoch: 400 loss: 381.33847\n",
            "Epoch: 500 loss: 379.56183\n",
            "Epoch: 600 loss: 378.37137\n",
            "Epoch: 700 loss: 377.57370\n",
            "Epoch: 800 loss: 377.03925\n",
            "Epoch: 900 loss: 376.68112\n",
            "Epoch: 1000 loss: 376.44116\n",
            "Epoch: 1100 loss: 376.28040\n",
            "Epoch: 1200 loss: 376.17267\n",
            "Epoch: 1300 loss: 376.10049\n",
            "Epoch: 1400 loss: 376.05206\n",
            "Epoch: 1500 loss: 376.01968\n",
            "Epoch: 1600 loss: 375.99792\n",
            "Epoch: 1700 loss: 375.98340\n",
            "Epoch: 1800 loss: 375.97366\n",
            "Epoch: 1900 loss: 375.96716\n",
            "Epoch: 2000 loss: 375.96277\n",
            "Epoch: 2100 loss: 375.95981\n",
            "Epoch: 2200 loss: 375.95786\n",
            "Epoch: 2300 loss: 375.95657\n",
            "Epoch: 2400 loss: 375.95569\n",
            "Epoch: 2500 loss: 375.95505\n",
            "Epoch: 2600 loss: 375.95465\n",
            "Epoch: 2700 loss: 375.95438\n",
            "Epoch: 2800 loss: 375.95425\n",
            "Epoch: 2900 loss: 375.95410\n",
            "Epoch: 3000 loss: 375.95401\n",
            "Epoch: 3100 loss: 375.95398\n",
            "Epoch: 3200 loss: 375.95395\n",
            "Epoch: 3300 loss: 375.95395\n",
            "Epoch: 3400 loss: 375.95395\n",
            "Epoch: 3500 loss: 375.95392\n",
            "Epoch: 3600 loss: 375.95392\n",
            "Epoch: 3700 loss: 375.95386\n",
            "Epoch: 3800 loss: 375.95386\n",
            "Epoch: 3900 loss: 375.95392\n",
            "Epoch: 4000 loss: 375.95386\n",
            "Epoch: 4100 loss: 375.95392\n",
            "Epoch: 4200 loss: 375.95383\n",
            "Epoch: 4300 loss: 375.95392\n",
            "Epoch: 4400 loss: 375.95386\n",
            "Epoch: 4500 loss: 375.95386\n",
            "Epoch: 4600 loss: 375.95386\n",
            "Epoch: 4700 loss: 375.95386\n",
            "Epoch: 4800 loss: 375.95386\n",
            "Epoch: 4900 loss: 375.95386\n",
            "Epoch: 5000 loss: 375.95386\n",
            "Epoch: 5100 loss: 375.95386\n",
            "Epoch: 5200 loss: 375.95386\n",
            "Epoch: 5300 loss: 375.95386\n",
            "Epoch: 5400 loss: 375.95386\n",
            "Epoch: 5500 loss: 375.95386\n",
            "Epoch: 5600 loss: 375.95386\n",
            "Epoch: 5700 loss: 375.95386\n",
            "Epoch: 5800 loss: 375.95386\n",
            "Epoch: 5900 loss: 375.95386\n",
            "Epoch: 6000 loss: 375.95386\n",
            "Epoch: 6100 loss: 375.95386\n",
            "Epoch: 6200 loss: 375.95386\n",
            "Epoch: 6300 loss: 375.95386\n",
            "Epoch: 6400 loss: 375.95386\n",
            "Epoch: 6500 loss: 375.95386\n",
            "Epoch: 6600 loss: 375.95386\n",
            "Epoch: 6700 loss: 375.95386\n",
            "Epoch: 6800 loss: 375.95386\n",
            "Epoch: 6900 loss: 375.95386\n",
            "Epoch: 7000 loss: 375.95386\n",
            "Epoch: 7100 loss: 375.95386\n",
            "Epoch: 7200 loss: 375.95386\n",
            "Epoch: 7300 loss: 375.95386\n",
            "Epoch: 7400 loss: 375.95386\n",
            "Epoch: 7500 loss: 375.95386\n",
            "Epoch: 7600 loss: 375.95386\n",
            "Epoch: 7700 loss: 375.95386\n",
            "Epoch: 7800 loss: 375.95386\n",
            "Epoch: 7900 loss: 375.95386\n",
            "Epoch: 8000 loss: 375.95386\n",
            "Epoch: 8100 loss: 375.95386\n",
            "Epoch: 8200 loss: 375.95386\n",
            "Epoch: 8300 loss: 375.95386\n",
            "Epoch: 8400 loss: 375.95386\n",
            "Epoch: 8500 loss: 375.95386\n",
            "Epoch: 8600 loss: 375.95386\n",
            "Epoch: 8700 loss: 375.95386\n",
            "Epoch: 8800 loss: 375.95386\n",
            "Epoch: 8900 loss: 375.95386\n",
            "Epoch: 9000 loss: 375.95386\n",
            "Epoch: 9100 loss: 375.95386\n",
            "Epoch: 9200 loss: 375.95386\n",
            "Epoch: 9300 loss: 375.95386\n",
            "Epoch: 9400 loss: 375.95386\n",
            "Epoch: 9500 loss: 375.95386\n",
            "Epoch: 9600 loss: 375.95386\n",
            "Epoch: 9700 loss: 375.95386\n",
            "Epoch: 9800 loss: 375.95386\n",
            "Epoch: 9900 loss: 375.95386\n"
          ]
        }
      ]
    },
    {
      "cell_type": "code",
      "source": [
        "# 学習曲線の表示 (損失)\n",
        "\n",
        "plt.plot(history[:,0], history[:,1], 'b')\n",
        "plt.xlabel('繰り返し回数')\n",
        "plt.ylabel('損失')\n",
        "plt.title('学習曲線(損失)')\n",
        "plt.show()"
      ],
      "metadata": {
        "colab": {
          "base_uri": "https://localhost:8080/",
          "height": 294
        },
        "id": "f5aB49pec00t",
        "outputId": "53739df4-6eb2-4cc7-fed7-97a18d5986eb"
      },
      "execution_count": null,
      "outputs": [
        {
          "output_type": "display_data",
          "data": {
            "text/plain": [
              "<Figure size 432x288 with 1 Axes>"
            ],
            "image/png": "[encoded data removed]"
          },
          "metadata": {
            "needs_background": "light"
          }
        }
      ]
    },
    {
      "cell_type": "code",
      "source": [
        "# 結果のグラフ化\n",
        "labels_pred = net(inputs)\n",
        "\n",
        "plt.title('活性化関数なし')\n",
        "plt.scatter(inputs.data, labels_pred.data, c='b', label='予測値')\n",
        "plt.scatter(x, y,label='正解値')\n",
        "plt.legend()\n",
        "plt.show()"
      ],
      "metadata": {
        "colab": {
          "base_uri": "https://localhost:8080/",
          "height": 279
        },
        "id": "fHpauMkXKK9V",
        "outputId": "feecbadf-354a-4f32-917a-43e911f125e4"
      },
      "execution_count": null,
      "outputs": [
        {
          "output_type": "display_data",
          "data": {
            "text/plain": [
              "<Figure size 432x288 with 1 Axes>"
            ],
            "image/png": "[encoded data removed]"
          },
          "metadata": {
            "needs_background": "light"
          }
        }
      ]
    },
    {
      "cell_type": "code",
      "source": [
        "# モデルのクラス定義\n",
        "class Net(nn.Module):\n",
        "  def __init__(self, n_input, n_output):\n",
        "    super().__init__()\n",
        "\n",
        "    self.l1 = nn.Linear(n_input, 25)\n",
        "    self.l2 = nn.Linear(25, 50)\n",
        "    self.l3 = nn.Linear(50, n_output)\n",
        "    self.relu = nn.ReLU(inplace=True)\n",
        "\n",
        "  # 予測関数\n",
        "  def forward(self, x):\n",
        "    x1 = self.relu(self.l1(x))\n",
        "    x2 = self.relu(self.l2(x1))\n",
        "    x3 = self.l3(x2)\n",
        "    return x3"
      ],
      "metadata": {
        "id": "phOyl33vKVCL"
      },
      "execution_count": null,
      "outputs": []
    },
    {
      "cell_type": "code",
      "source": [
        "# 学習率\n",
        "lr = 0.0001\n",
        "\n",
        "# インスタンス生成\n",
        "net = Net(n_input, n_output)\n",
        "\n",
        "# 最適化アルゴリズム\n",
        "optimizer = optim.SGD(net.parameters(), lr = lr)\n",
        "\n",
        "# 損失関数\n",
        "criterion = nn.MSELoss()\n",
        "\n",
        "# 繰り返し回数\n",
        "num_epoch = 50000\n",
        "\n",
        "# 記録\n",
        "history = np.zeros((0, 2))"
      ],
      "metadata": {
        "id": "cS3qSSCUtDzi"
      },
      "execution_count": null,
      "outputs": []
    },
    {
      "cell_type": "code",
      "source": [
        "# 繰り返し処理\n",
        "\n",
        "for epoch in range(num_epoch):\n",
        "\n",
        "  # 勾配地初期値\n",
        "  optimizer.zero_grad()\n",
        "\n",
        "  # 予測関数\n",
        "  outputs = net(inputs)\n",
        "\n",
        "  # 誤差計算\n",
        "  loss = criterion(outputs, labels)\n",
        "\n",
        "  # 勾配計算\n",
        "  loss.backward()\n",
        "\n",
        "  # 勾配降下法\n",
        "  optimizer.step()\n",
        "\n",
        "  # 記録\n",
        "  if(epoch % 100 == 0):\n",
        "    history = np.vstack((history, np.array([epoch, loss.item()])))\n",
        "    print(f\"Epoch {epoch} loss: {loss.item():.5f}\")"
      ],
      "metadata": {
        "colab": {
          "base_uri": "https://localhost:8080/"
        },
        "id": "AidIkMGTupTs",
        "outputId": "ba3334c6-6921-46b9-a677-30f5268647ef"
      },
      "execution_count": null,
      "outputs": [
        {
          "output_type": "stream",
          "name": "stdout",
          "text": [
            "Epoch 0 loss: 406.14426\n",
            "Epoch 100 loss: 398.83386\n",
            "Epoch 200 loss: 391.73767\n",
            "Epoch 300 loss: 384.61243\n",
            "Epoch 400 loss: 379.12567\n",
            "Epoch 500 loss: 375.27771\n",
            "Epoch 600 loss: 371.80652\n",
            "Epoch 700 loss: 367.92075\n",
            "Epoch 800 loss: 363.30273\n",
            "Epoch 900 loss: 357.53485\n",
            "Epoch 1000 loss: 350.53403\n",
            "Epoch 1100 loss: 341.83514\n",
            "Epoch 1200 loss: 330.92477\n",
            "Epoch 1300 loss: 317.18787\n",
            "Epoch 1400 loss: 299.85989\n",
            "Epoch 1500 loss: 278.04837\n",
            "Epoch 1600 loss: 251.41872\n",
            "Epoch 1700 loss: 220.53578\n",
            "Epoch 1800 loss: 186.81192\n",
            "Epoch 1900 loss: 153.06978\n",
            "Epoch 2000 loss: 122.78478\n",
            "Epoch 2100 loss: 98.21839\n",
            "Epoch 2200 loss: 79.71796\n",
            "Epoch 2300 loss: 65.72355\n",
            "Epoch 2400 loss: 54.83610\n",
            "Epoch 2500 loss: 46.24897\n",
            "Epoch 2600 loss: 39.32703\n",
            "Epoch 2700 loss: 33.64512\n",
            "Epoch 2800 loss: 28.88246\n",
            "Epoch 2900 loss: 25.00540\n",
            "Epoch 3000 loss: 21.67294\n",
            "Epoch 3100 loss: 18.96982\n",
            "Epoch 3200 loss: 16.74367\n",
            "Epoch 3300 loss: 14.92687\n",
            "Epoch 3400 loss: 13.46395\n",
            "Epoch 3500 loss: 12.26068\n",
            "Epoch 3600 loss: 11.24495\n",
            "Epoch 3700 loss: 10.40880\n",
            "Epoch 3800 loss: 9.72749\n",
            "Epoch 3900 loss: 9.18115\n",
            "Epoch 4000 loss: 8.72917\n",
            "Epoch 4100 loss: 8.34187\n",
            "Epoch 4200 loss: 7.97691\n",
            "Epoch 4300 loss: 7.63438\n",
            "Epoch 4400 loss: 7.32167\n",
            "Epoch 4500 loss: 7.04031\n",
            "Epoch 4600 loss: 6.78182\n",
            "Epoch 4700 loss: 6.55931\n",
            "Epoch 4800 loss: 6.36494\n",
            "Epoch 4900 loss: 6.20757\n",
            "Epoch 5000 loss: 6.07138\n",
            "Epoch 5100 loss: 5.95165\n",
            "Epoch 5200 loss: 5.83842\n",
            "Epoch 5300 loss: 5.67399\n",
            "Epoch 5400 loss: 5.54277\n",
            "Epoch 5500 loss: 5.42596\n",
            "Epoch 5600 loss: 5.32323\n",
            "Epoch 5700 loss: 5.21604\n",
            "Epoch 5800 loss: 5.11194\n",
            "Epoch 5900 loss: 5.01921\n",
            "Epoch 6000 loss: 4.93357\n",
            "Epoch 6100 loss: 4.85179\n",
            "Epoch 6200 loss: 4.77815\n",
            "Epoch 6300 loss: 4.71448\n",
            "Epoch 6400 loss: 4.65534\n",
            "Epoch 6500 loss: 4.60336\n",
            "Epoch 6600 loss: 4.55729\n",
            "Epoch 6700 loss: 4.51531\n",
            "Epoch 6800 loss: 4.47491\n",
            "Epoch 6900 loss: 4.41837\n",
            "Epoch 7000 loss: 4.37380\n",
            "Epoch 7100 loss: 4.33314\n",
            "Epoch 7200 loss: 4.27525\n",
            "Epoch 7300 loss: 4.19921\n",
            "Epoch 7400 loss: 4.12073\n",
            "Epoch 7500 loss: 4.05018\n",
            "Epoch 7600 loss: 3.98692\n",
            "Epoch 7700 loss: 3.93372\n",
            "Epoch 7800 loss: 3.88711\n",
            "Epoch 7900 loss: 3.84444\n",
            "Epoch 8000 loss: 3.80638\n",
            "Epoch 8100 loss: 3.77224\n",
            "Epoch 8200 loss: 3.74025\n",
            "Epoch 8300 loss: 3.71027\n",
            "Epoch 8400 loss: 3.68008\n",
            "Epoch 8500 loss: 3.65256\n",
            "Epoch 8600 loss: 3.62956\n",
            "Epoch 8700 loss: 3.60774\n",
            "Epoch 8800 loss: 3.58682\n",
            "Epoch 8900 loss: 3.56693\n",
            "Epoch 9000 loss: 3.52905\n",
            "Epoch 9100 loss: 3.49283\n",
            "Epoch 9200 loss: 3.45953\n",
            "Epoch 9300 loss: 3.41841\n",
            "Epoch 9400 loss: 3.37586\n",
            "Epoch 9500 loss: 3.33850\n",
            "Epoch 9600 loss: 3.31589\n",
            "Epoch 9700 loss: 3.29578\n",
            "Epoch 9800 loss: 3.27723\n",
            "Epoch 9900 loss: 3.25953\n",
            "Epoch 10000 loss: 3.24272\n",
            "Epoch 10100 loss: 3.22700\n",
            "Epoch 10200 loss: 3.21249\n",
            "Epoch 10300 loss: 3.19869\n",
            "Epoch 10400 loss: 3.18601\n",
            "Epoch 10500 loss: 3.17405\n",
            "Epoch 10600 loss: 3.16275\n",
            "Epoch 10700 loss: 3.15218\n",
            "Epoch 10800 loss: 3.14172\n",
            "Epoch 10900 loss: 3.13251\n",
            "Epoch 11000 loss: 3.12390\n",
            "Epoch 11100 loss: 3.11461\n",
            "Epoch 11200 loss: 3.10216\n",
            "Epoch 11300 loss: 3.09045\n",
            "Epoch 11400 loss: 3.08026\n",
            "Epoch 11500 loss: 3.07061\n",
            "Epoch 11600 loss: 3.06163\n",
            "Epoch 11700 loss: 3.05333\n",
            "Epoch 11800 loss: 3.04766\n",
            "Epoch 11900 loss: 3.04238\n",
            "Epoch 12000 loss: 3.03735\n",
            "Epoch 12100 loss: 3.03263\n",
            "Epoch 12200 loss: 3.02547\n",
            "Epoch 12300 loss: 3.01714\n",
            "Epoch 12400 loss: 3.00862\n",
            "Epoch 12500 loss: 3.00063\n",
            "Epoch 12600 loss: 2.99484\n",
            "Epoch 12700 loss: 2.99054\n",
            "Epoch 12800 loss: 2.98641\n",
            "Epoch 12900 loss: 2.98246\n",
            "Epoch 13000 loss: 2.97862\n",
            "Epoch 13100 loss: 2.97498\n",
            "Epoch 13200 loss: 2.96891\n",
            "Epoch 13300 loss: 2.96097\n",
            "Epoch 13400 loss: 2.95477\n",
            "Epoch 13500 loss: 2.94917\n",
            "Epoch 13600 loss: 2.94408\n",
            "Epoch 13700 loss: 2.93943\n",
            "Epoch 13800 loss: 2.93519\n",
            "Epoch 13900 loss: 2.93100\n",
            "Epoch 14000 loss: 2.92709\n",
            "Epoch 14100 loss: 2.92350\n",
            "Epoch 14200 loss: 2.91990\n",
            "Epoch 14300 loss: 2.91633\n",
            "Epoch 14400 loss: 2.91310\n",
            "Epoch 14500 loss: 2.90985\n",
            "Epoch 14600 loss: 2.90673\n",
            "Epoch 14700 loss: 2.90370\n",
            "Epoch 14800 loss: 2.90065\n",
            "Epoch 14900 loss: 2.89781\n",
            "Epoch 15000 loss: 2.89525\n",
            "Epoch 15100 loss: 2.89270\n",
            "Epoch 15200 loss: 2.89048\n",
            "Epoch 15300 loss: 2.88823\n",
            "Epoch 15400 loss: 2.88610\n",
            "Epoch 15500 loss: 2.88371\n",
            "Epoch 15600 loss: 2.88153\n",
            "Epoch 15700 loss: 2.87957\n",
            "Epoch 15800 loss: 2.87748\n",
            "Epoch 15900 loss: 2.87547\n",
            "Epoch 16000 loss: 2.87360\n",
            "Epoch 16100 loss: 2.87172\n",
            "Epoch 16200 loss: 2.86967\n",
            "Epoch 16300 loss: 2.86784\n",
            "Epoch 16400 loss: 2.86614\n",
            "Epoch 16500 loss: 2.86408\n",
            "Epoch 16600 loss: 2.86149\n",
            "Epoch 16700 loss: 2.85869\n",
            "Epoch 16800 loss: 2.85597\n",
            "Epoch 16900 loss: 2.85418\n",
            "Epoch 17000 loss: 2.85234\n",
            "Epoch 17100 loss: 2.85080\n",
            "Epoch 17200 loss: 2.84899\n",
            "Epoch 17300 loss: 2.84724\n",
            "Epoch 17400 loss: 2.84563\n",
            "Epoch 17500 loss: 2.84399\n",
            "Epoch 17600 loss: 2.84255\n",
            "Epoch 17700 loss: 2.84082\n",
            "Epoch 17800 loss: 2.83940\n",
            "Epoch 17900 loss: 2.83794\n",
            "Epoch 18000 loss: 2.83642\n",
            "Epoch 18100 loss: 2.83509\n",
            "Epoch 18200 loss: 2.83365\n",
            "Epoch 18300 loss: 2.83214\n",
            "Epoch 18400 loss: 2.83016\n",
            "Epoch 18500 loss: 2.82802\n",
            "Epoch 18600 loss: 2.82519\n",
            "Epoch 18700 loss: 2.82317\n",
            "Epoch 18800 loss: 2.82191\n",
            "Epoch 18900 loss: 2.82042\n",
            "Epoch 19000 loss: 2.81915\n",
            "Epoch 19100 loss: 2.81776\n",
            "Epoch 19200 loss: 2.81640\n",
            "Epoch 19300 loss: 2.81511\n",
            "Epoch 19400 loss: 2.81391\n",
            "Epoch 19500 loss: 2.81276\n",
            "Epoch 19600 loss: 2.81139\n",
            "Epoch 19700 loss: 2.81020\n",
            "Epoch 19800 loss: 2.80907\n",
            "Epoch 19900 loss: 2.80789\n",
            "Epoch 20000 loss: 2.80662\n",
            "Epoch 20100 loss: 2.80541\n",
            "Epoch 20200 loss: 2.80432\n",
            "Epoch 20300 loss: 2.80302\n",
            "Epoch 20400 loss: 2.80191\n",
            "Epoch 20500 loss: 2.80084\n",
            "Epoch 20600 loss: 2.79976\n",
            "Epoch 20700 loss: 2.79859\n",
            "Epoch 20800 loss: 2.79488\n",
            "Epoch 20900 loss: 2.79190\n",
            "Epoch 21000 loss: 2.78848\n",
            "Epoch 21100 loss: 2.78468\n",
            "Epoch 21200 loss: 2.78186\n",
            "Epoch 21300 loss: 2.78023\n",
            "Epoch 21400 loss: 2.77883\n",
            "Epoch 21500 loss: 2.77749\n",
            "Epoch 21600 loss: 2.77622\n",
            "Epoch 21700 loss: 2.77479\n",
            "Epoch 21800 loss: 2.77358\n",
            "Epoch 21900 loss: 2.77229\n",
            "Epoch 22000 loss: 2.77115\n",
            "Epoch 22100 loss: 2.76994\n",
            "Epoch 22200 loss: 2.76866\n",
            "Epoch 22300 loss: 2.76752\n",
            "Epoch 22400 loss: 2.76635\n",
            "Epoch 22500 loss: 2.76525\n",
            "Epoch 22600 loss: 2.76416\n",
            "Epoch 22700 loss: 2.76309\n",
            "Epoch 22800 loss: 2.76189\n",
            "Epoch 22900 loss: 2.76107\n",
            "Epoch 23000 loss: 2.75974\n",
            "Epoch 23100 loss: 2.75883\n",
            "Epoch 23200 loss: 2.75767\n",
            "Epoch 23300 loss: 2.75665\n",
            "Epoch 23400 loss: 2.75588\n",
            "Epoch 23500 loss: 2.75472\n",
            "Epoch 23600 loss: 2.75371\n",
            "Epoch 23700 loss: 2.75299\n",
            "Epoch 23800 loss: 2.75175\n",
            "Epoch 23900 loss: 2.75101\n",
            "Epoch 24000 loss: 2.74986\n",
            "Epoch 24100 loss: 2.74898\n",
            "Epoch 24200 loss: 2.74813\n",
            "Epoch 24300 loss: 2.74725\n",
            "Epoch 24400 loss: 2.74624\n",
            "Epoch 24500 loss: 2.74532\n",
            "Epoch 24600 loss: 2.74443\n",
            "Epoch 24700 loss: 2.74351\n",
            "Epoch 24800 loss: 2.74262\n",
            "Epoch 24900 loss: 2.74161\n",
            "Epoch 25000 loss: 2.74061\n",
            "Epoch 25100 loss: 2.73980\n",
            "Epoch 25200 loss: 2.73890\n",
            "Epoch 25300 loss: 2.73808\n",
            "Epoch 25400 loss: 2.73712\n",
            "Epoch 25500 loss: 2.73632\n",
            "Epoch 25600 loss: 2.73541\n",
            "Epoch 25700 loss: 2.73455\n",
            "Epoch 25800 loss: 2.73380\n",
            "Epoch 25900 loss: 2.73278\n",
            "Epoch 26000 loss: 2.73198\n",
            "Epoch 26100 loss: 2.73122\n",
            "Epoch 26200 loss: 2.73056\n",
            "Epoch 26300 loss: 2.72972\n",
            "Epoch 26400 loss: 2.72896\n",
            "Epoch 26500 loss: 2.72803\n",
            "Epoch 26600 loss: 2.72735\n",
            "Epoch 26700 loss: 2.72646\n",
            "Epoch 26800 loss: 2.72582\n",
            "Epoch 26900 loss: 2.72499\n",
            "Epoch 27000 loss: 2.72437\n",
            "Epoch 27100 loss: 2.72360\n",
            "Epoch 27200 loss: 2.72280\n",
            "Epoch 27300 loss: 2.72216\n",
            "Epoch 27400 loss: 2.72143\n",
            "Epoch 27500 loss: 2.72063\n",
            "Epoch 27600 loss: 2.71999\n",
            "Epoch 27700 loss: 2.71935\n",
            "Epoch 27800 loss: 2.71873\n",
            "Epoch 27900 loss: 2.71801\n",
            "Epoch 28000 loss: 2.71724\n",
            "Epoch 28100 loss: 2.71659\n",
            "Epoch 28200 loss: 2.71588\n",
            "Epoch 28300 loss: 2.71533\n",
            "Epoch 28400 loss: 2.71458\n",
            "Epoch 28500 loss: 2.71395\n",
            "Epoch 28600 loss: 2.71336\n",
            "Epoch 28700 loss: 2.71273\n",
            "Epoch 28800 loss: 2.71203\n",
            "Epoch 28900 loss: 2.71141\n",
            "Epoch 29000 loss: 2.71090\n",
            "Epoch 29100 loss: 2.71017\n",
            "Epoch 29200 loss: 2.70957\n",
            "Epoch 29300 loss: 2.70886\n",
            "Epoch 29400 loss: 2.70817\n",
            "Epoch 29500 loss: 2.70761\n",
            "Epoch 29600 loss: 2.70691\n",
            "Epoch 29700 loss: 2.70643\n",
            "Epoch 29800 loss: 2.70565\n",
            "Epoch 29900 loss: 2.70525\n",
            "Epoch 30000 loss: 2.70453\n",
            "Epoch 30100 loss: 2.70347\n",
            "Epoch 30200 loss: 2.70233\n",
            "Epoch 30300 loss: 2.70149\n",
            "Epoch 30400 loss: 2.70085\n",
            "Epoch 30500 loss: 2.70020\n",
            "Epoch 30600 loss: 2.69947\n",
            "Epoch 30700 loss: 2.69901\n",
            "Epoch 30800 loss: 2.69843\n",
            "Epoch 30900 loss: 2.69803\n",
            "Epoch 31000 loss: 2.69731\n",
            "Epoch 31100 loss: 2.69681\n",
            "Epoch 31200 loss: 2.69623\n",
            "Epoch 31300 loss: 2.69580\n",
            "Epoch 31400 loss: 2.69521\n",
            "Epoch 31500 loss: 2.69474\n",
            "Epoch 31600 loss: 2.69424\n",
            "Epoch 31700 loss: 2.69375\n",
            "Epoch 31800 loss: 2.69341\n",
            "Epoch 31900 loss: 2.69285\n",
            "Epoch 32000 loss: 2.69253\n",
            "Epoch 32100 loss: 2.69189\n",
            "Epoch 32200 loss: 2.69151\n",
            "Epoch 32300 loss: 2.69093\n",
            "Epoch 32400 loss: 2.69040\n",
            "Epoch 32500 loss: 2.69015\n",
            "Epoch 32600 loss: 2.68951\n",
            "Epoch 32700 loss: 2.68904\n",
            "Epoch 32800 loss: 2.68859\n",
            "Epoch 32900 loss: 2.68822\n",
            "Epoch 33000 loss: 2.68772\n",
            "Epoch 33100 loss: 2.68727\n",
            "Epoch 33200 loss: 2.68685\n",
            "Epoch 33300 loss: 2.68645\n",
            "Epoch 33400 loss: 2.68593\n",
            "Epoch 33500 loss: 2.68546\n",
            "Epoch 33600 loss: 2.68513\n",
            "Epoch 33700 loss: 2.68470\n",
            "Epoch 33800 loss: 2.68426\n",
            "Epoch 33900 loss: 2.68389\n",
            "Epoch 34000 loss: 2.68342\n",
            "Epoch 34100 loss: 2.68294\n",
            "Epoch 34200 loss: 2.68266\n",
            "Epoch 34300 loss: 2.68210\n",
            "Epoch 34400 loss: 2.68177\n",
            "Epoch 34500 loss: 2.68135\n",
            "Epoch 34600 loss: 2.68094\n",
            "Epoch 34700 loss: 2.68059\n",
            "Epoch 34800 loss: 2.68012\n",
            "Epoch 34900 loss: 2.67977\n",
            "Epoch 35000 loss: 2.67734\n",
            "Epoch 35100 loss: 2.67506\n",
            "Epoch 35200 loss: 2.67322\n",
            "Epoch 35300 loss: 2.67150\n",
            "Epoch 35400 loss: 2.66968\n",
            "Epoch 35500 loss: 2.66904\n",
            "Epoch 35600 loss: 2.66833\n",
            "Epoch 35700 loss: 2.66800\n",
            "Epoch 35800 loss: 2.66735\n",
            "Epoch 35900 loss: 2.66691\n",
            "Epoch 36000 loss: 2.66648\n",
            "Epoch 36100 loss: 2.66614\n",
            "Epoch 36200 loss: 2.66563\n",
            "Epoch 36300 loss: 2.66532\n",
            "Epoch 36400 loss: 2.66481\n",
            "Epoch 36500 loss: 2.66448\n",
            "Epoch 36600 loss: 2.66395\n",
            "Epoch 36700 loss: 2.66371\n",
            "Epoch 36800 loss: 2.66322\n",
            "Epoch 36900 loss: 2.66284\n",
            "Epoch 37000 loss: 2.66246\n",
            "Epoch 37100 loss: 2.66198\n",
            "Epoch 37200 loss: 2.66156\n",
            "Epoch 37300 loss: 2.66112\n",
            "Epoch 37400 loss: 2.66075\n",
            "Epoch 37500 loss: 2.66032\n",
            "Epoch 37600 loss: 2.66004\n",
            "Epoch 37700 loss: 2.65961\n",
            "Epoch 37800 loss: 2.65925\n",
            "Epoch 37900 loss: 2.65875\n",
            "Epoch 38000 loss: 2.65839\n",
            "Epoch 38100 loss: 2.65804\n",
            "Epoch 38200 loss: 2.65768\n",
            "Epoch 38300 loss: 2.65731\n",
            "Epoch 38400 loss: 2.65694\n",
            "Epoch 38500 loss: 2.65649\n",
            "Epoch 38600 loss: 2.65620\n",
            "Epoch 38700 loss: 2.65575\n",
            "Epoch 38800 loss: 2.65553\n",
            "Epoch 38900 loss: 2.65518\n",
            "Epoch 39000 loss: 2.65479\n",
            "Epoch 39100 loss: 2.65435\n",
            "Epoch 39200 loss: 2.65392\n",
            "Epoch 39300 loss: 2.65357\n",
            "Epoch 39400 loss: 2.65327\n",
            "Epoch 39500 loss: 2.65284\n",
            "Epoch 39600 loss: 2.65250\n",
            "Epoch 39700 loss: 2.65222\n",
            "Epoch 39800 loss: 2.65195\n",
            "Epoch 39900 loss: 2.64951\n",
            "Epoch 40000 loss: 2.64558\n",
            "Epoch 40100 loss: 2.64389\n",
            "Epoch 40200 loss: 2.64339\n",
            "Epoch 40300 loss: 2.64299\n",
            "Epoch 40400 loss: 2.64240\n",
            "Epoch 40500 loss: 2.64206\n",
            "Epoch 40600 loss: 2.64172\n",
            "Epoch 40700 loss: 2.64131\n",
            "Epoch 40800 loss: 2.64089\n",
            "Epoch 40900 loss: 2.64058\n",
            "Epoch 41000 loss: 2.64009\n",
            "Epoch 41100 loss: 2.63981\n",
            "Epoch 41200 loss: 2.63946\n",
            "Epoch 41300 loss: 2.63897\n",
            "Epoch 41400 loss: 2.63871\n",
            "Epoch 41500 loss: 2.63821\n",
            "Epoch 41600 loss: 2.63802\n",
            "Epoch 41700 loss: 2.63763\n",
            "Epoch 41800 loss: 2.63716\n",
            "Epoch 41900 loss: 2.63682\n",
            "Epoch 42000 loss: 2.63652\n",
            "Epoch 42100 loss: 2.63618\n",
            "Epoch 42200 loss: 2.63591\n",
            "Epoch 42300 loss: 2.63549\n",
            "Epoch 42400 loss: 2.63524\n",
            "Epoch 42500 loss: 2.63486\n",
            "Epoch 42600 loss: 2.63448\n",
            "Epoch 42700 loss: 2.63414\n",
            "Epoch 42800 loss: 2.63386\n",
            "Epoch 42900 loss: 2.63348\n",
            "Epoch 43000 loss: 2.63316\n",
            "Epoch 43100 loss: 2.63282\n",
            "Epoch 43200 loss: 2.63264\n",
            "Epoch 43300 loss: 2.63227\n",
            "Epoch 43400 loss: 2.63193\n",
            "Epoch 43500 loss: 2.63160\n",
            "Epoch 43600 loss: 2.63133\n",
            "Epoch 43700 loss: 2.63114\n",
            "Epoch 43800 loss: 2.63069\n",
            "Epoch 43900 loss: 2.63038\n",
            "Epoch 44000 loss: 2.63009\n",
            "Epoch 44100 loss: 2.62979\n",
            "Epoch 44200 loss: 2.62949\n",
            "Epoch 44300 loss: 2.62931\n",
            "Epoch 44400 loss: 2.62902\n",
            "Epoch 44500 loss: 2.62863\n",
            "Epoch 44600 loss: 2.62840\n",
            "Epoch 44700 loss: 2.62808\n",
            "Epoch 44800 loss: 2.62775\n",
            "Epoch 44900 loss: 2.62749\n",
            "Epoch 45000 loss: 2.62725\n",
            "Epoch 45100 loss: 2.62692\n",
            "Epoch 45200 loss: 2.62668\n",
            "Epoch 45300 loss: 2.62641\n",
            "Epoch 45400 loss: 2.62615\n",
            "Epoch 45500 loss: 2.62586\n",
            "Epoch 45600 loss: 2.62561\n",
            "Epoch 45700 loss: 2.62531\n",
            "Epoch 45800 loss: 2.62498\n",
            "Epoch 45900 loss: 2.62471\n",
            "Epoch 46000 loss: 2.62448\n",
            "Epoch 46100 loss: 2.62428\n",
            "Epoch 46200 loss: 2.62394\n",
            "Epoch 46300 loss: 2.62364\n",
            "Epoch 46400 loss: 2.62347\n",
            "Epoch 46500 loss: 2.62315\n",
            "Epoch 46600 loss: 2.62291\n",
            "Epoch 46700 loss: 2.62272\n",
            "Epoch 46800 loss: 2.62245\n",
            "Epoch 46900 loss: 2.62216\n",
            "Epoch 47000 loss: 2.62186\n",
            "Epoch 47100 loss: 2.62162\n",
            "Epoch 47200 loss: 2.62144\n",
            "Epoch 47300 loss: 2.62110\n",
            "Epoch 47400 loss: 2.62096\n",
            "Epoch 47500 loss: 2.62064\n",
            "Epoch 47600 loss: 2.62036\n",
            "Epoch 47700 loss: 2.62014\n",
            "Epoch 47800 loss: 2.61989\n",
            "Epoch 47900 loss: 2.61963\n",
            "Epoch 48000 loss: 2.61947\n",
            "Epoch 48100 loss: 2.61914\n",
            "Epoch 48200 loss: 2.61893\n",
            "Epoch 48300 loss: 2.61867\n",
            "Epoch 48400 loss: 2.61844\n",
            "Epoch 48500 loss: 2.61821\n",
            "Epoch 48600 loss: 2.61793\n",
            "Epoch 48700 loss: 2.61775\n",
            "Epoch 48800 loss: 2.61749\n",
            "Epoch 48900 loss: 2.61719\n",
            "Epoch 49000 loss: 2.61698\n",
            "Epoch 49100 loss: 2.61682\n",
            "Epoch 49200 loss: 2.61657\n",
            "Epoch 49300 loss: 2.61634\n",
            "Epoch 49400 loss: 2.61604\n",
            "Epoch 49500 loss: 2.61598\n",
            "Epoch 49600 loss: 2.61563\n",
            "Epoch 49700 loss: 2.61541\n",
            "Epoch 49800 loss: 2.61519\n",
            "Epoch 49900 loss: 2.61488\n"
          ]
        }
      ]
    },
    {
      "cell_type": "code",
      "source": [
        "# 学習曲線の表示 (損失)\n",
        "\n",
        "plt.plot(history[:,0], history[:,1], 'b')\n",
        "plt.xlabel('繰り返し回数')\n",
        "plt.ylabel('損失')\n",
        "plt.title('学習曲線(損失)')\n",
        "plt.show()"
      ],
      "metadata": {
        "colab": {
          "base_uri": "https://localhost:8080/",
          "height": 294
        },
        "id": "9PJ3-m5GwJ-i",
        "outputId": "58ebb919-42bc-4360-e2c4-d174dab38a6a"
      },
      "execution_count": null,
      "outputs": [
        {
          "output_type": "display_data",
          "data": {
            "text/plain": [
              "<Figure size 432x288 with 1 Axes>"
            ],
            "image/png": "[encoded data removed]"
          },
          "metadata": {
            "needs_background": "light"
          }
        }
      ]
    },
    {
      "cell_type": "code",
      "source": [
        "# 結果のグラフ化\n",
        "labels_pred = net(inputs)\n",
        "\n",
        "plt.title('活性化関数あり')\n",
        "plt.scatter(inputs.data, labels_pred.data, c='b', label='予測値')\n",
        "plt.scatter(x, y,label='正解値')\n",
        "plt.legend()\n",
        "plt.show()"
      ],
      "metadata": {
        "colab": {
          "base_uri": "https://localhost:8080/",
          "height": 279
        },
        "id": "JVSwSx5mcvkI",
        "outputId": "6943e97c-f4f6-4f08-da62-5b42338933c6"
      },
      "execution_count": null,
      "outputs": [
        {
          "output_type": "display_data",
          "data": {
            "text/plain": [
              "<Figure size 432x288 with 1 Axes>"
            ],
            "image/png": "[encoded data removed]"
          },
          "metadata": {
            "needs_background": "light"
          }
        }
      ]
    },
    {
      "cell_type": "code",
      "source": [
        "plt.scatter(inputs.data, labels_pred.data, c='b', label='予測値')"
      ],
      "metadata": {
        "id": "gzwn_E6CdCZ_",
        "colab": {
          "base_uri": "https://localhost:8080/",
          "height": 282
        },
        "outputId": "60643f4d-ba08-4446-87ec-b418ba6b8f21"
      },
      "execution_count": null,
      "outputs": [
        {
          "output_type": "execute_result",
          "data": {
            "text/plain": [
              "<matplotlib.collections.PathCollection at 0x7feef4c3ea50>"
            ]
          },
          "metadata": {},
          "execution_count": 46
        },
        {
          "output_type": "display_data",
          "data": {
            "text/plain": [
              "<Figure size 432x288 with 1 Axes>"
            ],
            "image/png": "[encoded data removed]"
          },
          "metadata": {
            "needs_background": "light"
          }
        }
      ]
    },
    {
      "cell_type": "code",
      "source": [],
      "metadata": {
        "id": "ZQLXrd8PKWhr"
      },
      "execution_count": null,
      "outputs": []
    }
  ]
}